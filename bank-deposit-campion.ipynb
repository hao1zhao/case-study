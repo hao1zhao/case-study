{
 "cells": [
  {
   "cell_type": "markdown",
   "id": "f9709cb8",
   "metadata": {
    "papermill": {
     "duration": 0.018217,
     "end_time": "2022-08-08T01:14:22.656888",
     "exception": false,
     "start_time": "2022-08-08T01:14:22.638671",
     "status": "completed"
    },
    "tags": []
   },
   "source": [
    "# Table of contents\n",
    "***\n",
    "\n",
    "* [1. Introduction](#1)\n",
    "* [2. Data set review & preparation](#2)\n",
    "* [3. Exploratory Data Analysis](#3)\n",
    "* [4. Model fitting and selection](#4)\n",
    "* [5. Conclusion](#5)\n"
   ]
  },
  {
   "cell_type": "markdown",
   "id": "e126818c",
   "metadata": {
    "papermill": {
     "duration": 0.015422,
     "end_time": "2022-08-08T01:14:22.688058",
     "exception": false,
     "start_time": "2022-08-08T01:14:22.672636",
     "status": "completed"
    },
    "tags": []
   },
   "source": [
    "# <font color=\"#00bfff\"> 1. Introduction </font>\n",
    "<a id=\"1\"></a> \n",
    "***"
   ]
  },
  {
   "cell_type": "code",
   "execution_count": 1,
   "id": "ad2362ad",
   "metadata": {
    "execution": {
     "iopub.execute_input": "2022-08-08T01:14:22.723866Z",
     "iopub.status.busy": "2022-08-08T01:14:22.723040Z",
     "iopub.status.idle": "2022-08-08T01:14:24.256119Z",
     "shell.execute_reply": "2022-08-08T01:14:24.255091Z"
    },
    "papermill": {
     "duration": 1.556434,
     "end_time": "2022-08-08T01:14:24.260040",
     "exception": false,
     "start_time": "2022-08-08T01:14:22.703606",
     "status": "completed"
    },
    "tags": []
   },
   "outputs": [
    {
     "data": {
      "text/html": [
       "<div>\n",
       "<style scoped>\n",
       "    .dataframe tbody tr th:only-of-type {\n",
       "        vertical-align: middle;\n",
       "    }\n",
       "\n",
       "    .dataframe tbody tr th {\n",
       "        vertical-align: top;\n",
       "    }\n",
       "\n",
       "    .dataframe thead th {\n",
       "        text-align: right;\n",
       "    }\n",
       "</style>\n",
       "<table border=\"1\" class=\"dataframe\">\n",
       "  <thead>\n",
       "    <tr style=\"text-align: right;\">\n",
       "      <th></th>\n",
       "      <th>age</th>\n",
       "      <th>job</th>\n",
       "      <th>marital</th>\n",
       "      <th>education</th>\n",
       "      <th>default</th>\n",
       "      <th>balance</th>\n",
       "      <th>housing</th>\n",
       "      <th>loan</th>\n",
       "      <th>contact</th>\n",
       "      <th>day</th>\n",
       "      <th>month</th>\n",
       "      <th>duration</th>\n",
       "      <th>campaign</th>\n",
       "      <th>pdays</th>\n",
       "      <th>previous</th>\n",
       "      <th>poutcome</th>\n",
       "      <th>deposit</th>\n",
       "    </tr>\n",
       "  </thead>\n",
       "  <tbody>\n",
       "    <tr>\n",
       "      <th>0</th>\n",
       "      <td>59</td>\n",
       "      <td>admin.</td>\n",
       "      <td>married</td>\n",
       "      <td>secondary</td>\n",
       "      <td>no</td>\n",
       "      <td>2343</td>\n",
       "      <td>yes</td>\n",
       "      <td>no</td>\n",
       "      <td>unknown</td>\n",
       "      <td>5</td>\n",
       "      <td>may</td>\n",
       "      <td>1042</td>\n",
       "      <td>1</td>\n",
       "      <td>-1.0</td>\n",
       "      <td>0</td>\n",
       "      <td>unknown</td>\n",
       "      <td>yes</td>\n",
       "    </tr>\n",
       "    <tr>\n",
       "      <th>1</th>\n",
       "      <td>56</td>\n",
       "      <td>admin.</td>\n",
       "      <td>married</td>\n",
       "      <td>secondary</td>\n",
       "      <td>no</td>\n",
       "      <td>45</td>\n",
       "      <td>no</td>\n",
       "      <td>no</td>\n",
       "      <td>unknown</td>\n",
       "      <td>5</td>\n",
       "      <td>may</td>\n",
       "      <td>1467</td>\n",
       "      <td>1</td>\n",
       "      <td>-1.0</td>\n",
       "      <td>0</td>\n",
       "      <td>unknown</td>\n",
       "      <td>yes</td>\n",
       "    </tr>\n",
       "    <tr>\n",
       "      <th>2</th>\n",
       "      <td>41</td>\n",
       "      <td>technician</td>\n",
       "      <td>married</td>\n",
       "      <td>secondary</td>\n",
       "      <td>no</td>\n",
       "      <td>1270</td>\n",
       "      <td>yes</td>\n",
       "      <td>no</td>\n",
       "      <td>unknown</td>\n",
       "      <td>5</td>\n",
       "      <td>may</td>\n",
       "      <td>1389</td>\n",
       "      <td>1</td>\n",
       "      <td>-1.0</td>\n",
       "      <td>0</td>\n",
       "      <td>unknown</td>\n",
       "      <td>yes</td>\n",
       "    </tr>\n",
       "    <tr>\n",
       "      <th>3</th>\n",
       "      <td>55</td>\n",
       "      <td>services</td>\n",
       "      <td>married</td>\n",
       "      <td>secondary</td>\n",
       "      <td>no</td>\n",
       "      <td>2476</td>\n",
       "      <td>yes</td>\n",
       "      <td>no</td>\n",
       "      <td>unknown</td>\n",
       "      <td>5</td>\n",
       "      <td>may</td>\n",
       "      <td>579</td>\n",
       "      <td>1</td>\n",
       "      <td>-1.0</td>\n",
       "      <td>0</td>\n",
       "      <td>unknown</td>\n",
       "      <td>yes</td>\n",
       "    </tr>\n",
       "    <tr>\n",
       "      <th>4</th>\n",
       "      <td>54</td>\n",
       "      <td>admin.</td>\n",
       "      <td>married</td>\n",
       "      <td>tertiary</td>\n",
       "      <td>no</td>\n",
       "      <td>184</td>\n",
       "      <td>no</td>\n",
       "      <td>no</td>\n",
       "      <td>unknown</td>\n",
       "      <td>5</td>\n",
       "      <td>may</td>\n",
       "      <td>673</td>\n",
       "      <td>2</td>\n",
       "      <td>-1.0</td>\n",
       "      <td>0</td>\n",
       "      <td>unknown</td>\n",
       "      <td>yes</td>\n",
       "    </tr>\n",
       "  </tbody>\n",
       "</table>\n",
       "</div>"
      ],
      "text/plain": [
       "   age         job  marital  education default  balance housing loan  contact  \\\n",
       "0   59      admin.  married  secondary      no     2343     yes   no  unknown   \n",
       "1   56      admin.  married  secondary      no       45      no   no  unknown   \n",
       "2   41  technician  married  secondary      no     1270     yes   no  unknown   \n",
       "3   55    services  married  secondary      no     2476     yes   no  unknown   \n",
       "4   54      admin.  married   tertiary      no      184      no   no  unknown   \n",
       "\n",
       "   day month  duration  campaign  pdays  previous poutcome deposit  \n",
       "0    5   may      1042         1   -1.0         0  unknown     yes  \n",
       "1    5   may      1467         1   -1.0         0  unknown     yes  \n",
       "2    5   may      1389         1   -1.0         0  unknown     yes  \n",
       "3    5   may       579         1   -1.0         0  unknown     yes  \n",
       "4    5   may       673         2   -1.0         0  unknown     yes  "
      ]
     },
     "execution_count": 1,
     "metadata": {},
     "output_type": "execute_result"
    }
   ],
   "source": [
    "import numpy as np\n",
    "import pandas as pd\n",
    "import matplotlib.pyplot as plt\n",
    "import seaborn as sns\n",
    "from sklearn.preprocessing import StandardScaler, OneHotEncoder, LabelEncoder\n",
    "from plotly import tools\n",
    "import matplotlib.pyplot as plt\n",
    "# import plotly.plotly as py\n",
    "# import plotly.figure_factory as ff\n",
    "# import plotly.graph_objs as go\n",
    "# from plotly.offline import download_plotlyjs, init_notebook_mode, plot, iplot\n",
    "# init_notebook_mode(connected=True)\n",
    "df = pd.read_csv('../input/bank-data-set/bank.csv')\n",
    "\n",
    "df.head()"
   ]
  },
  {
   "cell_type": "code",
   "execution_count": 2,
   "id": "9383a890",
   "metadata": {
    "execution": {
     "iopub.execute_input": "2022-08-08T01:14:24.300484Z",
     "iopub.status.busy": "2022-08-08T01:14:24.299689Z",
     "iopub.status.idle": "2022-08-08T01:14:24.340425Z",
     "shell.execute_reply": "2022-08-08T01:14:24.339000Z"
    },
    "papermill": {
     "duration": 0.061088,
     "end_time": "2022-08-08T01:14:24.343266",
     "exception": false,
     "start_time": "2022-08-08T01:14:24.282178",
     "status": "completed"
    },
    "tags": []
   },
   "outputs": [
    {
     "name": "stdout",
     "output_type": "stream",
     "text": [
      "<class 'pandas.core.frame.DataFrame'>\n",
      "RangeIndex: 11162 entries, 0 to 11161\n",
      "Data columns (total 17 columns):\n",
      " #   Column     Non-Null Count  Dtype  \n",
      "---  ------     --------------  -----  \n",
      " 0   age        11162 non-null  int64  \n",
      " 1   job        11162 non-null  object \n",
      " 2   marital    11162 non-null  object \n",
      " 3   education  11162 non-null  object \n",
      " 4   default    11162 non-null  object \n",
      " 5   balance    11162 non-null  int64  \n",
      " 6   housing    11162 non-null  object \n",
      " 7   loan       11162 non-null  object \n",
      " 8   contact    11162 non-null  object \n",
      " 9   day        11162 non-null  int64  \n",
      " 10  month      11162 non-null  object \n",
      " 11  duration   11162 non-null  int64  \n",
      " 12  campaign   11162 non-null  int64  \n",
      " 13  pdays      11155 non-null  float64\n",
      " 14  previous   11162 non-null  int64  \n",
      " 15  poutcome   11162 non-null  object \n",
      " 16  deposit    11162 non-null  object \n",
      "dtypes: float64(1), int64(6), object(10)\n",
      "memory usage: 1.4+ MB\n"
     ]
    }
   ],
   "source": [
    "df.info()"
   ]
  },
  {
   "cell_type": "markdown",
   "id": "b24e9fae",
   "metadata": {
    "papermill": {
     "duration": 0.017038,
     "end_time": "2022-08-08T01:14:24.377033",
     "exception": false,
     "start_time": "2022-08-08T01:14:24.359995",
     "status": "completed"
    },
    "tags": []
   },
   "source": [
    "# Attributes Description:\n",
    "\n",
    "1 - **age:** (numeric)<br>\n",
    "2 - **job:** type of job (categorical: 'admin.','blue-collar','entrepreneur','housemaid','management','retired','self-employed','services','student','technician','unemployed','unknown')<br>\n",
    "3 - **marital:** marital status (categorical: 'divorced','married','single','unknown'; note: 'divorced' means divorced or widowed)<br>\n",
    "4 - **education:** (categorical: primary, secondary, tertiary and unknown)<br>\n",
    "5 - **default:** has credit in default? (categorical: 'no','yes','unknown')<br>\n",
    "6 - **housing:** has housing loan? (categorical: 'no','yes','unknown')<br>\n",
    "7 - **loan:** has personal loan? (categorical: 'no','yes','unknown')<br>\n",
    "8 - **balance:** Balance of the individual.\n",
    "\n",
    "8 - **contact:** contact communication type (categorical: 'cellular','telephone') <br>\n",
    "9 - **month:** last contact month of year (categorical: 'jan', 'feb', 'mar', ..., 'nov', 'dec')<br>\n",
    "10 - **day:** last contact day of the week (categorical: 'mon','tue','wed','thu','fri')<br>\n",
    "11 - **duration:** last contact duration, in seconds (numeric). Important note: this attribute highly affects the output target (e.g., if duration=0 then y='no'). Yet, the duration is not known before a call is performed. Also, after the end of the call y is obviously known. Thus, this input should only be included for benchmark purposes and should be discarded if the intention is to have a realistic predictive model.<br>\n",
    "\n",
    "12 - **campaign:** number of contacts performed during this campaign and for this client (numeric, includes last contact)<br>\n",
    "13 - **pdays:** number of days that passed by after the client was last contacted from a previous campaign (numeric; 999 means client was not previously contacted)<br>\n",
    "14 - **previous:** number of contacts performed before this campaign and for this client (numeric)<br>\n",
    "15 - **poutcome:** outcome of the previous marketing campaign (categorical: 'failure','nonexistent','success')<br>\n",
    "\n",
    "Output variable (desired target):<br>\n",
    "21 - **y** - has the client subscribed a term deposit? (binary: 'yes','no')"
   ]
  },
  {
   "cell_type": "markdown",
   "id": "a6bd1133",
   "metadata": {
    "papermill": {
     "duration": 0.01617,
     "end_time": "2022-08-08T01:14:24.410092",
     "exception": false,
     "start_time": "2022-08-08T01:14:24.393922",
     "status": "completed"
    },
    "tags": []
   },
   "source": [
    "# <font color=\"#00bfff\"> 2. Data set review & preparation\n",
    "<a id=\"2\"></a> \n",
    "***"
   ]
  },
  {
   "cell_type": "code",
   "execution_count": 3,
   "id": "81ea070d",
   "metadata": {
    "execution": {
     "iopub.execute_input": "2022-08-08T01:14:24.451076Z",
     "iopub.status.busy": "2022-08-08T01:14:24.449715Z",
     "iopub.status.idle": "2022-08-08T01:14:24.471046Z",
     "shell.execute_reply": "2022-08-08T01:14:24.470140Z"
    },
    "papermill": {
     "duration": 0.046067,
     "end_time": "2022-08-08T01:14:24.473240",
     "exception": false,
     "start_time": "2022-08-08T01:14:24.427173",
     "status": "completed"
    },
    "tags": []
   },
   "outputs": [
    {
     "data": {
      "text/plain": [
       "age          0\n",
       "job          0\n",
       "marital      0\n",
       "education    0\n",
       "default      0\n",
       "balance      0\n",
       "housing      0\n",
       "loan         0\n",
       "contact      0\n",
       "day          0\n",
       "month        0\n",
       "duration     0\n",
       "campaign     0\n",
       "pdays        7\n",
       "previous     0\n",
       "poutcome     0\n",
       "deposit      0\n",
       "dtype: int64"
      ]
     },
     "execution_count": 3,
     "metadata": {},
     "output_type": "execute_result"
    }
   ],
   "source": [
    "#Date cleaning\n",
    "#Missing value \n",
    "missing_values_count = df.isnull().sum()\n",
    "missing_values_count"
   ]
  },
  {
   "cell_type": "markdown",
   "id": "c33da989",
   "metadata": {
    "papermill": {
     "duration": 0.018556,
     "end_time": "2022-08-08T01:14:24.511504",
     "exception": false,
     "start_time": "2022-08-08T01:14:24.492948",
     "status": "completed"
    },
    "tags": []
   },
   "source": [
    "By looking at the documentation, I can see that pdays has missed some information, but all other information are intact. This means that these values are probably missing because they were not recorded, rather than because they don't exist. So, it would make sense for us to try and guess what they should be rather than just leaving them as NA's."
   ]
  },
  {
   "cell_type": "code",
   "execution_count": 4,
   "id": "b1d9814f",
   "metadata": {
    "execution": {
     "iopub.execute_input": "2022-08-08T01:14:24.551453Z",
     "iopub.status.busy": "2022-08-08T01:14:24.550511Z",
     "iopub.status.idle": "2022-08-08T01:14:24.561485Z",
     "shell.execute_reply": "2022-08-08T01:14:24.560204Z"
    },
    "papermill": {
     "duration": 0.032795,
     "end_time": "2022-08-08T01:14:24.565263",
     "exception": false,
     "start_time": "2022-08-08T01:14:24.532468",
     "status": "completed"
    },
    "tags": []
   },
   "outputs": [
    {
     "name": "stdout",
     "output_type": "stream",
     "text": [
      "mean 51.36\n",
      "median -1.0\n"
     ]
    }
   ],
   "source": [
    "pdays_median = df['pdays'].median()\n",
    "pdays_mean = df['pdays'].mean()\n",
    "print('mean',round(pdays_mean,2))\n",
    "print('median',pdays_median)"
   ]
  },
  {
   "cell_type": "code",
   "execution_count": 5,
   "id": "249eab75",
   "metadata": {
    "execution": {
     "iopub.execute_input": "2022-08-08T01:14:24.600699Z",
     "iopub.status.busy": "2022-08-08T01:14:24.600167Z",
     "iopub.status.idle": "2022-08-08T01:14:24.608532Z",
     "shell.execute_reply": "2022-08-08T01:14:24.607186Z"
    },
    "papermill": {
     "duration": 0.029775,
     "end_time": "2022-08-08T01:14:24.611919",
     "exception": false,
     "start_time": "2022-08-08T01:14:24.582144",
     "status": "completed"
    },
    "tags": []
   },
   "outputs": [
    {
     "name": "stdout",
     "output_type": "stream",
     "text": [
      "0.37 %\n"
     ]
    }
   ],
   "source": [
    "# How many total missing values do we have?\n",
    "total_cells = np.product(df.shape)\n",
    "total_missing = missing_values_count.sum()\n",
    "\n",
    "# Percent of data that is missing\n",
    "percent_missing = (total_missing/total_cells) * 100\n",
    "print(round(percent_missing * 100,2), '%')"
   ]
  },
  {
   "cell_type": "code",
   "execution_count": 6,
   "id": "5dd6167a",
   "metadata": {
    "execution": {
     "iopub.execute_input": "2022-08-08T01:14:24.647758Z",
     "iopub.status.busy": "2022-08-08T01:14:24.647339Z",
     "iopub.status.idle": "2022-08-08T01:14:24.666256Z",
     "shell.execute_reply": "2022-08-08T01:14:24.665147Z"
    },
    "papermill": {
     "duration": 0.040015,
     "end_time": "2022-08-08T01:14:24.668955",
     "exception": false,
     "start_time": "2022-08-08T01:14:24.628940",
     "status": "completed"
    },
    "tags": []
   },
   "outputs": [],
   "source": [
    "# The missing value accounts for 0.37%, I would like to use median to fill the missing part.\n",
    "df = df.fillna(pdays_median)\n",
    "term_deposits = df.copy()"
   ]
  },
  {
   "cell_type": "code",
   "execution_count": 7,
   "id": "ad1433d6",
   "metadata": {
    "execution": {
     "iopub.execute_input": "2022-08-08T01:14:24.704576Z",
     "iopub.status.busy": "2022-08-08T01:14:24.703748Z",
     "iopub.status.idle": "2022-08-08T01:14:24.720668Z",
     "shell.execute_reply": "2022-08-08T01:14:24.719515Z"
    },
    "papermill": {
     "duration": 0.038012,
     "end_time": "2022-08-08T01:14:24.723182",
     "exception": false,
     "start_time": "2022-08-08T01:14:24.685170",
     "status": "completed"
    },
    "tags": []
   },
   "outputs": [
    {
     "data": {
      "text/plain": [
       "age          0\n",
       "job          0\n",
       "marital      0\n",
       "education    0\n",
       "default      0\n",
       "balance      0\n",
       "housing      0\n",
       "loan         0\n",
       "contact      0\n",
       "day          0\n",
       "month        0\n",
       "duration     0\n",
       "campaign     0\n",
       "pdays        0\n",
       "previous     0\n",
       "poutcome     0\n",
       "deposit      0\n",
       "dtype: int64"
      ]
     },
     "execution_count": 7,
     "metadata": {},
     "output_type": "execute_result"
    }
   ],
   "source": [
    "# No more missing value\n",
    "missing_values_count = df.isnull().sum()\n",
    "missing_values_count "
   ]
  },
  {
   "cell_type": "markdown",
   "id": "d87034e0",
   "metadata": {
    "papermill": {
     "duration": 0.015975,
     "end_time": "2022-08-08T01:14:24.756271",
     "exception": false,
     "start_time": "2022-08-08T01:14:24.740296",
     "status": "completed"
    },
    "tags": []
   },
   "source": [
    "# <font color=\"#00bfff\"> 3. Exploratory Data Analysis\n",
    "<a id=\"3\"></a> \n",
    "***"
   ]
  },
  {
   "cell_type": "code",
   "execution_count": 8,
   "id": "62781b9e",
   "metadata": {
    "execution": {
     "iopub.execute_input": "2022-08-08T01:14:24.792419Z",
     "iopub.status.busy": "2022-08-08T01:14:24.791593Z",
     "iopub.status.idle": "2022-08-08T01:14:24.800143Z",
     "shell.execute_reply": "2022-08-08T01:14:24.798392Z"
    },
    "papermill": {
     "duration": 0.030604,
     "end_time": "2022-08-08T01:14:24.803508",
     "exception": false,
     "start_time": "2022-08-08T01:14:24.772904",
     "status": "completed"
    },
    "tags": []
   },
   "outputs": [
    {
     "name": "stdout",
     "output_type": "stream",
     "text": [
      "Categorical variables:\n",
      "['job', 'marital', 'education', 'default', 'housing', 'loan', 'contact', 'month', 'poutcome', 'deposit']\n"
     ]
    }
   ],
   "source": [
    "# Get list of categorical variables\n",
    "s = (df.dtypes == 'object')\n",
    "object_cols = list(s[s].index)\n",
    "\n",
    "print(\"Categorical variables:\")\n",
    "print(object_cols)"
   ]
  },
  {
   "cell_type": "code",
   "execution_count": 9,
   "id": "b736aa81",
   "metadata": {
    "execution": {
     "iopub.execute_input": "2022-08-08T01:14:24.839202Z",
     "iopub.status.busy": "2022-08-08T01:14:24.838380Z",
     "iopub.status.idle": "2022-08-08T01:14:24.859170Z",
     "shell.execute_reply": "2022-08-08T01:14:24.857815Z"
    },
    "papermill": {
     "duration": 0.041149,
     "end_time": "2022-08-08T01:14:24.861680",
     "exception": false,
     "start_time": "2022-08-08T01:14:24.820531",
     "status": "completed"
    },
    "tags": []
   },
   "outputs": [
    {
     "data": {
      "text/html": [
       "<div>\n",
       "<style scoped>\n",
       "    .dataframe tbody tr th:only-of-type {\n",
       "        vertical-align: middle;\n",
       "    }\n",
       "\n",
       "    .dataframe tbody tr th {\n",
       "        vertical-align: top;\n",
       "    }\n",
       "\n",
       "    .dataframe thead th {\n",
       "        text-align: right;\n",
       "    }\n",
       "</style>\n",
       "<table border=\"1\" class=\"dataframe\">\n",
       "  <thead>\n",
       "    <tr style=\"text-align: right;\">\n",
       "      <th></th>\n",
       "      <th>age</th>\n",
       "      <th>job</th>\n",
       "      <th>marital</th>\n",
       "      <th>education</th>\n",
       "      <th>default</th>\n",
       "      <th>balance</th>\n",
       "      <th>housing</th>\n",
       "      <th>loan</th>\n",
       "      <th>contact</th>\n",
       "      <th>day</th>\n",
       "      <th>month</th>\n",
       "      <th>duration</th>\n",
       "      <th>campaign</th>\n",
       "      <th>pdays</th>\n",
       "      <th>previous</th>\n",
       "      <th>poutcome</th>\n",
       "      <th>deposit</th>\n",
       "    </tr>\n",
       "  </thead>\n",
       "  <tbody>\n",
       "    <tr>\n",
       "      <th>0</th>\n",
       "      <td>59</td>\n",
       "      <td>admin.</td>\n",
       "      <td>married</td>\n",
       "      <td>secondary</td>\n",
       "      <td>no</td>\n",
       "      <td>2343</td>\n",
       "      <td>yes</td>\n",
       "      <td>no</td>\n",
       "      <td>unknown</td>\n",
       "      <td>5</td>\n",
       "      <td>may</td>\n",
       "      <td>1042</td>\n",
       "      <td>1</td>\n",
       "      <td>-1.0</td>\n",
       "      <td>0</td>\n",
       "      <td>unknown</td>\n",
       "      <td>yes</td>\n",
       "    </tr>\n",
       "    <tr>\n",
       "      <th>1</th>\n",
       "      <td>56</td>\n",
       "      <td>admin.</td>\n",
       "      <td>married</td>\n",
       "      <td>secondary</td>\n",
       "      <td>no</td>\n",
       "      <td>45</td>\n",
       "      <td>no</td>\n",
       "      <td>no</td>\n",
       "      <td>unknown</td>\n",
       "      <td>5</td>\n",
       "      <td>may</td>\n",
       "      <td>1467</td>\n",
       "      <td>1</td>\n",
       "      <td>-1.0</td>\n",
       "      <td>0</td>\n",
       "      <td>unknown</td>\n",
       "      <td>yes</td>\n",
       "    </tr>\n",
       "    <tr>\n",
       "      <th>2</th>\n",
       "      <td>41</td>\n",
       "      <td>technician</td>\n",
       "      <td>married</td>\n",
       "      <td>secondary</td>\n",
       "      <td>no</td>\n",
       "      <td>1270</td>\n",
       "      <td>yes</td>\n",
       "      <td>no</td>\n",
       "      <td>unknown</td>\n",
       "      <td>5</td>\n",
       "      <td>may</td>\n",
       "      <td>1389</td>\n",
       "      <td>1</td>\n",
       "      <td>-1.0</td>\n",
       "      <td>0</td>\n",
       "      <td>unknown</td>\n",
       "      <td>yes</td>\n",
       "    </tr>\n",
       "    <tr>\n",
       "      <th>3</th>\n",
       "      <td>55</td>\n",
       "      <td>services</td>\n",
       "      <td>married</td>\n",
       "      <td>secondary</td>\n",
       "      <td>no</td>\n",
       "      <td>2476</td>\n",
       "      <td>yes</td>\n",
       "      <td>no</td>\n",
       "      <td>unknown</td>\n",
       "      <td>5</td>\n",
       "      <td>may</td>\n",
       "      <td>579</td>\n",
       "      <td>1</td>\n",
       "      <td>-1.0</td>\n",
       "      <td>0</td>\n",
       "      <td>unknown</td>\n",
       "      <td>yes</td>\n",
       "    </tr>\n",
       "    <tr>\n",
       "      <th>4</th>\n",
       "      <td>54</td>\n",
       "      <td>admin.</td>\n",
       "      <td>married</td>\n",
       "      <td>tertiary</td>\n",
       "      <td>no</td>\n",
       "      <td>184</td>\n",
       "      <td>no</td>\n",
       "      <td>no</td>\n",
       "      <td>unknown</td>\n",
       "      <td>5</td>\n",
       "      <td>may</td>\n",
       "      <td>673</td>\n",
       "      <td>2</td>\n",
       "      <td>-1.0</td>\n",
       "      <td>0</td>\n",
       "      <td>unknown</td>\n",
       "      <td>yes</td>\n",
       "    </tr>\n",
       "  </tbody>\n",
       "</table>\n",
       "</div>"
      ],
      "text/plain": [
       "   age         job  marital  education default  balance housing loan  contact  \\\n",
       "0   59      admin.  married  secondary      no     2343     yes   no  unknown   \n",
       "1   56      admin.  married  secondary      no       45      no   no  unknown   \n",
       "2   41  technician  married  secondary      no     1270     yes   no  unknown   \n",
       "3   55    services  married  secondary      no     2476     yes   no  unknown   \n",
       "4   54      admin.  married   tertiary      no      184      no   no  unknown   \n",
       "\n",
       "   day month  duration  campaign  pdays  previous poutcome deposit  \n",
       "0    5   may      1042         1   -1.0         0  unknown     yes  \n",
       "1    5   may      1467         1   -1.0         0  unknown     yes  \n",
       "2    5   may      1389         1   -1.0         0  unknown     yes  \n",
       "3    5   may       579         1   -1.0         0  unknown     yes  \n",
       "4    5   may       673         2   -1.0         0  unknown     yes  "
      ]
     },
     "execution_count": 9,
     "metadata": {},
     "output_type": "execute_result"
    }
   ],
   "source": [
    "df.head()"
   ]
  },
  {
   "cell_type": "code",
   "execution_count": 10,
   "id": "1eb8ff50",
   "metadata": {
    "execution": {
     "iopub.execute_input": "2022-08-08T01:14:24.897583Z",
     "iopub.status.busy": "2022-08-08T01:14:24.896766Z",
     "iopub.status.idle": "2022-08-08T01:14:26.090301Z",
     "shell.execute_reply": "2022-08-08T01:14:26.089272Z"
    },
    "papermill": {
     "duration": 1.214302,
     "end_time": "2022-08-08T01:14:26.092524",
     "exception": false,
     "start_time": "2022-08-08T01:14:24.878222",
     "status": "completed"
    },
    "tags": []
   },
   "outputs": [
    {
     "data": {
      "image/png": "[encoded data removed]",
      "text/plain": [
       "<Figure size 1008x720 with 9 Axes>"
      ]
     },
     "metadata": {
      "needs_background": "light"
     },
     "output_type": "display_data"
    }
   ],
   "source": [
    "# Let's see how the numeric data is distributed.\n",
    "plt.style.use('seaborn-paper')\n",
    "df.hist(bins=15, figsize=(14,10), color='#0072BD')\n",
    "plt.show()"
   ]
  },
  {
   "cell_type": "code",
   "execution_count": 11,
   "id": "c25ff72d",
   "metadata": {
    "execution": {
     "iopub.execute_input": "2022-08-08T01:14:26.129993Z",
     "iopub.status.busy": "2022-08-08T01:14:26.128614Z",
     "iopub.status.idle": "2022-08-08T01:14:26.139409Z",
     "shell.execute_reply": "2022-08-08T01:14:26.138348Z"
    },
    "papermill": {
     "duration": 0.032446,
     "end_time": "2022-08-08T01:14:26.142206",
     "exception": false,
     "start_time": "2022-08-08T01:14:26.109760",
     "status": "completed"
    },
    "tags": []
   },
   "outputs": [],
   "source": [
    "df.deposit = df.deposit.map({'no':0, 'yes':1}).astype('uint8')"
   ]
  },
  {
   "cell_type": "code",
   "execution_count": 12,
   "id": "6689a8f4",
   "metadata": {
    "execution": {
     "iopub.execute_input": "2022-08-08T01:14:26.180750Z",
     "iopub.status.busy": "2022-08-08T01:14:26.179822Z",
     "iopub.status.idle": "2022-08-08T01:14:26.752766Z",
     "shell.execute_reply": "2022-08-08T01:14:26.751295Z"
    },
    "papermill": {
     "duration": 0.595781,
     "end_time": "2022-08-08T01:14:26.755577",
     "exception": false,
     "start_time": "2022-08-08T01:14:26.159796",
     "status": "completed"
    },
    "tags": []
   },
   "outputs": [
    {
     "data": {
      "image/png": "[encoded data removed]",
      "text/plain": [
       "<Figure size 1080x576 with 2 Axes>"
      ]
     },
     "metadata": {
      "needs_background": "light"
     },
     "output_type": "display_data"
    }
   ],
   "source": [
    "#correlation matrix\n",
    "plt.figure(figsize=(15,8))\n",
    "sns.heatmap(df.corr(), cmap=\"YlGnBu\",annot=True, fmt='.2f', vmin=0);"
   ]
  },
  {
   "cell_type": "markdown",
   "id": "513ccc66",
   "metadata": {
    "papermill": {
     "duration": 0.017785,
     "end_time": "2022-08-08T01:14:26.791558",
     "exception": false,
     "start_time": "2022-08-08T01:14:26.773773",
     "status": "completed"
    },
    "tags": []
   },
   "source": [
    "* most correlated with target feature is call duration. So we need to transform it to reduce the influence\n",
    "* higly correlated features (pdays and previous) may describe the relationship between campaign and client contact from different angles. Their variance might support model capacity for generalization."
   ]
  },
  {
   "cell_type": "markdown",
   "id": "e72b9a66",
   "metadata": {
    "papermill": {
     "duration": 0.017235,
     "end_time": "2022-08-08T01:14:26.826606",
     "exception": false,
     "start_time": "2022-08-08T01:14:26.809371",
     "status": "completed"
    },
    "tags": []
   },
   "source": [
    "<h3> Analysis by Job: </h3>\n"
   ]
  },
  {
   "cell_type": "code",
   "execution_count": 13,
   "id": "3f1620a7",
   "metadata": {
    "execution": {
     "iopub.execute_input": "2022-08-08T01:14:26.864586Z",
     "iopub.status.busy": "2022-08-08T01:14:26.864120Z",
     "iopub.status.idle": "2022-08-08T01:14:26.871680Z",
     "shell.execute_reply": "2022-08-08T01:14:26.870403Z"
    },
    "papermill": {
     "duration": 0.029712,
     "end_time": "2022-08-08T01:14:26.874161",
     "exception": false,
     "start_time": "2022-08-08T01:14:26.844449",
     "status": "completed"
    },
    "tags": []
   },
   "outputs": [],
   "source": [
    "# Build a function to show categorical values disribution\n",
    "def plot_bar(column):\n",
    "    # temp df \n",
    "    temp_1 = pd.DataFrame()\n",
    "    # count categorical values\n",
    "    temp_1['No_deposit'] = term_deposits[term_deposits['deposit'] == 'no'][column].value_counts()\n",
    "    temp_1['Yes_deposit'] = term_deposits[term_deposits['deposit'] == 'yes'][column].value_counts()\n",
    "    temp_1.plot(kind='bar',stacked=True)\n",
    "    plt.xlabel(f'{column}')\n",
    "    plt.ylabel('Number of clients')\n",
    "    plt.title('Distribution of {} and deposit'.format(column))\n",
    "    plt.show();"
   ]
  },
  {
   "cell_type": "code",
   "execution_count": 14,
   "id": "aee2ffed",
   "metadata": {
    "execution": {
     "iopub.execute_input": "2022-08-08T01:14:26.914098Z",
     "iopub.status.busy": "2022-08-08T01:14:26.913247Z",
     "iopub.status.idle": "2022-08-08T01:14:28.515635Z",
     "shell.execute_reply": "2022-08-08T01:14:28.514398Z"
    },
    "papermill": {
     "duration": 1.624225,
     "end_time": "2022-08-08T01:14:28.518177",
     "exception": false,
     "start_time": "2022-08-08T01:14:26.893952",
     "status": "completed"
    },
    "tags": []
   },
   "outputs": [
    {
     "data": {
      "image/png": "[encoded data removed]",
      "text/plain": [
       "<Figure size 460.8x316.8 with 1 Axes>"
      ]
     },
     "metadata": {
      "needs_background": "light"
     },
     "output_type": "display_data"
    },
    {
     "data": {
      "image/png": "[encoded data removed]",
      "text/plain": [
       "<Figure size 460.8x316.8 with 1 Axes>"
      ]
     },
     "metadata": {
      "needs_background": "light"
     },
     "output_type": "display_data"
    },
    {
     "data": {
      "image/png": "[encoded data removed]",
      "text/plain": [
       "<Figure size 460.8x316.8 with 1 Axes>"
      ]
     },
     "metadata": {
      "needs_background": "light"
     },
     "output_type": "display_data"
    },
    {
     "data": {
      "image/png": "[encoded data removed]",
      "text/plain": [
       "<Figure size 460.8x316.8 with 1 Axes>"
      ]
     },
     "metadata": {
      "needs_background": "light"
     },
     "output_type": "display_data"
    },
    {
     "data": {
      "image/png": "[encoded data removed]",
      "text/plain": [
       "<Figure size 460.8x316.8 with 1 Axes>"
      ]
     },
     "metadata": {
      "needs_background": "light"
     },
     "output_type": "display_data"
    },
    {
     "data": {
      "image/png": "[encoded data removed]",
      "text/plain": [
       "<Figure size 460.8x316.8 with 1 Axes>"
      ]
     },
     "metadata": {
      "needs_background": "light"
     },
     "output_type": "display_data"
    },
    {
     "data": {
      "text/plain": [
       "(None, None, None, None, None, None)"
      ]
     },
     "execution_count": 14,
     "metadata": {},
     "output_type": "execute_result"
    }
   ],
   "source": [
    "plot_bar('job'), plot_bar('marital'), plot_bar('education'), plot_bar('contact'), plot_bar('loan'), plot_bar('housing')"
   ]
  },
  {
   "cell_type": "markdown",
   "id": "4c2fd894",
   "metadata": {
    "papermill": {
     "duration": 0.022571,
     "end_time": "2022-08-08T01:14:28.560274",
     "exception": false,
     "start_time": "2022-08-08T01:14:28.537703",
     "status": "completed"
    },
    "tags": []
   },
   "source": [
    "* Administrative staff and technical specialists opened the deposit most of all. In relative terms, a high proportion of pensioners and students might be mentioned as well.\n",
    "* Best communication channel is secullar.\n",
    "* The difference is evident between consumers who already use the services of banks and received a loan.\n",
    "* Home ownership does affect marketing company performance."
   ]
  },
  {
   "cell_type": "markdown",
   "id": "919cde82",
   "metadata": {
    "papermill": {
     "duration": 0.01896,
     "end_time": "2022-08-08T01:14:28.598900",
     "exception": false,
     "start_time": "2022-08-08T01:14:28.579940",
     "status": "completed"
    },
    "tags": []
   },
   "source": [
    "<h3> Campaign Duration: </h3>"
   ]
  },
  {
   "cell_type": "markdown",
   "id": "f43d8c64",
   "metadata": {
    "papermill": {
     "duration": 0.019557,
     "end_time": "2022-08-08T01:14:28.638021",
     "exception": false,
     "start_time": "2022-08-08T01:14:28.618464",
     "status": "completed"
    },
    "tags": []
   },
   "source": [
    "**outlier**"
   ]
  },
  {
   "cell_type": "code",
   "execution_count": 15,
   "id": "721aadd2",
   "metadata": {
    "execution": {
     "iopub.execute_input": "2022-08-08T01:14:28.679434Z",
     "iopub.status.busy": "2022-08-08T01:14:28.678680Z",
     "iopub.status.idle": "2022-08-08T01:14:28.982157Z",
     "shell.execute_reply": "2022-08-08T01:14:28.981154Z"
    },
    "papermill": {
     "duration": 0.327301,
     "end_time": "2022-08-08T01:14:28.984572",
     "exception": false,
     "start_time": "2022-08-08T01:14:28.657271",
     "status": "completed"
    },
    "tags": []
   },
   "outputs": [
    {
     "data": {
      "text/plain": [
       "<seaborn.axisgrid.FacetGrid at 0x7fb1d3fd99d0>"
      ]
     },
     "execution_count": 15,
     "metadata": {},
     "output_type": "execute_result"
    },
    {
     "data": {
      "image/png": "[encoded data removed]",
      "text/plain": [
       "<Figure size 360x360 with 1 Axes>"
      ]
     },
     "metadata": {
      "needs_background": "light"
     },
     "output_type": "display_data"
    }
   ],
   "source": [
    "sns.displot(df['duration'],kind=\"ecdf\")"
   ]
  },
  {
   "cell_type": "markdown",
   "id": "717e1022",
   "metadata": {
    "papermill": {
     "duration": 0.019533,
     "end_time": "2022-08-08T01:14:29.023984",
     "exception": false,
     "start_time": "2022-08-08T01:14:29.004451",
     "status": "completed"
    },
    "tags": []
   },
   "source": [
    "The average campaign duration is 374.76, I think the outlier above 3500 should be excluded.  Long dial's holding time and frequently change receptionist maybe the reason that outlier duration value is too large. "
   ]
  },
  {
   "cell_type": "code",
   "execution_count": 16,
   "id": "8f17513b",
   "metadata": {
    "execution": {
     "iopub.execute_input": "2022-08-08T01:14:29.066134Z",
     "iopub.status.busy": "2022-08-08T01:14:29.065338Z",
     "iopub.status.idle": "2022-08-08T01:14:29.074850Z",
     "shell.execute_reply": "2022-08-08T01:14:29.073821Z"
    },
    "papermill": {
     "duration": 0.033098,
     "end_time": "2022-08-08T01:14:29.077133",
     "exception": false,
     "start_time": "2022-08-08T01:14:29.044035",
     "status": "completed"
    },
    "tags": []
   },
   "outputs": [],
   "source": [
    "#Remove everything above 99%\n",
    "term_duration = term_deposits.copy()\n",
    "term_duration= term_duration.loc[term_duration['duration'] <= np.quantile(term_duration['duration'],q=0.99)]"
   ]
  },
  {
   "cell_type": "code",
   "execution_count": 17,
   "id": "b0001318",
   "metadata": {
    "execution": {
     "iopub.execute_input": "2022-08-08T01:14:29.119157Z",
     "iopub.status.busy": "2022-08-08T01:14:29.118417Z",
     "iopub.status.idle": "2022-08-08T01:14:31.778659Z",
     "shell.execute_reply": "2022-08-08T01:14:31.777570Z"
    },
    "papermill": {
     "duration": 2.687704,
     "end_time": "2022-08-08T01:14:31.784735",
     "exception": false,
     "start_time": "2022-08-08T01:14:29.097031",
     "status": "completed"
    },
    "tags": []
   },
   "outputs": [
    {
     "data": {
      "text/html": [
       "        <script type=\"text/javascript\">\n",
       "        window.PlotlyConfig = {MathJaxConfig: 'local'};\n",
       "        if (window.MathJax && window.MathJax.Hub && window.MathJax.Hub.Config) {window.MathJax.Hub.Config({SVG: {font: \"STIX-Web\"}});}\n",
       "        if (typeof require !== 'undefined') {\n",
       "        require.undef(\"plotly\");\n",
       "        requirejs.config({\n",
       "            paths: {\n",
       "                'plotly': ['https://cdn.plot.ly/plotly-2.12.1.min']\n",
       "            }\n",
       "        });\n",
       "        require(['plotly'], function(Plotly) {\n",
       "            window._Plotly = Plotly;\n",
       "        });\n",
       "        }\n",
       "        </script>\n",
       "        "
      ]
     },
     "metadata": {},
     "output_type": "display_data"
    },
    {
     "data": {
      "text/html": [
       "<div>                            <div id=\"918e158c-769f-4c44-bee7-e26ded95e411\" class=\"plotly-graph-div\" style=\"height:525px; width:100%;\"></div>            <script type=\"text/javascript\">                require([\"plotly\"], function(Plotly) {                    window.PLOTLYENV=window.PLOTLYENV || {};                                    if (document.getElementById(\"918e158c-769f-4c44-bee7-e26ded95e411\")) {                    Plotly.newPlot(                        \"918e158c-769f-4c44-bee7-e26ded95e411\",                        [{\"alignmentgroup\":\"True\",\"hovertemplate\":\"deposit=yes<br>job=%{x}<br>duration=%{y}<extra></extra>\",\"legendgroup\":\"yes\",\"marker\":{\"color\":\"#636efa\"},\"name\":\"yes\",\"notched\":false,\"offsetgroup\":\"yes\",\"orientation\":\"v\",\"showlegend\":true,\"x\":[\"admin.\",\"admin.\",\"technician\",\"services\",\"admin.\",\"management\",\"management\",\"retired\",\"technician\",\"services\",\"admin.\",\"blue-collar\",\"blue-collar\",\"technician\",\"management\",\"blue-collar\",\"services\",\"admin.\",\"admin.\",\"admin.\",\"management\",\"blue-collar\",\"unemployed\",\"blue-collar\",\"technician\",\"blue-collar\",\"admin.\",\"blue-collar\",\"blue-collar\",\"technician\",\"blue-collar\",\"blue-collar\",\"management\",\"blue-collar\",\"management\",\"management\",\"entrepreneur\",\"blue-collar\",\"management\",\"entrepreneur\",\"blue-collar\",\"management\",\"blue-collar\",\"housemaid\",\"technician\",\"blue-collar\",\"blue-collar\",\"management\",\"retired\",\"blue-collar\",\"blue-collar\",\"admin.\",\"blue-collar\",\"retired\",\"technician\",\"technician\",\"blue-collar\",\"blue-collar\",\"blue-collar\",\"blue-collar\",\"blue-collar\",\"blue-collar\",\"unknown\",\"services\",\"admin.\",\"technician\",\"services\",\"management\",\"retired\",\"blue-collar\",\"services\",\"technician\",\"self-employed\",\"blue-collar\",\"blue-collar\",\"admin.\",\"services\",\"blue-collar\",\"technician\",\"admin.\",\"technician\",\"management\",\"technician\",\"blue-collar\",\"management\",\"admin.\",\"blue-collar\",\"admin.\",\"blue-collar\",\"services\",\"technician\",\"technician\",\"blue-collar\",\"blue-collar\",\"blue-collar\",\"blue-collar\",\"technician\",\"admin.\",\"technician\",\"blue-collar\",\"blue-collar\",\"blue-collar\",\"blue-collar\",\"blue-collar\",\"technician\",\"management\",\"blue-collar\",\"technician\",\"blue-collar\",\"management\",\"technician\",\"technician\",\"technician\",\"blue-collar\",\"blue-collar\",\"blue-collar\",\"self-employed\",\"blue-collar\",\"blue-collar\",\"admin.\",\"blue-collar\",\"management\",\"blue-collar\",\"blue-collar\",\"technician\",\"technician\",\"services\",\"blue-collar\",\"self-employed\",\"admin.\",\"blue-collar\",\"management\",\"admin.\",\"admin.\",\"management\",\"services\",\"blue-collar\",\"services\",\"retired\",\"entrepreneur\",\"admin.\",\"admin.\",\"blue-collar\",\"management\",\"management\",\"technician\",\"services\",\"self-employed\",\"management\",\"services\",\"management\",\"entrepreneur\",\"blue-collar\",\"admin.\",\"blue-collar\",\"unemployed\",\"blue-collar\",\"technician\",\"management\",\"admin.\",\"blue-collar\",\"blue-collar\",\"management\",\"blue-collar\",\"blue-collar\",\"management\",\"technician\",\"blue-collar\",\"management\",\"management\",\"admin.\",\"services\",\"unemployed\",\"management\",\"technician\",\"technician\",\"services\",\"unemployed\",\"blue-collar\",\"technician\",\"management\",\"management\",\"technician\",\"unemployed\",\"management\",\"entrepreneur\",\"blue-collar\",\"management\",\"services\",\"blue-collar\",\"services\",\"technician\",\"services\",\"management\",\"management\",\"blue-collar\",\"blue-collar\",\"technician\",\"blue-collar\",\"blue-collar\",\"management\",\"technician\",\"unemployed\",\"self-employed\",\"entrepreneur\",\"management\",\"services\",\"services\",\"management\",\"blue-collar\",\"admin.\",\"technician\",\"management\",\"admin.\",\"services\",\"blue-collar\",\"blue-collar\",\"management\",\"management\",\"services\",\"self-employed\",\"blue-collar\",\"admin.\",\"blue-collar\",\"retired\",\"entrepreneur\",\"entrepreneur\",\"management\",\"admin.\",\"blue-collar\",\"management\",\"services\",\"housemaid\",\"blue-collar\",\"housemaid\",\"housemaid\",\"self-employed\",\"technician\",\"blue-collar\",\"blue-collar\",\"technician\",\"admin.\",\"blue-collar\",\"admin.\",\"management\",\"services\",\"technician\",\"management\",\"blue-collar\",\"blue-collar\",\"management\",\"services\",\"management\",\"self-employed\",\"technician\",\"blue-collar\",\"blue-collar\",\"self-employed\",\"entrepreneur\",\"admin.\",\"admin.\",\"management\",\"housemaid\",\"retired\",\"retired\",\"blue-collar\",\"management\",\"blue-collar\",\"unemployed\",\"admin.\",\"blue-collar\",\"admin.\",\"self-employed\",\"housemaid\",\"management\",\"blue-collar\",\"blue-collar\",\"management\",\"blue-collar\",\"blue-collar\",\"blue-collar\",\"retired\",\"entrepreneur\",\"services\",\"blue-collar\",\"unemployed\",\"management\",\"blue-collar\",\"technician\",\"management\",\"management\",\"technician\",\"student\",\"management\",\"blue-collar\",\"self-employed\",\"services\",\"admin.\",\"management\",\"blue-collar\",\"entrepreneur\",\"technician\",\"admin.\",\"blue-collar\",\"blue-collar\",\"blue-collar\",\"retired\",\"technician\",\"housemaid\",\"services\",\"entrepreneur\",\"retired\",\"blue-collar\",\"blue-collar\",\"blue-collar\",\"blue-collar\",\"unemployed\",\"services\",\"blue-collar\",\"retired\",\"services\",\"management\",\"management\",\"technician\",\"blue-collar\",\"services\",\"blue-collar\",\"management\",\"management\",\"blue-collar\",\"services\",\"unemployed\",\"blue-collar\",\"admin.\",\"management\",\"blue-collar\",\"blue-collar\",\"technician\",\"blue-collar\",\"admin.\",\"blue-collar\",\"technician\",\"technician\",\"services\",\"services\",\"technician\",\"blue-collar\",\"blue-collar\",\"technician\",\"technician\",\"blue-collar\",\"services\",\"entrepreneur\",\"technician\",\"self-employed\",\"unemployed\",\"self-employed\",\"technician\",\"admin.\",\"blue-collar\",\"blue-collar\",\"technician\",\"blue-collar\",\"management\",\"entrepreneur\",\"entrepreneur\",\"self-employed\",\"technician\",\"blue-collar\",\"blue-collar\",\"entrepreneur\",\"management\",\"services\",\"blue-collar\",\"technician\",\"blue-collar\",\"admin.\",\"technician\",\"blue-collar\",\"unemployed\",\"blue-collar\",\"admin.\",\"blue-collar\",\"services\",\"blue-collar\",\"admin.\",\"services\",\"management\",\"technician\",\"management\",\"blue-collar\",\"management\",\"blue-collar\",\"unemployed\",\"blue-collar\",\"blue-collar\",\"blue-collar\",\"entrepreneur\",\"admin.\",\"admin.\",\"blue-collar\",\"blue-collar\",\"services\",\"services\",\"admin.\",\"management\",\"blue-collar\",\"blue-collar\",\"management\",\"student\",\"blue-collar\",\"blue-collar\",\"retired\",\"management\",\"management\",\"admin.\",\"technician\",\"entrepreneur\",\"technician\",\"entrepreneur\",\"technician\",\"admin.\",\"services\",\"technician\",\"technician\",\"management\",\"services\",\"management\",\"entrepreneur\",\"blue-collar\",\"services\",\"retired\",\"entrepreneur\",\"management\",\"blue-collar\",\"entrepreneur\",\"student\",\"entrepreneur\",\"management\",\"blue-collar\",\"management\",\"technician\",\"management\",\"blue-collar\",\"blue-collar\",\"technician\",\"unemployed\",\"blue-collar\",\"blue-collar\",\"blue-collar\",\"blue-collar\",\"admin.\",\"blue-collar\",\"services\",\"student\",\"housemaid\",\"blue-collar\",\"technician\",\"blue-collar\",\"services\",\"management\",\"services\",\"blue-collar\",\"admin.\",\"technician\",\"housemaid\",\"blue-collar\",\"management\",\"services\",\"blue-collar\",\"entrepreneur\",\"housemaid\",\"services\",\"technician\",\"blue-collar\",\"blue-collar\",\"self-employed\",\"blue-collar\",\"admin.\",\"admin.\",\"admin.\",\"entrepreneur\",\"blue-collar\",\"admin.\",\"blue-collar\",\"entrepreneur\",\"management\",\"services\",\"retired\",\"technician\",\"management\",\"management\",\"technician\",\"retired\",\"unemployed\",\"housemaid\",\"blue-collar\",\"admin.\",\"technician\",\"management\",\"services\",\"management\",\"management\",\"management\",\"management\",\"technician\",\"technician\",\"management\",\"blue-collar\",\"services\",\"blue-collar\",\"admin.\",\"admin.\",\"management\",\"management\",\"blue-collar\",\"technician\",\"services\",\"management\",\"blue-collar\",\"technician\",\"entrepreneur\",\"technician\",\"admin.\",\"admin.\",\"admin.\",\"self-employed\",\"services\",\"technician\",\"entrepreneur\",\"services\",\"blue-collar\",\"entrepreneur\",\"entrepreneur\",\"management\",\"admin.\",\"blue-collar\",\"management\",\"student\",\"admin.\",\"blue-collar\",\"services\",\"technician\",\"services\",\"retired\",\"technician\",\"technician\",\"blue-collar\",\"blue-collar\",\"technician\",\"services\",\"blue-collar\",\"housemaid\",\"technician\",\"management\",\"blue-collar\",\"management\",\"blue-collar\",\"retired\",\"management\",\"blue-collar\",\"technician\",\"technician\",\"management\",\"management\",\"self-employed\",\"housemaid\",\"housemaid\",\"technician\",\"technician\",\"services\",\"self-employed\",\"blue-collar\",\"retired\",\"technician\",\"admin.\",\"management\",\"services\",\"blue-collar\",\"retired\",\"unemployed\",\"admin.\",\"blue-collar\",\"admin.\",\"housemaid\",\"blue-collar\",\"services\",\"management\",\"unemployed\",\"entrepreneur\",\"management\",\"unemployed\",\"retired\",\"services\",\"management\",\"blue-collar\",\"entrepreneur\",\"housemaid\",\"technician\",\"management\",\"retired\",\"entrepreneur\",\"management\",\"housemaid\",\"admin.\",\"technician\",\"unemployed\",\"self-employed\",\"blue-collar\",\"blue-collar\",\"technician\",\"unemployed\",\"entrepreneur\",\"housemaid\",\"services\",\"blue-collar\",\"blue-collar\",\"technician\",\"management\",\"admin.\",\"services\",\"technician\",\"housemaid\",\"management\",\"retired\",\"technician\",\"management\",\"retired\",\"technician\",\"technician\",\"blue-collar\",\"retired\",\"housemaid\",\"unknown\",\"management\",\"retired\",\"technician\",\"management\",\"blue-collar\",\"technician\",\"services\",\"technician\",\"technician\",\"technician\",\"technician\",\"technician\",\"retired\",\"retired\",\"admin.\",\"management\",\"admin.\",\"management\",\"services\",\"management\",\"management\",\"management\",\"technician\",\"technician\",\"management\",\"technician\",\"technician\",\"technician\",\"self-employed\",\"blue-collar\",\"admin.\",\"blue-collar\",\"management\",\"technician\",\"admin.\",\"technician\",\"blue-collar\",\"management\",\"management\",\"technician\",\"self-employed\",\"technician\",\"technician\",\"management\",\"technician\",\"technician\",\"technician\",\"services\",\"management\",\"management\",\"management\",\"technician\",\"management\",\"management\",\"services\",\"services\",\"technician\",\"management\",\"management\",\"technician\",\"management\",\"management\",\"blue-collar\",\"management\",\"management\",\"management\",\"housemaid\",\"management\",\"management\",\"management\",\"management\",\"management\",\"management\",\"technician\",\"blue-collar\",\"management\",\"blue-collar\",\"unemployed\",\"retired\",\"management\",\"blue-collar\",\"unemployed\",\"management\",\"technician\",\"management\",\"technician\",\"blue-collar\",\"blue-collar\",\"unemployed\",\"blue-collar\",\"management\",\"management\",\"management\",\"management\",\"management\",\"technician\",\"management\",\"retired\",\"technician\",\"technician\",\"management\",\"management\",\"technician\",\"self-employed\",\"retired\",\"technician\",\"management\",\"management\",\"management\",\"services\",\"management\",\"technician\",\"technician\",\"admin.\",\"management\",\"management\",\"technician\",\"retired\",\"technician\",\"entrepreneur\",\"management\",\"housemaid\",\"services\",\"technician\",\"management\",\"blue-collar\",\"management\",\"technician\",\"management\",\"blue-collar\",\"management\",\"technician\",\"blue-collar\",\"management\",\"technician\",\"management\",\"management\",\"blue-collar\",\"management\",\"technician\",\"management\",\"retired\",\"technician\",\"technician\",\"management\",\"management\",\"self-employed\",\"management\",\"management\",\"admin.\",\"self-employed\",\"technician\",\"management\",\"technician\",\"admin.\",\"technician\",\"technician\",\"admin.\",\"technician\",\"technician\",\"technician\",\"management\",\"services\",\"services\",\"admin.\",\"blue-collar\",\"management\",\"management\",\"self-employed\",\"technician\",\"management\",\"blue-collar\",\"management\",\"entrepreneur\",\"admin.\",\"unemployed\",\"retired\",\"technician\",\"management\",\"housemaid\",\"blue-collar\",\"blue-collar\",\"management\",\"management\",\"blue-collar\",\"technician\",\"retired\",\"unknown\",\"admin.\",\"technician\",\"self-employed\",\"technician\",\"management\",\"retired\",\"services\",\"management\",\"technician\",\"management\",\"management\",\"management\",\"technician\",\"admin.\",\"management\",\"technician\",\"management\",\"technician\",\"self-employed\",\"admin.\",\"technician\",\"management\",\"technician\",\"admin.\",\"admin.\",\"services\",\"admin.\",\"blue-collar\",\"student\",\"technician\",\"self-employed\",\"admin.\",\"entrepreneur\",\"technician\",\"technician\",\"admin.\",\"management\",\"admin.\",\"admin.\",\"entrepreneur\",\"management\",\"admin.\",\"management\",\"technician\",\"management\",\"management\",\"management\",\"technician\",\"retired\",\"housemaid\",\"blue-collar\",\"admin.\",\"blue-collar\",\"retired\",\"management\",\"technician\",\"management\",\"services\",\"retired\",\"management\",\"management\",\"technician\",\"blue-collar\",\"admin.\",\"management\",\"management\",\"self-employed\",\"admin.\",\"blue-collar\",\"housemaid\",\"blue-collar\",\"entrepreneur\",\"student\",\"unemployed\",\"blue-collar\",\"blue-collar\",\"management\",\"technician\",\"technician\",\"blue-collar\",\"blue-collar\",\"unemployed\",\"retired\",\"management\",\"retired\",\"technician\",\"entrepreneur\",\"technician\",\"blue-collar\",\"technician\",\"entrepreneur\",\"management\",\"technician\",\"management\",\"management\",\"management\",\"management\",\"technician\",\"entrepreneur\",\"management\",\"management\",\"self-employed\",\"admin.\",\"entrepreneur\",\"management\",\"management\",\"services\",\"self-employed\",\"management\",\"management\",\"retired\",\"services\",\"unemployed\",\"technician\",\"blue-collar\",\"blue-collar\",\"unemployed\",\"self-employed\",\"blue-collar\",\"technician\",\"entrepreneur\",\"technician\",\"self-employed\",\"management\",\"management\",\"technician\",\"blue-collar\",\"blue-collar\",\"services\",\"services\",\"technician\",\"self-employed\",\"technician\",\"self-employed\",\"management\",\"services\",\"technician\",\"blue-collar\",\"services\",\"entrepreneur\",\"services\",\"technician\",\"unemployed\",\"services\",\"self-employed\",\"blue-collar\",\"blue-collar\",\"technician\",\"management\",\"blue-collar\",\"admin.\",\"management\",\"management\",\"entrepreneur\",\"technician\",\"services\",\"technician\",\"retired\",\"admin.\",\"blue-collar\",\"entrepreneur\",\"blue-collar\",\"blue-collar\",\"blue-collar\",\"unemployed\",\"blue-collar\",\"services\",\"blue-collar\",\"management\",\"admin.\",\"blue-collar\",\"technician\",\"admin.\",\"self-employed\",\"management\",\"management\",\"management\",\"housemaid\",\"admin.\",\"admin.\",\"services\",\"management\",\"technician\",\"blue-collar\",\"blue-collar\",\"blue-collar\",\"management\",\"services\",\"admin.\",\"admin.\",\"management\",\"management\",\"unemployed\",\"technician\",\"management\",\"technician\",\"entrepreneur\",\"technician\",\"student\",\"student\",\"management\",\"management\",\"unemployed\",\"unknown\",\"management\",\"management\",\"services\",\"admin.\",\"technician\",\"management\",\"blue-collar\",\"management\",\"services\",\"admin.\",\"management\",\"unemployed\",\"management\",\"unemployed\",\"technician\",\"unknown\",\"unknown\",\"technician\",\"unemployed\",\"services\",\"admin.\",\"blue-collar\",\"blue-collar\",\"unemployed\",\"technician\",\"blue-collar\",\"management\",\"services\",\"technician\",\"technician\",\"services\",\"admin.\",\"entrepreneur\",\"unemployed\",\"services\",\"technician\",\"unemployed\",\"technician\",\"technician\",\"management\",\"unemployed\",\"unemployed\",\"unemployed\",\"student\",\"retired\",\"management\",\"admin.\",\"admin.\",\"management\",\"services\",\"management\",\"management\",\"management\",\"self-employed\",\"admin.\",\"services\",\"blue-collar\",\"student\",\"technician\",\"management\",\"technician\",\"admin.\",\"admin.\",\"retired\",\"management\",\"technician\",\"technician\",\"management\",\"blue-collar\",\"technician\",\"retired\",\"unemployed\",\"management\",\"entrepreneur\",\"self-employed\",\"management\",\"technician\",\"management\",\"unemployed\",\"admin.\",\"self-employed\",\"management\",\"retired\",\"management\",\"self-employed\",\"admin.\",\"unemployed\",\"retired\",\"self-employed\",\"blue-collar\",\"management\",\"blue-collar\",\"services\",\"unemployed\",\"admin.\",\"blue-collar\",\"technician\",\"admin.\",\"management\",\"management\",\"management\",\"technician\",\"entrepreneur\",\"unemployed\",\"technician\",\"services\",\"management\",\"technician\",\"entrepreneur\",\"technician\",\"entrepreneur\",\"management\",\"management\",\"services\",\"management\",\"technician\",\"technician\",\"management\",\"management\",\"blue-collar\",\"management\",\"services\",\"retired\",\"blue-collar\",\"student\",\"management\",\"services\",\"technician\",\"self-employed\",\"blue-collar\",\"retired\",\"admin.\",\"admin.\",\"technician\",\"technician\",\"admin.\",\"blue-collar\",\"technician\",\"management\",\"retired\",\"technician\",\"blue-collar\",\"management\",\"management\",\"retired\",\"services\",\"technician\",\"management\",\"student\",\"admin.\",\"management\",\"retired\",\"retired\",\"admin.\",\"technician\",\"technician\",\"management\",\"management\",\"retired\",\"admin.\",\"retired\",\"management\",\"retired\",\"admin.\",\"entrepreneur\",\"admin.\",\"technician\",\"services\",\"self-employed\",\"blue-collar\",\"management\",\"technician\",\"student\",\"retired\",\"retired\",\"technician\",\"admin.\",\"retired\",\"services\",\"retired\",\"retired\",\"management\",\"retired\",\"management\",\"entrepreneur\",\"technician\",\"student\",\"blue-collar\",\"unemployed\",\"retired\",\"technician\",\"technician\",\"management\",\"admin.\",\"management\",\"technician\",\"retired\",\"housemaid\",\"admin.\",\"unemployed\",\"management\",\"management\",\"technician\",\"admin.\",\"management\",\"technician\",\"retired\",\"management\",\"technician\",\"unemployed\",\"technician\",\"blue-collar\",\"services\",\"services\",\"technician\",\"technician\",\"management\",\"management\",\"technician\",\"admin.\",\"management\",\"admin.\",\"technician\",\"blue-collar\",\"unknown\",\"self-employed\",\"technician\",\"management\",\"management\",\"management\",\"retired\",\"management\",\"student\",\"retired\",\"management\",\"retired\",\"self-employed\",\"management\",\"student\",\"technician\",\"management\",\"management\",\"blue-collar\",\"management\",\"management\",\"management\",\"self-employed\",\"unemployed\",\"management\",\"management\",\"management\",\"management\",\"retired\",\"management\",\"management\",\"management\",\"admin.\",\"management\",\"housemaid\",\"management\",\"entrepreneur\",\"technician\",\"services\",\"management\",\"self-employed\",\"management\",\"technician\",\"entrepreneur\",\"services\",\"admin.\",\"admin.\",\"management\",\"technician\",\"management\",\"management\",\"admin.\",\"admin.\",\"technician\",\"housemaid\",\"management\",\"services\",\"management\",\"technician\",\"unemployed\",\"management\",\"retired\",\"management\",\"retired\",\"student\",\"management\",\"student\",\"management\",\"admin.\",\"technician\",\"retired\",\"management\",\"management\",\"admin.\",\"retired\",\"student\",\"management\",\"management\",\"retired\",\"management\",\"admin.\",\"admin.\",\"blue-collar\",\"management\",\"technician\",\"self-employed\",\"admin.\",\"admin.\",\"management\",\"blue-collar\",\"admin.\",\"unknown\",\"management\",\"blue-collar\",\"blue-collar\",\"blue-collar\",\"self-employed\",\"entrepreneur\",\"technician\",\"management\",\"blue-collar\",\"management\",\"admin.\",\"blue-collar\",\"blue-collar\",\"self-employed\",\"unemployed\",\"blue-collar\",\"admin.\",\"technician\",\"blue-collar\",\"technician\",\"unemployed\",\"management\",\"technician\",\"admin.\",\"retired\",\"management\",\"admin.\",\"management\",\"student\",\"technician\",\"student\",\"services\",\"blue-collar\",\"management\",\"admin.\",\"technician\",\"technician\",\"services\",\"technician\",\"admin.\",\"admin.\",\"retired\",\"student\",\"management\",\"blue-collar\",\"management\",\"blue-collar\",\"technician\",\"blue-collar\",\"services\",\"blue-collar\",\"management\",\"technician\",\"management\",\"services\",\"self-employed\",\"management\",\"management\",\"management\",\"admin.\",\"student\",\"technician\",\"services\",\"retired\",\"self-employed\",\"housemaid\",\"management\",\"retired\",\"housemaid\",\"unemployed\",\"admin.\",\"unemployed\",\"management\",\"services\",\"retired\",\"services\",\"technician\",\"admin.\",\"services\",\"blue-collar\",\"services\",\"blue-collar\",\"housemaid\",\"admin.\",\"technician\",\"management\",\"blue-collar\",\"unemployed\",\"management\",\"management\",\"blue-collar\",\"housemaid\",\"technician\",\"entrepreneur\",\"admin.\",\"technician\",\"services\",\"management\",\"blue-collar\",\"management\",\"blue-collar\",\"management\",\"technician\",\"management\",\"technician\",\"technician\",\"services\",\"technician\",\"management\",\"technician\",\"student\",\"services\",\"admin.\",\"retired\",\"blue-collar\",\"management\",\"management\",\"blue-collar\",\"admin.\",\"self-employed\",\"services\",\"management\",\"management\",\"blue-collar\",\"technician\",\"technician\",\"management\",\"technician\",\"technician\",\"management\",\"self-employed\",\"retired\",\"technician\",\"admin.\",\"technician\",\"technician\",\"technician\",\"entrepreneur\",\"technician\",\"management\",\"management\",\"management\",\"unknown\",\"blue-collar\",\"blue-collar\",\"retired\",\"retired\",\"blue-collar\",\"management\",\"blue-collar\",\"technician\",\"blue-collar\",\"retired\",\"technician\",\"self-employed\",\"retired\",\"management\",\"student\",\"admin.\",\"unemployed\",\"blue-collar\",\"retired\",\"management\",\"entrepreneur\",\"management\",\"services\",\"technician\",\"blue-collar\",\"blue-collar\",\"student\",\"blue-collar\",\"management\",\"student\",\"technician\",\"retired\",\"retired\",\"retired\",\"technician\",\"management\",\"retired\",\"unemployed\",\"student\",\"blue-collar\",\"self-employed\",\"retired\",\"unknown\",\"blue-collar\",\"admin.\",\"management\",\"technician\",\"student\",\"unknown\",\"technician\",\"admin.\",\"services\",\"retired\",\"retired\",\"management\",\"management\",\"management\",\"admin.\",\"student\",\"technician\",\"management\",\"management\",\"management\",\"retired\",\"management\",\"blue-collar\",\"management\",\"blue-collar\",\"services\",\"admin.\",\"services\",\"blue-collar\",\"management\",\"retired\",\"unemployed\",\"management\",\"blue-collar\",\"management\",\"technician\",\"technician\",\"admin.\",\"management\",\"retired\",\"self-employed\",\"admin.\",\"blue-collar\",\"blue-collar\",\"admin.\",\"technician\",\"technician\",\"management\",\"admin.\",\"unemployed\",\"retired\",\"services\",\"technician\",\"management\",\"management\",\"student\",\"unemployed\",\"retired\",\"technician\",\"retired\",\"blue-collar\",\"admin.\",\"student\",\"student\",\"blue-collar\",\"management\",\"management\",\"technician\",\"admin.\",\"technician\",\"management\",\"blue-collar\",\"blue-collar\",\"self-employed\",\"technician\",\"admin.\",\"technician\",\"blue-collar\",\"self-employed\",\"blue-collar\",\"student\",\"unknown\",\"management\",\"admin.\",\"management\",\"technician\",\"services\",\"retired\",\"management\",\"technician\",\"management\",\"management\",\"admin.\",\"technician\",\"blue-collar\",\"management\",\"management\",\"management\",\"services\",\"management\",\"admin.\",\"technician\",\"admin.\",\"management\",\"unemployed\",\"technician\",\"technician\",\"admin.\",\"management\",\"self-employed\",\"management\",\"self-employed\",\"technician\",\"management\",\"services\",\"student\",\"management\",\"management\",\"student\",\"admin.\",\"technician\",\"management\",\"management\",\"technician\",\"technician\",\"admin.\",\"management\",\"services\",\"student\",\"management\",\"entrepreneur\",\"blue-collar\",\"management\",\"technician\",\"management\",\"admin.\",\"admin.\",\"technician\",\"retired\",\"management\",\"management\",\"blue-collar\",\"blue-collar\",\"management\",\"retired\",\"admin.\",\"technician\",\"technician\",\"admin.\",\"management\",\"student\",\"management\",\"management\",\"blue-collar\",\"admin.\",\"blue-collar\",\"management\",\"unemployed\",\"management\",\"technician\",\"blue-collar\",\"student\",\"blue-collar\",\"technician\",\"technician\",\"management\",\"admin.\",\"technician\",\"admin.\",\"technician\",\"technician\",\"technician\",\"services\",\"student\",\"self-employed\",\"technician\",\"management\",\"management\",\"self-employed\",\"technician\",\"self-employed\",\"self-employed\",\"management\",\"blue-collar\",\"blue-collar\",\"management\",\"management\",\"management\",\"retired\",\"technician\",\"student\",\"management\",\"student\",\"entrepreneur\",\"technician\",\"blue-collar\",\"retired\",\"blue-collar\",\"services\",\"student\",\"blue-collar\",\"admin.\",\"management\",\"management\",\"blue-collar\",\"self-employed\",\"management\",\"services\",\"blue-collar\",\"technician\",\"admin.\",\"admin.\",\"technician\",\"self-employed\",\"technician\",\"technician\",\"management\",\"entrepreneur\",\"blue-collar\",\"admin.\",\"management\",\"admin.\",\"management\",\"admin.\",\"admin.\",\"blue-collar\",\"management\",\"management\",\"management\",\"management\",\"management\",\"management\",\"management\",\"management\",\"management\",\"blue-collar\",\"admin.\",\"management\",\"management\",\"services\",\"admin.\",\"blue-collar\",\"services\",\"technician\",\"admin.\",\"blue-collar\",\"technician\",\"management\",\"admin.\",\"blue-collar\",\"housemaid\",\"blue-collar\",\"unemployed\",\"blue-collar\",\"admin.\",\"services\",\"technician\",\"blue-collar\",\"admin.\",\"technician\",\"admin.\",\"blue-collar\",\"management\",\"management\",\"blue-collar\",\"management\",\"management\",\"technician\",\"technician\",\"blue-collar\",\"admin.\",\"retired\",\"retired\",\"management\",\"self-employed\",\"self-employed\",\"admin.\",\"management\",\"services\",\"services\",\"blue-collar\",\"services\",\"management\",\"services\",\"blue-collar\",\"student\",\"management\",\"blue-collar\",\"admin.\",\"entrepreneur\",\"admin.\",\"housemaid\",\"blue-collar\",\"admin.\",\"blue-collar\",\"entrepreneur\",\"services\",\"blue-collar\",\"admin.\",\"blue-collar\",\"management\",\"admin.\",\"blue-collar\",\"services\",\"blue-collar\",\"blue-collar\",\"admin.\",\"services\",\"blue-collar\",\"blue-collar\",\"blue-collar\",\"admin.\",\"admin.\",\"technician\",\"services\",\"services\",\"management\",\"self-employed\",\"admin.\",\"blue-collar\",\"blue-collar\",\"blue-collar\",\"blue-collar\",\"admin.\",\"blue-collar\",\"blue-collar\",\"blue-collar\",\"housemaid\",\"blue-collar\",\"management\",\"blue-collar\",\"blue-collar\",\"housemaid\",\"technician\",\"blue-collar\",\"admin.\",\"blue-collar\",\"blue-collar\",\"management\",\"management\",\"management\",\"management\",\"blue-collar\",\"admin.\",\"admin.\",\"services\",\"services\",\"blue-collar\",\"student\",\"management\",\"blue-collar\",\"services\",\"blue-collar\",\"technician\",\"management\",\"blue-collar\",\"services\",\"blue-collar\",\"technician\",\"blue-collar\",\"admin.\",\"blue-collar\",\"blue-collar\",\"blue-collar\",\"admin.\",\"management\",\"self-employed\",\"blue-collar\",\"management\",\"services\",\"blue-collar\",\"admin.\",\"admin.\",\"management\",\"blue-collar\",\"admin.\",\"blue-collar\",\"management\",\"blue-collar\",\"admin.\",\"admin.\",\"management\",\"blue-collar\",\"blue-collar\",\"blue-collar\",\"services\",\"management\",\"blue-collar\",\"admin.\",\"retired\",\"blue-collar\",\"services\",\"blue-collar\",\"admin.\",\"management\",\"admin.\",\"services\",\"retired\",\"technician\",\"services\",\"services\",\"services\",\"retired\",\"services\",\"services\",\"services\",\"blue-collar\",\"blue-collar\",\"blue-collar\",\"admin.\",\"admin.\",\"housemaid\",\"technician\",\"services\",\"management\",\"admin.\",\"blue-collar\",\"technician\",\"blue-collar\",\"blue-collar\",\"management\",\"student\",\"services\",\"entrepreneur\",\"unemployed\",\"technician\",\"services\",\"services\",\"entrepreneur\",\"retired\",\"student\",\"management\",\"admin.\",\"admin.\",\"blue-collar\",\"entrepreneur\",\"admin.\",\"admin.\",\"management\",\"admin.\",\"blue-collar\",\"management\",\"management\",\"admin.\",\"blue-collar\",\"self-employed\",\"services\",\"blue-collar\",\"blue-collar\",\"management\",\"blue-collar\",\"blue-collar\",\"technician\",\"services\",\"blue-collar\",\"management\",\"admin.\",\"services\",\"technician\",\"admin.\",\"blue-collar\",\"technician\",\"blue-collar\",\"blue-collar\",\"blue-collar\",\"management\",\"blue-collar\",\"services\",\"blue-collar\",\"admin.\",\"technician\",\"retired\",\"blue-collar\",\"housemaid\",\"blue-collar\",\"services\",\"blue-collar\",\"admin.\",\"entrepreneur\",\"technician\",\"blue-collar\",\"blue-collar\",\"blue-collar\",\"blue-collar\",\"blue-collar\",\"technician\",\"blue-collar\",\"management\",\"self-employed\",\"technician\",\"services\",\"admin.\",\"unemployed\",\"blue-collar\",\"admin.\",\"management\",\"technician\",\"admin.\",\"services\",\"management\",\"technician\",\"management\",\"services\",\"technician\",\"student\",\"management\",\"management\",\"student\",\"services\",\"management\",\"management\",\"blue-collar\",\"management\",\"management\",\"admin.\",\"retired\",\"technician\",\"blue-collar\",\"student\",\"technician\",\"technician\",\"management\",\"technician\",\"blue-collar\",\"retired\",\"management\",\"admin.\",\"services\",\"services\",\"technician\",\"technician\",\"technician\",\"technician\",\"student\",\"technician\",\"technician\",\"student\",\"technician\",\"management\",\"management\",\"technician\",\"management\",\"retired\",\"management\",\"retired\",\"student\",\"student\",\"student\",\"student\",\"management\",\"admin.\",\"admin.\",\"self-employed\",\"admin.\",\"admin.\",\"admin.\",\"admin.\",\"admin.\",\"admin.\",\"admin.\",\"technician\",\"retired\",\"management\",\"admin.\",\"admin.\",\"student\",\"management\",\"admin.\",\"management\",\"management\",\"unemployed\",\"management\",\"technician\",\"housemaid\",\"blue-collar\",\"management\",\"admin.\",\"management\",\"admin.\",\"technician\",\"technician\",\"management\",\"technician\",\"management\",\"technician\",\"blue-collar\",\"services\",\"management\",\"services\",\"management\",\"self-employed\",\"unemployed\",\"student\",\"admin.\",\"management\",\"blue-collar\",\"management\",\"management\",\"admin.\",\"management\",\"admin.\",\"management\",\"management\",\"unemployed\",\"blue-collar\",\"technician\",\"admin.\",\"services\",\"technician\",\"admin.\",\"services\",\"technician\",\"technician\",\"admin.\",\"student\",\"technician\",\"services\",\"blue-collar\",\"blue-collar\",\"technician\",\"entrepreneur\",\"blue-collar\",\"management\",\"technician\",\"technician\",\"technician\",\"unemployed\",\"technician\",\"self-employed\",\"admin.\",\"entrepreneur\",\"management\",\"blue-collar\",\"management\",\"blue-collar\",\"admin.\",\"technician\",\"management\",\"student\",\"admin.\",\"management\",\"management\",\"technician\",\"management\",\"admin.\",\"blue-collar\",\"management\",\"retired\",\"unemployed\",\"blue-collar\",\"blue-collar\",\"blue-collar\",\"management\",\"management\",\"services\",\"management\",\"admin.\",\"management\",\"services\",\"management\",\"student\",\"student\",\"admin.\",\"services\",\"management\",\"technician\",\"management\",\"management\",\"technician\",\"admin.\",\"admin.\",\"entrepreneur\",\"blue-collar\",\"unemployed\",\"services\",\"management\",\"student\",\"admin.\",\"admin.\",\"admin.\",\"management\",\"management\",\"admin.\",\"retired\",\"technician\",\"retired\",\"self-employed\",\"student\",\"technician\",\"management\",\"retired\",\"management\",\"blue-collar\",\"technician\",\"housemaid\",\"management\",\"unemployed\",\"unemployed\",\"self-employed\",\"unemployed\",\"management\",\"blue-collar\",\"services\",\"technician\",\"technician\",\"admin.\",\"self-employed\",\"technician\",\"blue-collar\",\"admin.\",\"entrepreneur\",\"management\",\"technician\",\"services\",\"management\",\"self-employed\",\"management\",\"management\",\"admin.\",\"services\",\"entrepreneur\",\"technician\",\"retired\",\"management\",\"management\",\"services\",\"student\",\"management\",\"admin.\",\"admin.\",\"admin.\",\"management\",\"management\",\"management\",\"blue-collar\",\"technician\",\"services\",\"technician\",\"management\",\"retired\",\"management\",\"services\",\"management\",\"management\",\"retired\",\"management\",\"retired\",\"admin.\",\"retired\",\"retired\",\"management\",\"management\",\"student\",\"management\",\"entrepreneur\",\"self-employed\",\"retired\",\"blue-collar\",\"blue-collar\",\"services\",\"retired\",\"technician\",\"management\",\"management\",\"entrepreneur\",\"technician\",\"management\",\"housemaid\",\"admin.\",\"blue-collar\",\"admin.\",\"blue-collar\",\"management\",\"retired\",\"services\",\"unemployed\",\"self-employed\",\"unemployed\",\"blue-collar\",\"admin.\",\"entrepreneur\",\"management\",\"blue-collar\",\"management\",\"technician\",\"services\",\"retired\",\"retired\",\"admin.\",\"management\",\"services\",\"technician\",\"retired\",\"management\",\"unemployed\",\"student\",\"retired\",\"housemaid\",\"management\",\"management\",\"student\",\"retired\",\"retired\",\"technician\",\"management\",\"blue-collar\",\"management\",\"student\",\"management\",\"student\",\"student\",\"blue-collar\",\"management\",\"management\",\"blue-collar\",\"student\",\"entrepreneur\",\"management\",\"management\",\"management\",\"admin.\",\"management\",\"management\",\"technician\",\"technician\",\"retired\",\"technician\",\"management\",\"technician\",\"management\",\"self-employed\",\"admin.\",\"management\",\"student\",\"admin.\",\"management\",\"management\",\"management\",\"student\",\"unemployed\",\"management\",\"services\",\"management\",\"admin.\",\"unknown\",\"retired\",\"retired\",\"management\",\"retired\",\"admin.\",\"management\",\"management\",\"technician\",\"services\",\"retired\",\"admin.\",\"retired\",\"unemployed\",\"admin.\",\"management\",\"admin.\",\"services\",\"unemployed\",\"technician\",\"entrepreneur\",\"retired\",\"student\",\"management\",\"student\",\"technician\",\"retired\",\"self-employed\",\"self-employed\",\"management\",\"blue-collar\",\"unemployed\",\"services\",\"housemaid\",\"technician\",\"retired\",\"blue-collar\",\"unemployed\",\"management\",\"management\",\"technician\",\"admin.\",\"management\",\"admin.\",\"admin.\",\"self-employed\",\"blue-collar\",\"services\",\"student\",\"self-employed\",\"technician\",\"management\",\"retired\",\"student\",\"admin.\",\"management\",\"technician\",\"management\",\"student\",\"management\",\"management\",\"blue-collar\",\"technician\",\"services\",\"services\",\"technician\",\"retired\",\"unemployed\",\"blue-collar\",\"management\",\"admin.\",\"admin.\",\"services\",\"technician\",\"student\",\"management\",\"retired\",\"technician\",\"management\",\"retired\",\"management\",\"technician\",\"retired\",\"technician\",\"management\",\"management\",\"unemployed\",\"admin.\",\"unemployed\",\"management\",\"student\",\"management\",\"blue-collar\",\"management\",\"technician\",\"management\",\"retired\",\"management\",\"unemployed\",\"entrepreneur\",\"blue-collar\",\"admin.\",\"management\",\"retired\",\"retired\",\"services\",\"management\",\"technician\",\"retired\",\"management\",\"management\",\"student\",\"student\",\"housemaid\",\"management\",\"technician\",\"technician\",\"retired\",\"admin.\",\"technician\",\"retired\",\"admin.\",\"management\",\"management\",\"management\",\"management\",\"technician\",\"student\",\"entrepreneur\",\"self-employed\",\"technician\",\"management\",\"housemaid\",\"management\",\"student\",\"admin.\",\"management\",\"student\",\"retired\",\"technician\",\"student\",\"admin.\",\"retired\",\"retired\",\"blue-collar\",\"unemployed\",\"management\",\"technician\",\"housemaid\",\"blue-collar\",\"technician\",\"retired\",\"retired\",\"management\",\"services\",\"housemaid\",\"retired\",\"technician\",\"retired\",\"retired\",\"retired\",\"management\",\"management\",\"management\",\"blue-collar\",\"retired\",\"technician\",\"technician\",\"technician\",\"unemployed\",\"blue-collar\",\"unemployed\",\"management\",\"technician\",\"blue-collar\",\"admin.\",\"management\",\"student\",\"management\",\"management\",\"blue-collar\",\"management\",\"blue-collar\",\"management\",\"management\",\"management\",\"admin.\",\"management\",\"technician\",\"retired\",\"retired\",\"services\",\"admin.\",\"self-employed\",\"admin.\",\"unemployed\",\"admin.\",\"management\",\"management\",\"admin.\",\"technician\",\"retired\",\"admin.\",\"retired\",\"technician\",\"admin.\",\"retired\",\"technician\",\"management\",\"services\",\"management\",\"retired\",\"admin.\",\"retired\",\"student\",\"self-employed\",\"technician\",\"admin.\",\"management\",\"management\",\"student\",\"management\",\"management\",\"blue-collar\",\"retired\",\"retired\",\"retired\",\"management\",\"retired\",\"unemployed\",\"retired\",\"management\",\"admin.\",\"management\",\"admin.\",\"management\",\"entrepreneur\",\"unknown\",\"admin.\",\"technician\",\"technician\",\"retired\",\"blue-collar\",\"retired\",\"blue-collar\",\"management\",\"retired\",\"retired\",\"admin.\",\"retired\",\"technician\",\"technician\",\"admin.\",\"blue-collar\",\"housemaid\",\"blue-collar\",\"services\",\"technician\",\"management\",\"unemployed\",\"management\",\"management\",\"housemaid\",\"technician\",\"management\",\"management\",\"management\",\"retired\",\"retired\",\"management\",\"blue-collar\",\"admin.\",\"retired\",\"management\",\"admin.\",\"management\",\"retired\",\"management\",\"management\",\"management\",\"blue-collar\",\"entrepreneur\",\"student\",\"technician\",\"management\",\"management\",\"management\",\"management\",\"management\",\"retired\",\"technician\",\"retired\",\"management\",\"management\",\"admin.\",\"unknown\",\"blue-collar\",\"technician\",\"retired\",\"management\",\"admin.\",\"admin.\",\"unemployed\",\"technician\",\"student\",\"retired\",\"management\",\"entrepreneur\",\"management\",\"management\",\"self-employed\",\"technician\",\"admin.\",\"retired\",\"management\",\"housemaid\",\"technician\",\"management\",\"blue-collar\",\"admin.\",\"services\",\"unemployed\",\"management\",\"retired\",\"retired\",\"management\",\"services\",\"management\",\"management\",\"retired\",\"services\",\"technician\",\"technician\",\"management\",\"technician\",\"blue-collar\",\"services\",\"housemaid\",\"student\",\"technician\",\"retired\",\"retired\",\"technician\",\"retired\",\"technician\",\"admin.\",\"management\",\"management\",\"housemaid\",\"student\",\"unemployed\",\"management\",\"retired\",\"management\",\"self-employed\",\"technician\",\"retired\",\"student\",\"admin.\",\"management\",\"blue-collar\",\"retired\",\"technician\",\"retired\",\"technician\",\"self-employed\",\"blue-collar\",\"retired\",\"retired\",\"technician\",\"retired\",\"management\",\"technician\",\"services\",\"blue-collar\",\"retired\",\"technician\",\"management\",\"management\",\"management\",\"technician\",\"retired\",\"retired\",\"retired\",\"retired\",\"unknown\",\"technician\",\"technician\",\"blue-collar\",\"services\",\"student\",\"unknown\",\"admin.\",\"management\",\"housemaid\",\"management\",\"retired\",\"student\",\"self-employed\",\"retired\",\"retired\",\"admin.\",\"housemaid\",\"management\",\"management\",\"management\",\"technician\",\"admin.\",\"retired\",\"management\",\"blue-collar\",\"management\",\"retired\",\"technician\",\"management\",\"retired\",\"management\",\"management\",\"technician\",\"student\",\"management\",\"technician\",\"blue-collar\",\"retired\",\"retired\",\"retired\",\"management\",\"services\",\"student\",\"retired\",\"technician\",\"self-employed\",\"management\",\"student\",\"management\",\"management\",\"management\",\"admin.\",\"retired\",\"self-employed\",\"management\",\"technician\",\"management\",\"retired\",\"management\",\"technician\",\"retired\",\"technician\",\"admin.\",\"student\",\"student\",\"management\",\"self-employed\",\"entrepreneur\",\"management\",\"student\",\"management\",\"management\",\"management\",\"housemaid\",\"unemployed\",\"admin.\",\"management\",\"management\",\"management\",\"technician\",\"services\",\"management\",\"management\",\"student\",\"self-employed\",\"student\",\"blue-collar\",\"management\",\"technician\",\"services\",\"management\",\"unemployed\",\"management\",\"unknown\",\"retired\",\"management\",\"blue-collar\",\"retired\",\"admin.\",\"student\",\"services\",\"technician\",\"admin.\",\"retired\",\"retired\",\"retired\",\"admin.\",\"student\",\"services\",\"technician\",\"retired\",\"services\",\"retired\",\"technician\",\"retired\",\"student\",\"admin.\",\"blue-collar\",\"admin.\",\"retired\",\"blue-collar\",\"management\",\"student\",\"technician\",\"management\",\"technician\",\"blue-collar\",\"retired\",\"admin.\",\"management\",\"technician\",\"retired\",\"retired\",\"technician\",\"technician\",\"management\",\"admin.\",\"management\",\"student\",\"retired\",\"admin.\",\"housemaid\",\"technician\",\"student\",\"admin.\",\"technician\",\"blue-collar\",\"retired\",\"technician\",\"admin.\",\"retired\",\"management\",\"unemployed\",\"technician\",\"services\",\"retired\",\"management\",\"student\",\"management\",\"management\",\"student\",\"admin.\",\"retired\",\"management\",\"student\",\"technician\",\"student\",\"admin.\",\"management\",\"admin.\",\"technician\",\"unemployed\",\"retired\",\"retired\",\"retired\",\"retired\",\"services\",\"management\",\"retired\",\"retired\",\"management\",\"management\",\"management\",\"retired\",\"retired\",\"retired\",\"technician\",\"management\",\"entrepreneur\",\"management\",\"student\",\"management\",\"retired\",\"retired\",\"retired\",\"services\",\"management\",\"housemaid\",\"student\",\"management\",\"retired\",\"services\",\"admin.\",\"retired\",\"technician\",\"self-employed\",\"unemployed\",\"admin.\",\"management\",\"retired\",\"blue-collar\",\"unemployed\",\"management\",\"retired\",\"management\",\"technician\",\"technician\",\"admin.\",\"management\",\"student\",\"management\",\"services\",\"unemployed\",\"management\",\"management\",\"retired\",\"technician\",\"retired\",\"admin.\",\"management\",\"retired\",\"unemployed\",\"technician\",\"blue-collar\",\"technician\",\"self-employed\",\"student\",\"retired\",\"student\",\"self-employed\",\"unemployed\",\"retired\",\"technician\",\"student\",\"management\",\"technician\",\"retired\",\"blue-collar\",\"technician\",\"unemployed\",\"admin.\",\"admin.\",\"services\",\"admin.\",\"retired\",\"management\",\"admin.\",\"retired\",\"retired\",\"retired\",\"technician\",\"blue-collar\",\"retired\",\"retired\",\"admin.\",\"retired\",\"management\",\"unemployed\",\"retired\",\"admin.\",\"retired\",\"unknown\",\"admin.\",\"services\",\"housemaid\",\"admin.\",\"student\",\"admin.\",\"technician\",\"retired\",\"student\",\"management\",\"services\",\"blue-collar\",\"management\",\"retired\",\"technician\",\"technician\",\"admin.\",\"admin.\",\"retired\",\"blue-collar\",\"retired\",\"admin.\",\"retired\",\"technician\",\"management\",\"management\",\"entrepreneur\",\"retired\",\"retired\",\"management\",\"student\",\"services\",\"housemaid\",\"technician\",\"technician\",\"retired\",\"technician\",\"admin.\",\"blue-collar\",\"technician\",\"management\",\"retired\",\"admin.\",\"retired\",\"management\",\"services\",\"management\",\"student\",\"retired\",\"admin.\",\"admin.\",\"technician\",\"unemployed\",\"retired\",\"technician\",\"blue-collar\",\"management\",\"admin.\",\"housemaid\",\"unemployed\",\"blue-collar\",\"admin.\",\"retired\",\"management\",\"student\",\"admin.\",\"management\",\"management\",\"student\",\"technician\",\"student\",\"student\",\"entrepreneur\",\"management\",\"admin.\",\"blue-collar\",\"admin.\",\"student\",\"admin.\",\"management\",\"unemployed\",\"student\",\"retired\",\"technician\",\"unemployed\",\"management\",\"management\",\"technician\",\"management\",\"unknown\",\"student\",\"retired\",\"admin.\",\"retired\",\"retired\",\"blue-collar\",\"management\",\"technician\",\"blue-collar\",\"self-employed\",\"retired\",\"retired\",\"blue-collar\",\"retired\",\"retired\",\"retired\",\"technician\",\"technician\",\"management\",\"unemployed\",\"management\",\"blue-collar\",\"management\",\"technician\",\"student\",\"technician\",\"management\",\"management\",\"unemployed\",\"management\",\"technician\",\"services\",\"management\",\"technician\",\"student\",\"admin.\",\"management\",\"unemployed\",\"student\",\"management\",\"management\",\"student\",\"self-employed\",\"blue-collar\",\"management\",\"technician\",\"technician\",\"management\",\"retired\",\"services\",\"admin.\",\"management\",\"self-employed\",\"blue-collar\",\"student\",\"retired\",\"retired\",\"management\",\"management\",\"unknown\",\"management\",\"housemaid\",\"admin.\",\"retired\",\"management\",\"unemployed\",\"self-employed\",\"management\",\"management\",\"student\",\"housemaid\",\"admin.\",\"retired\",\"retired\",\"admin.\",\"self-employed\",\"services\",\"technician\",\"technician\",\"student\",\"management\",\"retired\",\"technician\",\"retired\",\"management\",\"technician\",\"management\",\"retired\",\"blue-collar\",\"technician\",\"services\",\"technician\",\"management\",\"technician\",\"retired\",\"technician\",\"student\",\"student\",\"retired\",\"student\",\"technician\",\"retired\",\"management\",\"management\",\"management\",\"admin.\",\"retired\",\"student\",\"admin.\",\"blue-collar\",\"retired\",\"retired\",\"services\",\"unemployed\",\"management\",\"services\",\"management\",\"retired\",\"technician\",\"unemployed\",\"unemployed\",\"management\",\"management\",\"retired\",\"management\",\"retired\",\"technician\",\"management\",\"management\",\"management\",\"services\",\"management\",\"student\",\"management\",\"blue-collar\",\"unemployed\",\"retired\",\"management\",\"unemployed\",\"retired\",\"admin.\",\"retired\",\"management\",\"retired\",\"blue-collar\",\"retired\",\"retired\",\"housemaid\",\"management\",\"admin.\",\"management\",\"retired\",\"unemployed\",\"admin.\",\"management\",\"blue-collar\",\"management\",\"management\",\"technician\",\"technician\",\"management\",\"management\",\"management\",\"admin.\",\"management\",\"self-employed\",\"student\",\"management\",\"services\",\"services\",\"management\",\"management\",\"management\",\"management\",\"technician\",\"self-employed\",\"admin.\",\"management\",\"services\",\"housemaid\",\"admin.\",\"retired\",\"management\",\"student\",\"management\",\"technician\",\"retired\",\"retired\",\"management\",\"technician\",\"blue-collar\",\"admin.\",\"admin.\",\"technician\",\"student\",\"student\",\"management\",\"technician\",\"management\",\"management\",\"management\",\"self-employed\",\"management\",\"retired\",\"technician\",\"management\",\"management\",\"management\",\"admin.\",\"unemployed\",\"admin.\",\"management\",\"management\",\"management\",\"management\",\"blue-collar\",\"management\",\"student\",\"technician\",\"services\",\"management\",\"retired\",\"technician\",\"technician\",\"management\",\"blue-collar\",\"technician\",\"management\",\"services\",\"management\",\"management\",\"management\",\"student\",\"management\",\"student\",\"unemployed\",\"blue-collar\",\"blue-collar\",\"technician\",\"admin.\",\"student\",\"blue-collar\",\"student\",\"technician\",\"management\",\"technician\",\"retired\",\"admin.\",\"self-employed\",\"technician\",\"retired\",\"management\",\"management\",\"admin.\",\"technician\",\"management\",\"blue-collar\",\"management\",\"technician\",\"unemployed\",\"blue-collar\",\"unemployed\",\"management\",\"admin.\",\"admin.\",\"retired\",\"retired\",\"self-employed\",\"management\",\"retired\",\"housemaid\",\"technician\",\"management\",\"unemployed\",\"retired\",\"admin.\",\"technician\",\"self-employed\",\"management\",\"student\",\"retired\",\"unemployed\",\"management\",\"technician\",\"admin.\",\"admin.\",\"blue-collar\",\"blue-collar\",\"unemployed\",\"housemaid\",\"retired\",\"management\",\"retired\",\"technician\",\"admin.\",\"technician\",\"management\",\"retired\",\"student\",\"retired\",\"student\",\"blue-collar\",\"technician\",\"management\",\"technician\",\"technician\",\"unknown\",\"management\",\"management\",\"management\",\"retired\",\"technician\",\"management\",\"services\",\"student\",\"technician\",\"unemployed\",\"unknown\",\"admin.\",\"retired\",\"management\",\"blue-collar\",\"technician\",\"management\",\"management\",\"retired\",\"blue-collar\",\"technician\",\"admin.\",\"management\",\"admin.\",\"admin.\",\"admin.\",\"management\",\"retired\",\"unemployed\",\"retired\",\"management\",\"management\",\"student\",\"management\",\"management\",\"management\",\"admin.\",\"retired\",\"retired\",\"retired\",\"admin.\",\"admin.\",\"technician\",\"technician\",\"management\",\"retired\",\"blue-collar\",\"technician\",\"self-employed\",\"unemployed\",\"student\",\"retired\",\"admin.\",\"student\",\"technician\",\"admin.\",\"unemployed\",\"management\",\"management\",\"technician\",\"services\",\"technician\",\"technician\",\"technician\",\"management\",\"admin.\",\"retired\",\"unemployed\",\"housemaid\",\"retired\",\"services\",\"technician\",\"blue-collar\",\"unemployed\",\"management\",\"services\",\"housemaid\",\"technician\",\"admin.\",\"technician\",\"admin.\",\"blue-collar\",\"services\",\"management\",\"management\",\"admin.\",\"blue-collar\",\"admin.\",\"admin.\",\"technician\",\"admin.\",\"technician\",\"retired\",\"retired\",\"management\",\"retired\",\"blue-collar\",\"management\",\"services\",\"blue-collar\",\"retired\",\"blue-collar\",\"management\",\"student\",\"technician\",\"student\",\"admin.\",\"admin.\",\"admin.\",\"retired\",\"services\",\"retired\",\"self-employed\",\"retired\",\"admin.\",\"management\",\"technician\",\"retired\",\"student\",\"housemaid\",\"management\",\"technician\",\"technician\",\"technician\",\"management\",\"blue-collar\",\"technician\",\"blue-collar\",\"blue-collar\",\"management\",\"retired\",\"management\",\"management\",\"management\",\"student\",\"services\",\"self-employed\",\"management\",\"technician\",\"blue-collar\",\"technician\",\"technician\",\"management\",\"management\",\"management\",\"housemaid\",\"technician\",\"admin.\",\"retired\",\"management\",\"retired\",\"retired\",\"blue-collar\",\"blue-collar\",\"admin.\",\"services\",\"unemployed\",\"management\",\"technician\",\"admin.\",\"management\",\"technician\",\"retired\",\"management\",\"retired\",\"student\",\"services\",\"blue-collar\",\"student\",\"management\",\"services\",\"technician\",\"admin.\",\"management\",\"management\",\"technician\",\"technician\",\"management\",\"services\",\"management\",\"retired\",\"management\",\"retired\",\"management\",\"self-employed\",\"retired\",\"management\",\"student\",\"services\",\"retired\",\"student\",\"blue-collar\",\"admin.\",\"technician\",\"unknown\",\"technician\",\"admin.\",\"self-employed\",\"admin.\",\"self-employed\",\"retired\",\"management\",\"retired\",\"blue-collar\",\"management\",\"retired\",\"student\",\"technician\",\"management\",\"blue-collar\",\"management\",\"retired\",\"student\",\"technician\",\"technician\",\"retired\",\"student\",\"technician\",\"retired\",\"management\",\"student\",\"retired\",\"management\",\"retired\",\"admin.\",\"retired\",\"blue-collar\",\"student\",\"services\",\"retired\",\"student\",\"student\",\"management\",\"unemployed\",\"technician\",\"technician\",\"technician\",\"admin.\",\"management\",\"entrepreneur\",\"management\",\"management\",\"retired\",\"admin.\",\"unemployed\",\"blue-collar\",\"management\",\"admin.\",\"admin.\",\"management\",\"unemployed\",\"admin.\",\"management\",\"management\",\"technician\",\"retired\",\"management\",\"admin.\",\"management\",\"admin.\",\"technician\",\"student\",\"technician\",\"management\",\"retired\",\"technician\",\"admin.\",\"self-employed\",\"self-employed\",\"management\",\"management\",\"technician\",\"retired\",\"admin.\",\"housemaid\",\"technician\",\"technician\",\"student\",\"blue-collar\",\"management\",\"retired\",\"technician\",\"management\",\"admin.\",\"unemployed\",\"retired\",\"services\",\"management\",\"management\",\"retired\",\"technician\",\"admin.\",\"management\",\"retired\",\"technician\",\"student\",\"management\",\"management\",\"technician\",\"admin.\",\"management\",\"management\",\"student\",\"student\",\"management\",\"retired\",\"technician\",\"services\",\"housemaid\",\"management\",\"retired\",\"blue-collar\",\"retired\",\"retired\",\"management\",\"entrepreneur\",\"admin.\",\"admin.\",\"unemployed\",\"unemployed\",\"management\",\"retired\",\"technician\",\"housemaid\",\"services\",\"management\",\"technician\",\"technician\",\"technician\",\"management\",\"management\",\"technician\",\"management\",\"admin.\",\"housemaid\",\"management\",\"entrepreneur\",\"management\",\"student\",\"management\",\"blue-collar\",\"student\",\"management\",\"admin.\",\"admin.\",\"blue-collar\",\"blue-collar\",\"management\",\"management\",\"admin.\",\"technician\",\"student\",\"blue-collar\",\"management\",\"unemployed\",\"technician\",\"student\",\"technician\",\"entrepreneur\",\"admin.\",\"retired\",\"blue-collar\",\"student\",\"entrepreneur\",\"retired\",\"technician\",\"student\",\"management\",\"self-employed\",\"management\",\"management\",\"blue-collar\",\"retired\",\"blue-collar\",\"blue-collar\",\"blue-collar\",\"self-employed\",\"admin.\",\"student\",\"blue-collar\",\"unemployed\",\"unemployed\",\"unknown\",\"services\",\"self-employed\",\"housemaid\",\"admin.\",\"management\",\"technician\",\"management\",\"retired\",\"services\",\"technician\",\"blue-collar\",\"student\",\"retired\",\"admin.\",\"housemaid\",\"self-employed\",\"admin.\",\"management\",\"management\",\"admin.\",\"management\",\"services\",\"blue-collar\",\"admin.\",\"retired\",\"management\",\"management\",\"admin.\",\"retired\",\"unknown\",\"entrepreneur\",\"management\",\"student\",\"unemployed\",\"student\",\"student\",\"admin.\",\"technician\",\"management\",\"management\",\"unemployed\",\"admin.\",\"admin.\",\"retired\",\"technician\",\"services\",\"management\",\"management\",\"retired\",\"blue-collar\",\"management\",\"admin.\",\"management\",\"unemployed\",\"student\",\"management\",\"student\",\"retired\",\"management\",\"management\",\"retired\",\"retired\",\"student\",\"student\",\"management\",\"management\",\"unemployed\",\"admin.\",\"retired\",\"technician\",\"admin.\",\"student\",\"retired\",\"management\",\"admin.\",\"unemployed\",\"services\",\"student\",\"management\",\"retired\",\"admin.\",\"management\",\"retired\",\"student\",\"entrepreneur\",\"blue-collar\",\"management\",\"management\",\"admin.\",\"management\",\"retired\",\"management\",\"technician\",\"management\",\"admin.\",\"retired\",\"housemaid\",\"retired\",\"management\",\"retired\",\"student\",\"admin.\",\"management\",\"student\",\"management\",\"retired\",\"management\",\"services\",\"management\",\"technician\",\"entrepreneur\",\"management\",\"admin.\",\"management\",\"unemployed\",\"management\",\"management\",\"housemaid\",\"services\",\"unemployed\",\"admin.\",\"management\",\"blue-collar\",\"management\",\"admin.\",\"blue-collar\",\"management\",\"services\",\"services\",\"retired\",\"management\",\"services\",\"retired\",\"retired\",\"management\",\"services\",\"student\",\"retired\",\"self-employed\",\"self-employed\",\"management\",\"unemployed\",\"admin.\",\"management\",\"student\",\"services\",\"technician\",\"admin.\",\"admin.\",\"unknown\",\"technician\",\"retired\",\"management\",\"admin.\",\"management\",\"student\",\"management\",\"management\",\"self-employed\",\"self-employed\",\"blue-collar\",\"technician\",\"management\",\"technician\",\"retired\",\"unemployed\",\"admin.\",\"unemployed\",\"management\",\"technician\",\"admin.\",\"management\",\"blue-collar\",\"management\",\"management\",\"management\",\"retired\",\"student\",\"management\",\"technician\",\"management\",\"management\",\"admin.\",\"technician\",\"retired\",\"retired\",\"technician\",\"blue-collar\",\"management\",\"admin.\",\"retired\",\"management\",\"retired\",\"admin.\",\"admin.\",\"student\",\"management\",\"management\",\"admin.\",\"admin.\",\"technician\",\"technician\",\"management\",\"student\",\"retired\",\"entrepreneur\",\"student\",\"technician\",\"entrepreneur\",\"technician\",\"technician\",\"admin.\",\"unemployed\",\"retired\",\"blue-collar\",\"entrepreneur\",\"admin.\",\"blue-collar\",\"services\",\"services\",\"management\",\"blue-collar\",\"retired\",\"management\",\"retired\",\"student\",\"management\",\"technician\",\"management\",\"admin.\",\"student\",\"retired\",\"technician\",\"technician\",\"retired\",\"technician\",\"management\",\"management\",\"technician\",\"services\",\"student\",\"unemployed\",\"admin.\",\"management\",\"admin.\",\"unemployed\",\"admin.\",\"management\",\"unemployed\",\"self-employed\",\"student\",\"management\",\"management\",\"blue-collar\",\"technician\",\"admin.\",\"technician\",\"management\",\"unemployed\",\"retired\",\"housemaid\",\"management\",\"blue-collar\",\"services\",\"blue-collar\",\"management\",\"unemployed\",\"management\",\"services\",\"blue-collar\",\"student\",\"admin.\",\"technician\",\"management\",\"management\",\"self-employed\",\"technician\",\"blue-collar\",\"student\",\"technician\",\"housemaid\",\"management\",\"technician\",\"housemaid\",\"unemployed\",\"services\",\"admin.\",\"technician\",\"management\",\"technician\",\"management\",\"student\",\"services\",\"admin.\",\"management\",\"management\",\"unknown\",\"admin.\",\"housemaid\",\"retired\",\"management\",\"admin.\",\"retired\",\"unemployed\",\"technician\",\"management\",\"admin.\",\"management\",\"technician\",\"housemaid\",\"services\",\"technician\",\"technician\",\"management\",\"technician\",\"housemaid\",\"retired\",\"technician\",\"technician\",\"student\",\"retired\",\"management\",\"entrepreneur\",\"unemployed\",\"technician\",\"technician\",\"admin.\",\"management\",\"management\",\"admin.\",\"retired\",\"blue-collar\",\"student\",\"management\",\"management\",\"technician\",\"self-employed\",\"student\",\"management\",\"blue-collar\",\"technician\",\"admin.\",\"admin.\",\"management\",\"student\",\"services\",\"technician\",\"self-employed\",\"management\",\"admin.\",\"services\",\"management\",\"retired\",\"technician\",\"management\",\"admin.\",\"retired\",\"services\",\"technician\",\"management\",\"retired\",\"student\",\"technician\",\"services\",\"technician\",\"management\",\"technician\",\"admin.\",\"admin.\",\"management\",\"student\",\"technician\",\"management\",\"technician\",\"services\",\"entrepreneur\",\"technician\",\"technician\",\"management\",\"technician\",\"management\",\"services\",\"unknown\",\"entrepreneur\",\"technician\",\"retired\",\"technician\",\"blue-collar\",\"management\",\"admin.\",\"management\",\"management\",\"student\",\"technician\",\"technician\",\"management\",\"technician\",\"entrepreneur\",\"retired\",\"management\",\"admin.\",\"student\",\"services\",\"student\",\"admin.\",\"admin.\",\"student\",\"admin.\",\"management\",\"self-employed\",\"unknown\",\"management\",\"technician\",\"technician\",\"blue-collar\",\"management\",\"blue-collar\",\"management\",\"management\",\"self-employed\",\"management\",\"blue-collar\",\"services\",\"admin.\",\"self-employed\",\"services\",\"blue-collar\",\"retired\",\"management\",\"management\",\"retired\",\"admin.\",\"management\",\"blue-collar\",\"management\",\"admin.\",\"technician\",\"management\",\"management\",\"management\",\"blue-collar\",\"blue-collar\",\"blue-collar\",\"management\",\"services\",\"technician\",\"technician\",\"management\",\"blue-collar\",\"services\",\"self-employed\",\"management\",\"admin.\",\"technician\",\"admin.\",\"blue-collar\",\"management\",\"management\",\"admin.\",\"technician\",\"blue-collar\",\"technician\",\"services\",\"management\",\"technician\",\"technician\",\"housemaid\",\"unemployed\",\"admin.\",\"management\",\"student\",\"retired\",\"management\",\"student\",\"blue-collar\",\"services\",\"management\",\"retired\",\"technician\",\"admin.\",\"technician\",\"services\",\"management\",\"blue-collar\",\"retired\",\"retired\",\"self-employed\",\"management\",\"management\",\"management\",\"management\",\"management\",\"blue-collar\",\"blue-collar\",\"management\",\"management\",\"services\",\"retired\",\"management\",\"technician\",\"technician\",\"technician\",\"technician\",\"unemployed\",\"admin.\",\"blue-collar\",\"technician\",\"technician\",\"management\",\"blue-collar\",\"management\",\"housemaid\",\"blue-collar\",\"unemployed\",\"blue-collar\",\"technician\",\"housemaid\",\"blue-collar\",\"services\",\"admin.\",\"admin.\",\"technician\",\"management\",\"housemaid\",\"management\",\"technician\",\"blue-collar\",\"services\",\"services\",\"services\",\"technician\",\"unemployed\",\"blue-collar\",\"student\",\"services\",\"admin.\",\"management\",\"management\",\"technician\",\"technician\",\"management\",\"retired\",\"self-employed\",\"management\",\"retired\",\"management\",\"management\",\"housemaid\",\"management\",\"management\",\"technician\",\"retired\",\"services\",\"blue-collar\",\"management\",\"admin.\",\"management\",\"blue-collar\",\"admin.\",\"technician\",\"technician\",\"blue-collar\",\"management\",\"housemaid\",\"retired\",\"student\",\"technician\",\"services\",\"retired\",\"student\",\"blue-collar\",\"management\",\"blue-collar\",\"housemaid\",\"technician\",\"admin.\",\"blue-collar\",\"services\",\"services\",\"admin.\",\"technician\",\"blue-collar\",\"admin.\",\"student\",\"student\",\"technician\",\"retired\",\"unemployed\",\"management\",\"technician\",\"student\",\"blue-collar\",\"management\",\"services\",\"self-employed\",\"management\",\"technician\",\"admin.\",\"management\",\"management\",\"management\",\"admin.\",\"unemployed\",\"technician\",\"admin.\",\"services\",\"housemaid\",\"management\",\"admin.\",\"management\",\"admin.\",\"management\",\"technician\",\"management\",\"management\",\"admin.\",\"student\",\"services\",\"blue-collar\",\"management\",\"blue-collar\",\"technician\",\"retired\",\"unknown\",\"management\",\"technician\",\"entrepreneur\",\"student\",\"management\",\"blue-collar\",\"management\",\"blue-collar\",\"blue-collar\",\"technician\",\"admin.\",\"blue-collar\",\"management\",\"management\",\"services\",\"self-employed\",\"management\",\"services\",\"blue-collar\",\"admin.\",\"technician\",\"management\",\"technician\",\"technician\",\"entrepreneur\",\"blue-collar\",\"retired\",\"technician\",\"management\",\"self-employed\",\"technician\",\"blue-collar\",\"retired\",\"services\",\"retired\",\"technician\",\"student\",\"self-employed\",\"self-employed\",\"technician\",\"blue-collar\",\"admin.\",\"management\",\"student\",\"retired\",\"management\",\"admin.\",\"blue-collar\",\"technician\",\"management\",\"management\",\"housemaid\",\"student\",\"unemployed\",\"management\",\"blue-collar\",\"management\",\"management\",\"admin.\",\"services\",\"technician\",\"technician\",\"management\",\"management\",\"services\",\"entrepreneur\",\"services\",\"student\",\"admin.\",\"management\",\"management\",\"student\",\"management\",\"blue-collar\",\"admin.\",\"self-employed\",\"services\",\"admin.\",\"blue-collar\",\"management\",\"student\",\"blue-collar\",\"admin.\",\"technician\",\"blue-collar\",\"self-employed\",\"blue-collar\",\"blue-collar\",\"services\",\"retired\",\"blue-collar\",\"services\",\"management\",\"blue-collar\",\"blue-collar\",\"technician\",\"management\",\"student\",\"blue-collar\",\"admin.\",\"student\",\"unknown\",\"admin.\",\"blue-collar\",\"technician\",\"admin.\",\"entrepreneur\",\"admin.\",\"admin.\",\"housemaid\",\"technician\",\"blue-collar\",\"admin.\",\"technician\",\"entrepreneur\",\"technician\",\"management\",\"management\",\"management\",\"technician\",\"blue-collar\",\"services\",\"technician\",\"retired\",\"unemployed\",\"housemaid\",\"retired\",\"blue-collar\",\"admin.\",\"blue-collar\",\"management\",\"blue-collar\",\"admin.\",\"management\",\"retired\",\"management\",\"student\",\"student\",\"retired\",\"admin.\",\"admin.\",\"entrepreneur\",\"management\",\"services\",\"retired\",\"management\",\"admin.\",\"admin.\",\"management\",\"management\",\"technician\",\"management\",\"retired\",\"management\",\"services\",\"admin.\",\"unemployed\",\"services\",\"technician\",\"blue-collar\",\"technician\",\"student\",\"student\",\"services\",\"admin.\",\"admin.\",\"management\",\"management\",\"blue-collar\",\"services\",\"technician\",\"admin.\",\"management\",\"management\",\"technician\",\"technician\",\"admin.\",\"technician\",\"self-employed\",\"management\",\"technician\",\"technician\",\"management\",\"management\",\"technician\",\"management\",\"unemployed\",\"unemployed\",\"blue-collar\",\"student\",\"management\",\"self-employed\",\"admin.\",\"technician\",\"management\",\"admin.\",\"management\",\"management\",\"student\",\"technician\",\"technician\",\"management\",\"technician\",\"management\",\"admin.\",\"technician\",\"management\",\"retired\",\"blue-collar\",\"technician\",\"retired\",\"management\",\"retired\",\"management\",\"management\",\"blue-collar\",\"technician\",\"management\",\"management\",\"blue-collar\",\"blue-collar\",\"management\",\"self-employed\",\"blue-collar\",\"blue-collar\",\"blue-collar\",\"admin.\",\"entrepreneur\",\"technician\",\"management\",\"technician\",\"retired\",\"blue-collar\",\"management\",\"housemaid\",\"student\",\"student\",\"entrepreneur\",\"blue-collar\",\"blue-collar\",\"admin.\",\"retired\",\"blue-collar\",\"unemployed\",\"services\",\"technician\",\"management\",\"admin.\",\"retired\",\"self-employed\",\"management\",\"blue-collar\",\"self-employed\",\"technician\",\"services\",\"self-employed\",\"admin.\",\"technician\",\"self-employed\",\"blue-collar\",\"blue-collar\",\"unknown\",\"retired\",\"admin.\",\"retired\",\"management\",\"management\",\"admin.\",\"management\",\"management\",\"services\",\"technician\",\"admin.\",\"management\",\"retired\",\"services\",\"unemployed\",\"management\",\"management\",\"unemployed\",\"blue-collar\",\"services\",\"management\",\"admin.\",\"entrepreneur\",\"services\",\"services\",\"unemployed\",\"management\",\"blue-collar\",\"blue-collar\",\"management\",\"retired\",\"technician\",\"blue-collar\",\"management\",\"retired\",\"technician\",\"unemployed\",\"technician\",\"self-employed\",\"unemployed\",\"retired\",\"blue-collar\",\"management\",\"retired\",\"admin.\",\"housemaid\",\"blue-collar\",\"technician\",\"self-employed\",\"management\",\"blue-collar\",\"unemployed\",\"unemployed\",\"unemployed\",\"technician\",\"management\",\"unemployed\",\"retired\",\"admin.\",\"admin.\",\"management\",\"technician\",\"blue-collar\",\"management\",\"management\",\"student\",\"services\",\"blue-collar\",\"technician\",\"management\",\"technician\",\"retired\",\"management\",\"technician\",\"housemaid\",\"services\",\"student\",\"student\",\"services\",\"technician\",\"technician\",\"student\",\"self-employed\",\"technician\",\"retired\",\"entrepreneur\",\"admin.\",\"management\",\"retired\",\"management\",\"management\",\"retired\",\"management\",\"services\",\"housemaid\",\"blue-collar\",\"admin.\",\"blue-collar\",\"management\",\"technician\",\"self-employed\",\"technician\",\"blue-collar\",\"blue-collar\",\"blue-collar\",\"unemployed\",\"management\",\"student\",\"blue-collar\",\"admin.\",\"blue-collar\",\"self-employed\",\"management\",\"management\",\"retired\",\"management\",\"management\",\"services\",\"technician\",\"technician\",\"blue-collar\",\"admin.\",\"services\",\"entrepreneur\",\"technician\",\"blue-collar\",\"housemaid\",\"admin.\",\"admin.\",\"technician\",\"technician\",\"services\",\"management\",\"technician\",\"management\",\"self-employed\",\"retired\",\"entrepreneur\",\"retired\",\"admin.\",\"management\",\"student\",\"admin.\",\"services\",\"services\",\"admin.\",\"housemaid\",\"technician\",\"technician\",\"student\",\"management\",\"blue-collar\",\"services\",\"management\",\"blue-collar\",\"technician\",\"retired\",\"technician\",\"admin.\",\"services\",\"student\",\"technician\",\"technician\",\"management\",\"technician\",\"retired\",\"technician\",\"management\",\"retired\",\"self-employed\",\"blue-collar\",\"technician\",\"management\",\"self-employed\",\"technician\",\"services\",\"management\",\"retired\",\"admin.\",\"services\",\"admin.\",\"management\",\"admin.\",\"admin.\",\"blue-collar\",\"technician\",\"self-employed\",\"student\",\"self-employed\",\"management\",\"management\",\"retired\",\"management\",\"technician\",\"management\",\"admin.\",\"management\",\"management\",\"admin.\",\"unknown\",\"blue-collar\",\"housemaid\",\"technician\",\"admin.\",\"services\",\"admin.\",\"self-employed\",\"retired\",\"management\",\"management\",\"admin.\",\"services\",\"blue-collar\",\"management\",\"management\",\"technician\",\"admin.\",\"admin.\",\"technician\",\"retired\",\"student\",\"self-employed\",\"blue-collar\",\"blue-collar\",\"management\",\"self-employed\",\"admin.\",\"services\",\"management\",\"admin.\",\"retired\",\"admin.\",\"blue-collar\",\"management\",\"self-employed\",\"management\",\"management\",\"admin.\",\"blue-collar\",\"management\",\"self-employed\",\"services\",\"technician\",\"retired\",\"technician\",\"technician\",\"admin.\",\"management\",\"services\",\"management\",\"management\",\"management\",\"retired\",\"technician\",\"technician\",\"management\",\"self-employed\",\"blue-collar\",\"blue-collar\",\"blue-collar\",\"blue-collar\",\"management\",\"blue-collar\",\"admin.\",\"retired\",\"admin.\",\"technician\",\"management\",\"technician\",\"blue-collar\",\"technician\",\"management\",\"student\",\"admin.\",\"management\",\"technician\",\"retired\",\"management\",\"student\",\"management\",\"admin.\",\"services\",\"management\",\"blue-collar\",\"management\",\"admin.\",\"blue-collar\",\"admin.\",\"retired\",\"technician\",\"management\",\"technician\",\"management\",\"blue-collar\",\"self-employed\",\"management\",\"management\",\"blue-collar\",\"student\",\"management\",\"management\",\"retired\",\"management\",\"management\",\"admin.\",\"management\",\"technician\",\"student\",\"self-employed\",\"management\",\"technician\",\"management\",\"management\",\"admin.\",\"admin.\",\"admin.\",\"student\",\"management\",\"management\",\"unemployed\",\"admin.\",\"entrepreneur\",\"technician\",\"retired\",\"services\",\"housemaid\",\"blue-collar\",\"management\",\"management\",\"technician\",\"services\",\"technician\",\"technician\",\"management\",\"technician\",\"management\",\"self-employed\",\"unemployed\",\"blue-collar\",\"self-employed\",\"technician\",\"management\",\"unemployed\",\"self-employed\",\"entrepreneur\",\"admin.\",\"management\",\"unemployed\",\"management\",\"management\",\"blue-collar\",\"technician\",\"housemaid\",\"management\",\"services\",\"management\",\"blue-collar\",\"housemaid\",\"student\",\"blue-collar\",\"management\",\"retired\",\"blue-collar\",\"blue-collar\",\"technician\",\"blue-collar\",\"unemployed\",\"services\",\"management\",\"unemployed\",\"entrepreneur\",\"blue-collar\",\"technician\",\"technician\",\"unemployed\",\"retired\",\"retired\",\"admin.\",\"blue-collar\",\"self-employed\",\"admin.\",\"management\",\"blue-collar\",\"services\",\"self-employed\",\"technician\",\"technician\",\"management\",\"admin.\",\"management\",\"blue-collar\",\"technician\",\"self-employed\",\"admin.\",\"blue-collar\",\"management\",\"technician\",\"services\",\"blue-collar\",\"management\",\"admin.\",\"management\",\"management\",\"services\",\"management\",\"technician\",\"retired\",\"blue-collar\",\"retired\",\"technician\",\"blue-collar\",\"blue-collar\",\"blue-collar\",\"technician\",\"retired\",\"admin.\",\"management\",\"management\",\"technician\",\"services\",\"management\",\"retired\",\"self-employed\",\"management\",\"self-employed\",\"management\",\"admin.\",\"services\",\"retired\",\"admin.\",\"retired\",\"entrepreneur\",\"management\",\"technician\",\"technician\",\"services\",\"retired\",\"blue-collar\",\"admin.\",\"services\",\"technician\",\"admin.\",\"technician\",\"blue-collar\",\"services\",\"management\",\"management\",\"management\",\"management\",\"blue-collar\",\"management\",\"unemployed\",\"blue-collar\",\"management\",\"admin.\",\"management\",\"self-employed\",\"retired\",\"technician\",\"housemaid\",\"management\",\"technician\",\"services\",\"blue-collar\",\"technician\",\"management\",\"admin.\",\"management\",\"management\",\"blue-collar\",\"blue-collar\",\"student\",\"retired\",\"blue-collar\",\"management\",\"technician\",\"retired\",\"unemployed\",\"management\",\"technician\",\"management\",\"technician\",\"admin.\",\"retired\",\"management\",\"retired\",\"entrepreneur\",\"admin.\"],\"x0\":\" \",\"xaxis\":\"x\",\"y\":[1042,1467,1389,579,673,562,1201,1030,608,1297,786,1574,1102,943,1084,541,1119,1120,513,442,756,1120,985,617,483,929,538,710,653,1028,654,665,757,504,1346,568,395,1015,683,470,1001,845,945,942,476,832,1553,1328,1125,858,629,704,760,930,1028,850,927,1423,1162,755,695,483,520,920,500,911,920,1224,1156,1052,515,813,676,1143,688,803,619,767,912,1340,897,1297,1193,1064,1187,882,943,607,1022,552,967,579,446,1205,1334,182,1182,1045,650,1063,843,1392,565,905,783,958,412,795,649,506,857,860,799,923,521,1349,736,785,1030,893,588,597,1015,1392,414,788,682,679,1560,1234,642,895,431,741,1272,748,896,764,1063,1051,731,751,709,938,1560,576,543,615,507,1183,864,560,543,539,791,746,1207,535,789,792,833,814,1363,1109,828,917,762,1133,638,763,604,854,855,1269,691,1097,1236,886,1343,812,984,228,891,745,539,1044,1193,526,394,659,1036,815,563,1068,230,747,671,555,777,707,432,1173,963,941,1025,732,1045,768,801,482,1363,1336,633,524,578,984,638,767,525,563,1449,920,908,208,910,1446,1149,1123,508,736,590,636,701,761,1558,1053,562,494,1018,884,709,1276,381,862,460,467,648,1085,369,685,1055,882,901,700,491,940,486,1137,878,583,1159,893,867,706,1199,935,586,967,595,1290,614,885,651,993,577,1141,1268,1243,465,513,686,741,617,1093,1395,1089,1248,721,750,637,556,522,1345,676,775,1029,371,1528,1540,973,707,625,1255,704,1574,1135,1007,1318,922,585,952,834,651,683,1012,958,973,911,382,1210,838,422,1098,560,570,1023,585,693,546,1036,1409,988,498,670,662,528,519,677,422,856,479,1135,650,587,676,584,1044,494,615,718,434,782,722,621,629,385,889,532,574,599,849,973,719,509,740,534,531,634,460,681,1082,730,716,803,635,819,658,1061,687,537,781,645,1242,662,625,426,869,556,359,1014,1290,564,1439,919,1426,901,998,804,961,720,1341,634,829,476,724,500,1499,1399,1187,487,1097,1060,764,1120,963,911,853,1397,766,788,1130,1062,1336,444,894,805,1056,815,808,860,881,981,1001,514,716,769,889,448,767,578,496,586,689,555,686,435,873,1222,988,1019,709,561,1018,1039,781,923,1275,342,1008,538,795,1027,582,1448,656,1208,1175,536,991,1153,623,1081,978,536,968,278,560,640,420,658,641,635,588,1373,913,799,1139,1105,854,919,733,553,710,891,691,1130,577,1342,1002,985,1360,1134,712,1077,560,1545,654,1508,598,1237,864,1037,802,754,870,633,690,529,1152,956,957,1327,228,808,638,1201,1309,1359,416,532,430,853,1204,1484,1441,454,651,1491,903,873,901,821,367,458,1492,1422,728,979,616,784,1000,695,362,743,1031,590,1330,946,1448,279,661,1369,653,458,664,699,939,1169,837,596,383,1009,1096,867,551,890,874,710,600,1058,884,616,808,1011,1013,684,843,542,788,988,814,694,441,1171,729,509,1089,1211,458,540,761,695,764,675,782,962,481,812,630,1088,1150,574,725,463,662,727,1107,829,1212,1142,1032,846,870,1165,1110,1488,603,641,837,553,794,836,1134,607,1536,515,935,1051,1200,531,766,1311,618,875,419,1227,1357,455,406,902,740,501,835,720,836,490,763,649,641,738,1044,482,1249,996,1250,1471,1456,395,663,674,526,401,1321,797,352,670,429,1182,876,895,341,994,507,317,512,809,523,669,780,459,1000,733,848,1242,922,1206,856,386,384,1070,610,699,917,608,734,1238,1242,444,418,1080,479,645,506,768,1134,396,507,439,1133,587,696,645,473,559,1092,453,1307,1344,432,664,940,969,823,618,526,846,1149,665,641,404,657,737,871,838,379,851,990,529,1148,904,707,632,593,552,857,518,834,1184,1151,1231,904,773,762,671,638,594,625,882,528,309,471,520,1576,504,998,194,645,1293,950,1032,836,480,921,467,552,875,588,1408,921,627,625,703,1503,644,913,788,946,1532,793,81,1123,576,579,520,1258,528,686,604,1241,735,626,363,961,472,1152,606,497,630,366,1374,372,664,388,428,609,581,1033,1040,672,512,976,645,523,583,965,1126,908,643,695,270,235,478,133,312,718,294,519,144,187,676,157,181,313,80,134,518,112,97,305,228,376,131,251,125,135,540,171,11,248,234,132,154,160,227,158,615,399,465,268,253,669,234,150,154,299,524,248,486,158,114,378,494,90,160,239,162,132,172,160,179,1077,564,1303,696,761,540,1091,1210,652,454,514,854,1164,676,486,596,924,897,1034,578,1181,716,1437,482,898,1122,511,1554,686,925,1015,489,694,853,561,424,998,1057,522,472,623,337,589,644,1468,709,639,276,477,670,405,531,628,1192,283,454,728,993,755,994,1503,871,329,531,931,593,691,1258,677,1490,562,705,1035,736,253,888,370,500,488,1025,768,758,653,841,871,952,1341,945,1059,615,517,714,729,591,1158,614,558,530,648,609,530,529,641,957,758,963,796,1022,553,372,849,555,316,850,749,902,1074,980,549,654,834,1571,664,579,373,504,314,663,681,808,775,705,965,1222,534,1555,925,8,119,1387,1232,829,769,1199,1451,944,968,1101,470,801,750,1165,1473,692,1451,771,726,931,922,707,1136,215,803,781,125,1086,749,699,492,588,935,430,302,177,626,938,521,670,285,402,751,1420,1425,1223,467,289,297,369,189,360,251,650,261,152,157,1393,261,372,182,1404,546,489,192,426,736,1416,193,80,136,572,1164,133,974,136,467,1226,206,765,976,945,1290,146,1381,1121,128,676,699,642,810,578,656,686,158,744,1017,1138,136,263,550,1019,158,751,141,192,178,860,156,984,241,591,229,787,912,1183,1541,126,479,190,123,253,835,97,277,154,147,503,515,154,132,446,354,152,109,280,227,118,262,165,99,121,119,71,75,158,152,439,706,138,93,127,261,170,91,138,331,92,232,88,104,127,221,226,120,185,323,113,202,466,475,147,172,343,185,134,83,355,442,208,268,654,245,152,367,361,210,97,195,194,412,353,172,342,131,87,115,156,79,233,712,378,116,239,175,120,382,143,631,83,499,350,426,320,156,168,180,305,96,377,82,308,63,181,106,112,199,195,229,227,266,207,131,116,217,350,112,80,106,272,122,135,93,266,95,126,323,188,101,80,80,119,139,1209,296,392,406,220,195,187,299,325,232,278,194,224,201,167,220,415,115,132,144,170,269,115,96,278,411,117,475,95,515,300,342,243,234,271,180,1081,163,237,158,351,1176,1196,165,387,739,243,313,1164,397,268,707,117,939,296,1203,475,583,158,180,635,1353,740,465,148,721,299,104,327,952,903,1134,1032,150,236,245,321,209,1190,104,108,143,105,274,548,142,350,743,592,448,214,179,233,245,152,317,1042,348,1036,1091,1006,384,407,709,1022,1101,1232,342,535,142,344,125,850,1073,450,133,168,324,161,496,111,107,207,223,165,82,903,282,110,1217,389,171,668,170,953,1038,139,264,838,144,78,648,251,334,583,443,495,1366,298,1174,165,1463,667,127,453,700,901,1365,299,161,944,551,1156,678,709,1017,1095,452,952,997,882,875,526,594,404,367,1080,712,108,170,378,949,394,320,547,314,438,1332,1202,1112,227,860,1550,670,133,712,194,216,586,392,691,567,904,325,205,76,148,97,185,112,241,163,345,163,267,114,120,121,1272,1333,943,146,333,110,274,1348,207,396,100,164,211,243,464,149,158,137,278,379,204,65,341,621,219,315,104,145,229,240,416,307,232,124,107,1288,545,229,93,266,242,172,413,163,206,522,159,116,113,158,203,235,160,227,202,388,124,497,148,444,89,507,636,961,375,510,587,571,244,400,701,968,381,571,239,195,224,739,720,412,208,871,297,231,365,512,281,335,815,354,347,271,383,368,1277,354,841,381,390,465,900,779,246,554,200,442,237,687,439,565,244,400,800,482,316,526,284,423,209,457,268,354,309,439,616,278,437,532,917,242,430,483,306,325,551,458,387,352,359,260,780,580,258,376,615,555,951,664,970,618,774,175,861,327,241,327,380,416,645,342,301,169,750,427,652,766,227,230,502,567,501,712,259,633,675,384,193,267,218,447,597,963,301,417,1076,251,592,322,545,532,367,297,214,1046,237,458,922,781,347,949,364,815,742,268,716,365,475,617,1091,1063,267,340,429,331,841,673,762,895,863,525,1090,838,811,568,955,788,894,725,670,862,653,488,767,848,530,984,611,1205,837,839,519,687,540,754,554,396,765,1489,1347,1074,667,686,923,457,757,1046,855,542,609,574,983,661,623,476,957,347,1030,895,798,1391,1516,787,877,553,1135,882,878,491,763,704,501,606,579,1080,308,662,568,1448,728,398,685,479,682,423,657,1038,1514,733,666,1017,610,608,475,1232,819,877,911,365,882,515,1203,560,703,690,1272,1062,826,590,918,1182,454,725,309,549,844,409,1531,1063,829,289,637,609,614,398,750,775,528,556,737,477,863,774,1073,610,850,659,570,516,585,606,590,902,669,394,302,333,951,562,734,568,747,716,1101,394,1207,674,622,314,809,829,937,1119,698,649,531,1279,873,440,689,722,533,558,667,717,590,745,854,646,345,456,680,578,633,307,607,874,492,563,1020,406,691,1129,191,224,616,668,479,888,1060,566,959,1094,884,460,604,629,647,676,153,667,670,655,311,760,619,1190,859,899,536,669,326,901,744,485,552,416,637,523,285,730,536,792,576,693,1015,663,437,562,585,659,532,837,832,830,317,611,432,858,1012,611,885,1111,1357,709,406,1002,880,655,415,462,1313,722,1032,536,473,906,347,442,827,903,1340,487,666,351,357,420,391,565,431,373,616,504,1008,525,1063,178,525,442,618,727,801,827,1027,732,542,1057,256,638,1173,1359,390,642,639,582,354,796,186,298,431,449,271,271,554,223,182,460,198,148,293,545,231,970,685,282,464,124,421,678,867,269,915,612,288,1064,213,226,377,158,262,117,214,315,242,414,601,133,1078,640,482,91,176,165,208,1346,390,445,226,396,208,253,185,229,189,439,242,145,155,122,776,329,367,412,165,223,311,513,324,295,264,377,205,287,263,166,327,69,326,1460,1048,781,335,412,177,251,339,174,114,192,215,235,1087,253,1144,220,314,163,479,395,350,199,294,690,596,169,195,103,417,160,270,271,712,74,84,261,245,263,310,482,924,253,192,181,250,163,541,262,206,115,592,437,313,705,198,321,296,411,593,165,224,340,591,385,238,170,539,300,200,699,837,725,1076,187,510,328,262,207,449,182,224,400,217,160,352,787,323,160,194,96,94,136,81,147,121,89,1161,124,282,592,397,324,275,199,255,462,302,149,191,1543,207,493,509,657,159,522,207,577,366,201,548,438,126,244,157,107,138,458,301,243,234,993,529,221,126,95,491,532,95,351,372,288,415,382,257,181,284,220,188,155,322,89,173,129,136,263,245,162,813,235,259,270,280,293,295,883,269,983,459,586,128,157,224,377,571,140,260,260,342,275,356,363,218,367,566,711,396,940,478,503,135,272,176,247,353,203,264,446,175,1007,409,438,257,308,270,227,316,429,371,297,284,682,180,376,224,370,495,876,388,167,361,341,1006,896,340,349,576,315,153,97,253,104,336,169,323,125,139,332,486,576,849,218,642,185,600,505,249,173,120,409,1019,475,211,389,414,277,254,253,179,385,150,270,355,131,1452,256,254,550,345,342,206,324,79,714,255,147,273,530,456,155,262,166,215,221,130,353,212,217,231,167,559,252,235,290,294,265,704,176,651,167,408,254,140,229,315,149,349,1244,221,175,206,589,182,449,582,1336,239,641,178,1064,147,398,307,267,810,306,338,188,255,293,289,562,489,784,414,148,315,399,234,496,293,227,204,738,320,393,479,284,354,640,156,225,209,436,326,137,185,125,94,276,201,391,190,498,880,260,308,348,199,286,220,343,711,606,156,205,215,161,148,216,193,532,441,574,225,335,240,164,634,232,145,195,338,267,474,217,195,184,273,228,216,374,273,276,531,116,126,343,534,744,438,130,467,232,511,192,479,412,242,291,128,314,323,189,186,624,257,700,157,259,212,445,398,81,162,207,622,173,370,261,155,207,160,473,186,267,470,219,265,120,212,82,181,378,140,233,121,260,365,331,733,316,328,730,879,230,770,563,569,281,350,219,211,587,351,231,293,495,206,169,165,445,260,137,519,140,400,376,298,475,276,394,234,408,345,397,344,344,278,259,84,230,260,212,285,91,210,108,106,240,658,290,335,185,961,170,722,215,107,173,89,875,126,91,106,925,152,292,387,543,890,267,1104,773,83,173,239,369,299,261,692,210,299,341,316,117,992,194,238,101,137,502,194,849,215,144,728,296,201,290,335,147,234,153,611,266,261,511,138,180,146,411,79,1226,221,210,301,204,1003,958,290,441,244,485,457,166,570,115,186,847,154,258,170,154,434,156,324,717,136,131,98,385,233,328,148,513,373,213,349,595,427,676,192,828,825,467,512,749,135,307,287,107,252,249,360,257,313,127,277,133,247,504,1002,306,260,344,336,270,130,210,149,476,255,438,221,281,257,282,355,131,143,207,96,297,424,137,759,624,298,255,418,146,149,509,371,501,524,207,164,139,164,142,209,189,251,401,215,106,215,124,746,377,424,279,445,212,217,640,144,480,196,294,257,368,416,182,188,162,46,1233,149,566,412,537,217,181,358,284,383,358,464,455,368,178,262,118,165,98,201,696,263,193,147,266,301,293,213,269,166,69,199,131,229,166,244,172,513,71,90,227,253,226,110,126,104,226,89,169,134,893,192,707,627,411,122,135,186,226,210,495,167,259,239,381,193,271,256,130,295,301,167,183,432,250,175,380,445,984,1248,85,209,134,747,135,393,255,372,234,349,487,208,414,541,160,260,357,310,346,415,244,284,154,155,352,472,350,705,271,208,439,821,232,360,696,929,415,620,329,254,288,179,854,479,343,595,395,456,149,336,429,441,798,805,422,232,582,166,420,321,351,324,279,314,443,283,546,330,222,726,170,406,415,294,322,467,264,367,321,190,410,305,282,422,250,679,206,315,400,473,893,284,155,296,1370,63,369,301,202,585,210,170,767,377,229,265,316,409,661,512,143,163,260,380,248,108,452,187,372,183,309,517,233,589,305,366,295,348,396,233,326,366,453,262,353,639,240,423,255,696,164,143,340,245,142,342,164,181,196,366,701,399,918,417,390,293,130,151,202,186,161,155,216,223,177,254,144,313,479,265,563,483,474,577,204,336,219,179,355,443,508,129,153,140,301,892,373,279,208,658,305,233,429,195,390,261,649,739,383,489,151,195,110,286,376,190,186,1133,363,309,78,469,359,127,98,92,290,120,63,125,164,742,243,629,153,151,158,511,406,314,135,691,71,449,293,288,112,226,309,253,391,268,456,352,660,467,231,981,515,671,419,328,637,218,138,171,181,375,379,251,138,666,382,295,83,136,93,531,201,216,91,337,379,308,205,659,394,171,386,220,416,737,232,222,269,255,222,388,145,330,302,392,543,326,155,639,269,279,95,367,132,228,61,175,127,137,694,151,242,481,416,318,1422,169,98,385,959,771,335,229,427,270,525,658,207,177,313,136,228,311,187,141,557,145,355,180,177,251,148,456,562,229,115,418,341,373,257,219,319,498,264,659,277,409,301,241,139,225,469,176,301,236,212,305,288,700,273,295,450,436,239,106,335,290,212,229,213,192,427,506,577,180,261,295,231,881,473,237,420,265,910,467,593,254,247,173,215,248,222,273,128,191,101,156,187,272,288,360,281,92,433,277,236,110,262,577,193,175,149,280,390,558,216,358,111,144,558,547,327,907,208,170,459,470,317,196,122,177,604,222,481,524,176,176,223,1093,232,567,240,122,398,256,173,250,133,185,200,159,141,330,214,442,218,297,330,125,529,1143,175,167,162,462,379,476,595,403,623,224,554,499,263,342,296,291,888,252,361,465,182,192,1472,328,212,175,325,426,321,473,370,159,184,403,545,392,623,387,226,882,660,388,250,395,449,169,315,463,262,183,551,552,361,494,714,268,421,153,209,188,389,258,338,226,232,510,443,246,195,243,292,662,300,226,211,583,309,171,166,317,411,620,289,260,306,263,216,328,624,331,270,356,393,234,336,567,404,526,196,220,700,1205,809,396,466,379,376,272,508,387,336,353,243,327,30,472,212,291,351,226,214,588,374,382,341,699,323,641,681,393,272,500,332,289,405,175,236,135,530,283,93,181,820,489,275,417,173,473,86,270,775,201,516,326,154,347,296,303,407,657,226,310,204,187,215,506,251,206,712,334,163,874,674,278,434,187,245,661,270,212,458,713,293,563,167,485,619,379,910,243,208,605,288,339,383,247,169,485,176,544,301,252,867,706,342,339,671,1207,482,310,213,300,374,472,266,614,297,281,345,325,452,363,359,737,265,401,295,222,205,660,271,167,263,275,319,301,561,304,423,217,248,667,194,128,140,267,335,319,396,386,229,398,273,276,229,480,294,411,250,968,414,449,967,444,344,483,474,464,23,67,210,220,537,567,248,305,195,363,617,475,317,311,272,371,413,603,397,817,247,276,604,897,287,87,268,219,346,957,552,390,198,815,574,316,205,241,806,457,253,1148,173,230,187,568,204,178,165,355,1008,316,143,355,942,355,138,321,248,174,860,608,351,350,1360,192,251,196,396,275,546,414,423,336,267,606,287,218,496,844,471,817,462,388,211,301,169,332,349,200,426,268,519,270,417,478,292,852,367,1005,283,196,868,108,317,341,428,248,249,482,187,261,279,113,654,392,417,288,651,178,250,291,180,198,462,296,476,561,118,470,504,274,172,480,306,318,326,736,245,215,270,323,303,258,304,562,178,174,356,366,221,744,245,239,628,265,245,503,447,493,263,304,507,223,317,520,146,1363,425,632,329,233,237,361,370,248,235,345,352,323,357,175,411,361,1226,504,312,265,261,461,222,633,394,287,199,211,239,205,265,418,1120,253,443,634,34,222,840,729,300,481,199,193,400,265,238,293,532,1440,291,362,799,404,382,431,252,219,310,194,245,369,255,312,415,908,337,201,288,492,638,210,220,246,630,708,358,606,1081,216,261,1405,679,430,202,209,305,204,167,386,268,1042,211,255,256,218,323,273,358,211,409,230,808,340,506,331,316,200,953,385,511,213,225,143,574,193,270,303,414,452,327,1334,294,285,328,231,336,185,263,175,208,569,183,182,183,744,856,305,209,427,156,244,272,203,173,224,249,395,262,188,1298,282,232,245,845,271,311,486,649,808,608,275,218,1246,194,319,251,369,363,450,285,405,463,212,203,323,209,169,216,190,194,585,491,301,187,1176,567,464,509,252,222,767,192,230,898,178,621,150,411,453,1032,759,419,549,330,212,339,542,234,608,389,304,400,182,253,297,211,318,604,238,269,171,508,184,258,360,449,282,248,467,524,208,394,404,289,357,482,413,200,411,236,206,262,238,212,330,270,1556,226,224,266,300,386,977,1127,1573,377,248,461,246,329,257,1076,268,188,400,238,258,535,385,206,485,179,618,432,512,193,299,119,453,105,256,729,460,895,654,404,1319,1000,694,538,203,431,1060,144,246,278,150,216,173,834,418,261,215,855,1259,120,1180,239,1127,828,190,288,107,686,1141,232,565,241,471,102,344,1467,1193,631,637,541,783,89,365,672,271,160,388,350,1303,139,231,340,213,666,331,453,207,1218,722,158,978,400,147,1321,412,130,917,370,159,272,664,202,523,496,1310,203,345,334,955,218,136,188,369,284,276,392,165,1000,730,417,276,444,141,342,258,890,268,134,543,303,414,300,383,294,280,455,396,489,629,539,937,497,535,619,493,314,331,384,263,218,1424,407,115,209,802,289,237,554,1148,697,247,495,164,221,378,362,168,344,282,87,181,396,426,1186,210,1540,152,878,623,720,453,528,318,763,1059,412,318,1500,193,924,94,1109,415,227,476,443,906,344,817,857,1265,177,740,574,382,533,720,327,166,709,187,894,213,935,257,238,318,401,1138,361,341,1130,806,576,158,475,554,336,772,470,605,763,303,688,192,290,1024,543,565,300,680,401,380,328,1181,220,537,212,737,158,154,185,139,461,252,831,751,421,239,387,847,297,194,930,997,318,528,288,486,447,71,380,1141,612,149,701,115,159,117,134,830,349,177,261,285,261,226,865,146,1263,467,150,445,243,981,1007,211,261,522,1075,1265,406,397,457,896,474,182,257,240,816,654,800,192,285,279,1262,498,332,1034,803,460,533,252,178,135,688,203,183,532,768,516,526,598,1311,640,221,1461,835,211,166,745,997,1127,739,753,1352,406,663,344,261,447,232,159,397,97,144,353,137,434,207,622,204,1041,150,293,164,148,324,893,607,293,774,644,187,119,577,200,157,161,252,843,833,600,154,234,709,891,282,926,440,314,238,1329,364,985,255,1410,227,177,317,225,142,523,698,824,1240,494,796,223,140,501,271,1323,234,268,134,272,587,619,384,543,372,419,100,816,1063,257,1141,318,813,325,289,824,543,556,509,801,636,288,384,373,134,1154,189,243,94,1446,352,146,138,600,478,929,477,215,231,958,200,209,229,295,527,103,152,786,397,310,236,715,187,519,423,701,632,214,665,219,105,614,753,872,261,171,862,1178,507,758,169,257,1094,436,280,124,990,771,250,175,505,1080,452,819,738,441,125,65,410,196,1030,715,227,251,250,274,279,584,1092,491,183,228,658,1282,49,575,402,661,415,459,1102,703,822,453,648,362,365,1257,242,314,141,480,420,262,591,263,181,147,326,645,344,327,299,426,355,131,761,140,1181,332,1048,168,132,716,419,95,603,553,449,436,242,712,758,578,278,591,830,462,442,75,190,566,394,187,407,880,763,200,211,131,421,536,325,490,366,356,213,1417,150,282,406,426,455,366,325,551,366,669,445,1007,449,331,1469,1512,1486,612,358,772,216,1360,787,456,185,65,371,165,287,580,39,241,110,505,454,341,113,724,1010,296,1106,244,1109,409,1181,1143,1017,730,368,266,812,1422,238,300,520,576,350,545,572,176,268,974,651,184,178,347,343,704,239,236,1314,298,1407,324,649,250,150,306,1502,1555,731,679,696,796,812,954,1073,667,233,236,323,114,178,352,330,819,409,855,243,139,226,172,635,309,605,745,263,429,304,710,118,613,790,182,291,168,663,579,292,226,150,611,933,370,1138,241,150,229,322,527,184,305,623,1051,1532,97,122,158,136,482,252,968,708,230,295,265,536,546,630,211,696,210,91,265,746,671,215,692,528,309,1034,261,745,844,627,393,315,569,1447,153,984,697,783,835,476,289,1132,651,718,100,676,95,566,162,154,687,744,700,1241,872,225,460,404,156,885,1124,229,25,681,934,378,814,762,132,1081,259,171,304,650,392,500,278,573,808,337,347,99,474,460,97,716,384,731,123,733,716,201,394,219,150,172,153,169,360,101,1294,517,982,429,226,1084,607,164,247,1121,371,838,1064,182,732,102,513,652,301,554,899,615,203,186,167,1249,338,1373,525,687,1576,784,122,190,188,720,250,700,303,217,200,1528,777,243,651,174,650,96,415,281,949,1150,280,430,393,146,705,281,107,789,1252,136,154,668,682,560,156,255,1153,319,131,244,529,1103,216,225,701,390,187,224,407,574,625,255,63,232,305,952,662,1344,333,332,646,1486,1068,130,364,259,767,308,531,792,324,338,315,550,159,364,580,218,84,506,186,642,153,176,1388,170,264,638,1422,441,996,415,210,144,857,411,483,632,252,319,1039,164,196,170,305,267,556,514,403,293,562,531,655,144,434,155,866,930,384,289,469,222,100,504,504,1230,427,926,455,904,409,412,735,385,1063,606,884,181,574,369,161,643,820,374,406,84,456,192,89,636,207,1306,610,918,494,232,349,753,938,474,601,594,427,618,136,813,897,137,200,719,202,554,703,108,796,458,266,279,356,449,274,916,435,118,792,956,276,360,90,182,179,302,618,523,820,499,1130,955,808,371,1078,425,830,617,971,727,141,266,975,283,562,612,103,403,602,587,481,161,132,1223,674,732,954,1114,1242,185,658,169,765,319,214,408,179,309,268,224,718,491,375,1039,236,485,344,204,254,459,574,372,252,775,840,78,475,717,186,244,412,451,696,156,414,1272,1205,835,309,196,232,347,618,264,335,102,138,431,151],\"y0\":\" \",\"yaxis\":\"y\",\"type\":\"box\",\"quartilemethod\":\"exclusive\"},{\"alignmentgroup\":\"True\",\"hovertemplate\":\"deposit=no<br>job=%{x}<br>duration=%{y}<extra></extra>\",\"legendgroup\":\"no\",\"marker\":{\"color\":\"#EF553B\"},\"name\":\"no\",\"notched\":false,\"offsetgroup\":\"no\",\"orientation\":\"v\",\"showlegend\":true,\"x\":[\"retired\",\"admin.\",\"blue-collar\",\"admin.\",\"entrepreneur\",\"management\",\"self-employed\",\"blue-collar\",\"technician\",\"unemployed\",\"self-employed\",\"services\",\"blue-collar\",\"housemaid\",\"technician\",\"retired\",\"management\",\"blue-collar\",\"blue-collar\",\"services\",\"services\",\"services\",\"blue-collar\",\"unknown\",\"services\",\"technician\",\"self-employed\",\"blue-collar\",\"technician\",\"blue-collar\",\"management\",\"blue-collar\",\"entrepreneur\",\"blue-collar\",\"management\",\"self-employed\",\"blue-collar\",\"technician\",\"admin.\",\"management\",\"management\",\"management\",\"blue-collar\",\"technician\",\"technician\",\"unemployed\",\"entrepreneur\",\"self-employed\",\"technician\",\"blue-collar\",\"entrepreneur\",\"technician\",\"retired\",\"services\",\"management\",\"management\",\"admin.\",\"management\",\"technician\",\"unknown\",\"admin.\",\"unemployed\",\"technician\",\"blue-collar\",\"blue-collar\",\"housemaid\",\"technician\",\"blue-collar\",\"blue-collar\",\"blue-collar\",\"management\",\"retired\",\"technician\",\"management\",\"technician\",\"services\",\"services\",\"blue-collar\",\"student\",\"technician\",\"services\",\"self-employed\",\"blue-collar\",\"management\",\"services\",\"management\",\"management\",\"management\",\"unemployed\",\"management\",\"blue-collar\",\"management\",\"self-employed\",\"technician\",\"blue-collar\",\"management\",\"blue-collar\",\"management\",\"self-employed\",\"blue-collar\",\"technician\",\"technician\",\"unemployed\",\"management\",\"self-employed\",\"technician\",\"blue-collar\",\"retired\",\"services\",\"blue-collar\",\"management\",\"unknown\",\"management\",\"self-employed\",\"entrepreneur\",\"entrepreneur\",\"unemployed\",\"management\",\"management\",\"retired\",\"technician\",\"self-employed\",\"unemployed\",\"technician\",\"technician\",\"management\",\"student\",\"admin.\",\"housemaid\",\"technician\",\"admin.\",\"management\",\"management\",\"entrepreneur\",\"admin.\",\"housemaid\",\"management\",\"management\",\"technician\",\"technician\",\"services\",\"self-employed\",\"management\",\"self-employed\",\"blue-collar\",\"admin.\",\"technician\",\"entrepreneur\",\"management\",\"management\",\"blue-collar\",\"management\",\"retired\",\"services\",\"services\",\"blue-collar\",\"technician\",\"retired\",\"technician\",\"management\",\"admin.\",\"management\",\"entrepreneur\",\"management\",\"management\",\"technician\",\"entrepreneur\",\"services\",\"technician\",\"blue-collar\",\"unemployed\",\"blue-collar\",\"entrepreneur\",\"management\",\"retired\",\"blue-collar\",\"blue-collar\",\"blue-collar\",\"management\",\"technician\",\"technician\",\"entrepreneur\",\"blue-collar\",\"management\",\"retired\",\"blue-collar\",\"self-employed\",\"blue-collar\",\"admin.\",\"blue-collar\",\"unemployed\",\"retired\",\"management\",\"services\",\"unemployed\",\"technician\",\"self-employed\",\"management\",\"unknown\",\"management\",\"unemployed\",\"admin.\",\"services\",\"management\",\"services\",\"entrepreneur\",\"services\",\"admin.\",\"technician\",\"services\",\"services\",\"blue-collar\",\"self-employed\",\"blue-collar\",\"management\",\"blue-collar\",\"management\",\"technician\",\"management\",\"management\",\"self-employed\",\"admin.\",\"management\",\"blue-collar\",\"blue-collar\",\"admin.\",\"entrepreneur\",\"blue-collar\",\"management\",\"management\",\"management\",\"management\",\"retired\",\"technician\",\"services\",\"technician\",\"entrepreneur\",\"blue-collar\",\"retired\",\"self-employed\",\"management\",\"management\",\"management\",\"blue-collar\",\"technician\",\"management\",\"student\",\"admin.\",\"admin.\",\"technician\",\"management\",\"blue-collar\",\"housemaid\",\"housemaid\",\"blue-collar\",\"technician\",\"technician\",\"management\",\"services\",\"technician\",\"entrepreneur\",\"housemaid\",\"admin.\",\"management\",\"management\",\"technician\",\"technician\",\"unemployed\",\"management\",\"services\",\"retired\",\"housemaid\",\"management\",\"entrepreneur\",\"management\",\"technician\",\"blue-collar\",\"blue-collar\",\"blue-collar\",\"blue-collar\",\"technician\",\"services\",\"blue-collar\",\"management\",\"blue-collar\",\"technician\",\"self-employed\",\"self-employed\",\"management\",\"admin.\",\"admin.\",\"blue-collar\",\"admin.\",\"technician\",\"blue-collar\",\"technician\",\"management\",\"management\",\"services\",\"management\",\"management\",\"blue-collar\",\"management\",\"management\",\"management\",\"unemployed\",\"services\",\"management\",\"services\",\"blue-collar\",\"blue-collar\",\"technician\",\"blue-collar\",\"technician\",\"admin.\",\"services\",\"admin.\",\"management\",\"blue-collar\",\"admin.\",\"housemaid\",\"management\",\"unemployed\",\"unemployed\",\"housemaid\",\"blue-collar\",\"technician\",\"unemployed\",\"services\",\"student\",\"admin.\",\"management\",\"blue-collar\",\"management\",\"blue-collar\",\"management\",\"blue-collar\",\"management\",\"management\",\"services\",\"services\",\"admin.\",\"services\",\"management\",\"services\",\"blue-collar\",\"services\",\"technician\",\"blue-collar\",\"management\",\"retired\",\"retired\",\"blue-collar\",\"management\",\"technician\",\"technician\",\"management\",\"admin.\",\"management\",\"housemaid\",\"admin.\",\"services\",\"management\",\"services\",\"services\",\"technician\",\"admin.\",\"blue-collar\",\"blue-collar\",\"technician\",\"admin.\",\"admin.\",\"management\",\"management\",\"housemaid\",\"services\",\"management\",\"blue-collar\",\"blue-collar\",\"entrepreneur\",\"management\",\"blue-collar\",\"technician\",\"admin.\",\"blue-collar\",\"blue-collar\",\"blue-collar\",\"management\",\"technician\",\"retired\",\"technician\",\"blue-collar\",\"management\",\"admin.\",\"blue-collar\",\"blue-collar\",\"blue-collar\",\"housemaid\",\"unknown\",\"admin.\",\"technician\",\"services\",\"technician\",\"admin.\",\"management\",\"blue-collar\",\"blue-collar\",\"retired\",\"unknown\",\"management\",\"blue-collar\",\"technician\",\"entrepreneur\",\"blue-collar\",\"self-employed\",\"blue-collar\",\"student\",\"technician\",\"management\",\"self-employed\",\"blue-collar\",\"services\",\"management\",\"services\",\"management\",\"technician\",\"housemaid\",\"technician\",\"entrepreneur\",\"blue-collar\",\"housemaid\",\"management\",\"entrepreneur\",\"admin.\",\"management\",\"admin.\",\"self-employed\",\"technician\",\"management\",\"management\",\"management\",\"admin.\",\"blue-collar\",\"technician\",\"management\",\"retired\",\"unemployed\",\"admin.\",\"management\",\"technician\",\"entrepreneur\",\"admin.\",\"blue-collar\",\"blue-collar\",\"housemaid\",\"blue-collar\",\"entrepreneur\",\"retired\",\"services\",\"technician\",\"management\",\"blue-collar\",\"management\",\"management\",\"management\",\"blue-collar\",\"unemployed\",\"management\",\"blue-collar\",\"technician\",\"admin.\",\"student\",\"blue-collar\",\"admin.\",\"management\",\"management\",\"management\",\"retired\",\"technician\",\"blue-collar\",\"management\",\"management\",\"management\",\"blue-collar\",\"retired\",\"services\",\"entrepreneur\",\"blue-collar\",\"management\",\"admin.\",\"housemaid\",\"blue-collar\",\"technician\",\"blue-collar\",\"blue-collar\",\"services\",\"services\",\"management\",\"retired\",\"housemaid\",\"services\",\"management\",\"admin.\",\"blue-collar\",\"admin.\",\"technician\",\"technician\",\"services\",\"retired\",\"blue-collar\",\"services\",\"management\",\"blue-collar\",\"admin.\",\"unknown\",\"technician\",\"services\",\"housemaid\",\"technician\",\"technician\",\"management\",\"blue-collar\",\"blue-collar\",\"management\",\"management\",\"management\",\"self-employed\",\"self-employed\",\"management\",\"blue-collar\",\"blue-collar\",\"technician\",\"management\",\"retired\",\"management\",\"retired\",\"management\",\"admin.\",\"management\",\"blue-collar\",\"retired\",\"technician\",\"management\",\"unknown\",\"retired\",\"management\",\"technician\",\"management\",\"management\",\"blue-collar\",\"admin.\",\"blue-collar\",\"blue-collar\",\"admin.\",\"technician\",\"entrepreneur\",\"management\",\"self-employed\",\"management\",\"housemaid\",\"management\",\"technician\",\"management\",\"management\",\"management\",\"blue-collar\",\"blue-collar\",\"blue-collar\",\"management\",\"services\",\"technician\",\"management\",\"self-employed\",\"management\",\"management\",\"blue-collar\",\"unemployed\",\"admin.\",\"admin.\",\"services\",\"blue-collar\",\"management\",\"services\",\"admin.\",\"management\",\"services\",\"services\",\"housemaid\",\"blue-collar\",\"management\",\"blue-collar\",\"management\",\"management\",\"management\",\"management\",\"blue-collar\",\"entrepreneur\",\"services\",\"blue-collar\",\"housemaid\",\"admin.\",\"management\",\"self-employed\",\"services\",\"blue-collar\",\"housemaid\",\"technician\",\"self-employed\",\"management\",\"technician\",\"services\",\"services\",\"technician\",\"management\",\"self-employed\",\"technician\",\"technician\",\"management\",\"blue-collar\",\"services\",\"retired\",\"management\",\"management\",\"technician\",\"blue-collar\",\"management\",\"housemaid\",\"retired\",\"housemaid\",\"technician\",\"admin.\",\"management\",\"blue-collar\",\"blue-collar\",\"blue-collar\",\"unemployed\",\"blue-collar\",\"technician\",\"services\",\"services\",\"entrepreneur\",\"blue-collar\",\"management\",\"technician\",\"admin.\",\"blue-collar\",\"technician\",\"services\",\"admin.\",\"blue-collar\",\"admin.\",\"management\",\"management\",\"technician\",\"blue-collar\",\"services\",\"technician\",\"management\",\"technician\",\"technician\",\"technician\",\"housemaid\",\"technician\",\"admin.\",\"management\",\"services\",\"management\",\"admin.\",\"admin.\",\"technician\",\"management\",\"blue-collar\",\"retired\",\"management\",\"services\",\"technician\",\"admin.\",\"services\",\"blue-collar\",\"blue-collar\",\"management\",\"services\",\"admin.\",\"management\",\"management\",\"management\",\"admin.\",\"management\",\"management\",\"admin.\",\"management\",\"admin.\",\"technician\",\"management\",\"management\",\"technician\",\"technician\",\"blue-collar\",\"management\",\"admin.\",\"blue-collar\",\"management\",\"retired\",\"management\",\"management\",\"management\",\"blue-collar\",\"housemaid\",\"technician\",\"blue-collar\",\"management\",\"management\",\"technician\",\"services\",\"technician\",\"admin.\",\"entrepreneur\",\"self-employed\",\"unemployed\",\"management\",\"services\",\"management\",\"unemployed\",\"services\",\"technician\",\"self-employed\",\"management\",\"retired\",\"management\",\"blue-collar\",\"technician\",\"technician\",\"blue-collar\",\"entrepreneur\",\"technician\",\"admin.\",\"management\",\"self-employed\",\"technician\",\"retired\",\"technician\",\"admin.\",\"blue-collar\",\"technician\",\"blue-collar\",\"blue-collar\",\"blue-collar\",\"management\",\"technician\",\"admin.\",\"management\",\"admin.\",\"management\",\"blue-collar\",\"admin.\",\"retired\",\"blue-collar\",\"unemployed\",\"blue-collar\",\"blue-collar\",\"management\",\"management\",\"unemployed\",\"services\",\"blue-collar\",\"services\",\"blue-collar\",\"management\",\"technician\",\"management\",\"student\",\"management\",\"admin.\",\"retired\",\"admin.\",\"admin.\",\"admin.\",\"technician\",\"services\",\"unemployed\",\"management\",\"admin.\",\"self-employed\",\"management\",\"technician\",\"admin.\",\"management\",\"blue-collar\",\"technician\",\"blue-collar\",\"technician\",\"management\",\"blue-collar\",\"management\",\"blue-collar\",\"unemployed\",\"self-employed\",\"technician\",\"admin.\",\"management\",\"admin.\",\"housemaid\",\"retired\",\"blue-collar\",\"retired\",\"retired\",\"housemaid\",\"admin.\",\"services\",\"technician\",\"management\",\"retired\",\"housemaid\",\"blue-collar\",\"retired\",\"services\",\"blue-collar\",\"blue-collar\",\"housemaid\",\"blue-collar\",\"management\",\"admin.\",\"retired\",\"blue-collar\",\"technician\",\"blue-collar\",\"housemaid\",\"technician\",\"management\",\"admin.\",\"admin.\",\"student\",\"admin.\",\"blue-collar\",\"technician\",\"management\",\"management\",\"blue-collar\",\"admin.\",\"unemployed\",\"self-employed\",\"technician\",\"blue-collar\",\"blue-collar\",\"housemaid\",\"blue-collar\",\"technician\",\"services\",\"admin.\",\"retired\",\"admin.\",\"retired\",\"student\",\"management\",\"management\",\"unemployed\",\"management\",\"retired\",\"blue-collar\",\"management\",\"blue-collar\",\"admin.\",\"technician\",\"technician\",\"retired\",\"technician\",\"blue-collar\",\"management\",\"blue-collar\",\"services\",\"technician\",\"blue-collar\",\"management\",\"technician\",\"admin.\",\"management\",\"management\",\"blue-collar\",\"services\",\"unemployed\",\"technician\",\"management\",\"unemployed\",\"services\",\"management\",\"management\",\"entrepreneur\",\"blue-collar\",\"management\",\"management\",\"admin.\",\"blue-collar\",\"entrepreneur\",\"services\",\"admin.\",\"admin.\",\"services\",\"blue-collar\",\"blue-collar\",\"admin.\",\"management\",\"management\",\"housemaid\",\"management\",\"services\",\"technician\",\"admin.\",\"admin.\",\"blue-collar\",\"management\",\"admin.\",\"blue-collar\",\"management\",\"management\",\"entrepreneur\",\"services\",\"self-employed\",\"admin.\",\"admin.\",\"blue-collar\",\"admin.\",\"blue-collar\",\"self-employed\",\"admin.\",\"unemployed\",\"admin.\",\"management\",\"admin.\",\"admin.\",\"blue-collar\",\"blue-collar\",\"technician\",\"admin.\",\"self-employed\",\"management\",\"management\",\"retired\",\"management\",\"blue-collar\",\"entrepreneur\",\"unemployed\",\"self-employed\",\"blue-collar\",\"blue-collar\",\"blue-collar\",\"management\",\"management\",\"management\",\"blue-collar\",\"technician\",\"admin.\",\"admin.\",\"management\",\"services\",\"services\",\"management\",\"technician\",\"housemaid\",\"retired\",\"technician\",\"management\",\"housemaid\",\"management\",\"entrepreneur\",\"blue-collar\",\"admin.\",\"housemaid\",\"management\",\"technician\",\"blue-collar\",\"blue-collar\",\"blue-collar\",\"retired\",\"management\",\"services\",\"unemployed\",\"admin.\",\"housemaid\",\"self-employed\",\"management\",\"blue-collar\",\"technician\",\"blue-collar\",\"blue-collar\",\"services\",\"management\",\"blue-collar\",\"admin.\",\"services\",\"admin.\",\"technician\",\"admin.\",\"blue-collar\",\"services\",\"housemaid\",\"management\",\"technician\",\"technician\",\"technician\",\"management\",\"blue-collar\",\"blue-collar\",\"management\",\"admin.\",\"technician\",\"blue-collar\",\"blue-collar\",\"self-employed\",\"blue-collar\",\"retired\",\"blue-collar\",\"unemployed\",\"admin.\",\"management\",\"management\",\"admin.\",\"student\",\"services\",\"blue-collar\",\"retired\",\"services\",\"admin.\",\"retired\",\"management\",\"technician\",\"blue-collar\",\"management\",\"admin.\",\"admin.\",\"retired\",\"services\",\"management\",\"management\",\"retired\",\"services\",\"blue-collar\",\"self-employed\",\"technician\",\"services\",\"technician\",\"management\",\"admin.\",\"services\",\"admin.\",\"unemployed\",\"technician\",\"unknown\",\"technician\",\"admin.\",\"blue-collar\",\"admin.\",\"management\",\"admin.\",\"blue-collar\",\"self-employed\",\"blue-collar\",\"unemployed\",\"management\",\"services\",\"technician\",\"management\",\"technician\",\"admin.\",\"management\",\"admin.\",\"housemaid\",\"blue-collar\",\"services\",\"management\",\"blue-collar\",\"student\",\"unknown\",\"technician\",\"management\",\"management\",\"management\",\"admin.\",\"admin.\",\"student\",\"entrepreneur\",\"technician\",\"blue-collar\",\"admin.\",\"management\",\"admin.\",\"management\",\"entrepreneur\",\"admin.\",\"blue-collar\",\"entrepreneur\",\"student\",\"technician\",\"services\",\"blue-collar\",\"management\",\"management\",\"management\",\"blue-collar\",\"management\",\"blue-collar\",\"retired\",\"services\",\"services\",\"admin.\",\"admin.\",\"management\",\"technician\",\"retired\",\"blue-collar\",\"admin.\",\"blue-collar\",\"management\",\"services\",\"blue-collar\",\"services\",\"unemployed\",\"management\",\"blue-collar\",\"blue-collar\",\"unemployed\",\"admin.\",\"services\",\"blue-collar\",\"self-employed\",\"blue-collar\",\"admin.\",\"management\",\"unemployed\",\"blue-collar\",\"self-employed\",\"admin.\",\"blue-collar\",\"blue-collar\",\"blue-collar\",\"blue-collar\",\"admin.\",\"blue-collar\",\"blue-collar\",\"management\",\"management\",\"self-employed\",\"management\",\"self-employed\",\"blue-collar\",\"services\",\"blue-collar\",\"management\",\"blue-collar\",\"management\",\"blue-collar\",\"housemaid\",\"management\",\"technician\",\"admin.\",\"blue-collar\",\"blue-collar\",\"services\",\"services\",\"technician\",\"blue-collar\",\"technician\",\"services\",\"unemployed\",\"entrepreneur\",\"student\",\"blue-collar\",\"technician\",\"technician\",\"services\",\"technician\",\"services\",\"retired\",\"technician\",\"management\",\"management\",\"services\",\"housemaid\",\"blue-collar\",\"admin.\",\"management\",\"entrepreneur\",\"blue-collar\",\"admin.\",\"entrepreneur\",\"blue-collar\",\"management\",\"retired\",\"management\",\"retired\",\"management\",\"entrepreneur\",\"admin.\",\"technician\",\"blue-collar\",\"admin.\",\"unemployed\",\"management\",\"admin.\",\"entrepreneur\",\"technician\",\"management\",\"technician\",\"blue-collar\",\"self-employed\",\"admin.\",\"technician\",\"management\",\"technician\",\"self-employed\",\"admin.\",\"services\",\"admin.\",\"technician\",\"blue-collar\",\"technician\",\"admin.\",\"management\",\"technician\",\"admin.\",\"entrepreneur\",\"technician\",\"services\",\"unemployed\",\"technician\",\"admin.\",\"technician\",\"services\",\"management\",\"self-employed\",\"entrepreneur\",\"technician\",\"management\",\"unemployed\",\"management\",\"services\",\"services\",\"admin.\",\"blue-collar\",\"technician\",\"admin.\",\"blue-collar\",\"technician\",\"blue-collar\",\"technician\",\"self-employed\",\"blue-collar\",\"management\",\"blue-collar\",\"management\",\"management\",\"blue-collar\",\"services\",\"services\",\"admin.\",\"services\",\"management\",\"technician\",\"admin.\",\"management\",\"technician\",\"technician\",\"admin.\",\"management\",\"technician\",\"blue-collar\",\"technician\",\"technician\",\"management\",\"management\",\"management\",\"services\",\"technician\",\"blue-collar\",\"technician\",\"blue-collar\",\"management\",\"technician\",\"management\",\"technician\",\"student\",\"entrepreneur\",\"technician\",\"management\",\"management\",\"technician\",\"admin.\",\"admin.\",\"blue-collar\",\"management\",\"admin.\",\"blue-collar\",\"self-employed\",\"technician\",\"admin.\",\"technician\",\"entrepreneur\",\"unemployed\",\"blue-collar\",\"technician\",\"retired\",\"admin.\",\"self-employed\",\"admin.\",\"management\",\"technician\",\"services\",\"blue-collar\",\"retired\",\"services\",\"management\",\"technician\",\"retired\",\"entrepreneur\",\"management\",\"entrepreneur\",\"admin.\",\"technician\",\"management\",\"admin.\",\"blue-collar\",\"admin.\",\"technician\",\"retired\",\"technician\",\"management\",\"admin.\",\"technician\",\"entrepreneur\",\"technician\",\"blue-collar\",\"management\",\"blue-collar\",\"services\",\"admin.\",\"management\",\"blue-collar\",\"blue-collar\",\"blue-collar\",\"entrepreneur\",\"entrepreneur\",\"self-employed\",\"technician\",\"housemaid\",\"services\",\"blue-collar\",\"management\",\"management\",\"management\",\"student\",\"admin.\",\"technician\",\"blue-collar\",\"management\",\"retired\",\"technician\",\"services\",\"management\",\"management\",\"blue-collar\",\"retired\",\"housemaid\",\"management\",\"admin.\",\"housemaid\",\"self-employed\",\"management\",\"self-employed\",\"services\",\"management\",\"self-employed\",\"technician\",\"technician\",\"technician\",\"self-employed\",\"admin.\",\"admin.\",\"management\",\"admin.\",\"technician\",\"services\",\"admin.\",\"blue-collar\",\"management\",\"admin.\",\"retired\",\"unemployed\",\"technician\",\"blue-collar\",\"admin.\",\"services\",\"management\",\"blue-collar\",\"technician\",\"admin.\",\"blue-collar\",\"entrepreneur\",\"blue-collar\",\"admin.\",\"blue-collar\",\"retired\",\"blue-collar\",\"entrepreneur\",\"technician\",\"technician\",\"admin.\",\"blue-collar\",\"retired\",\"blue-collar\",\"admin.\",\"admin.\",\"self-employed\",\"blue-collar\",\"admin.\",\"technician\",\"blue-collar\",\"management\",\"management\",\"unknown\",\"retired\",\"admin.\",\"housemaid\",\"housemaid\",\"services\",\"admin.\",\"technician\",\"technician\",\"admin.\",\"entrepreneur\",\"management\",\"blue-collar\",\"management\",\"admin.\",\"technician\",\"blue-collar\",\"admin.\",\"technician\",\"technician\",\"blue-collar\",\"student\",\"technician\",\"blue-collar\",\"management\",\"admin.\",\"blue-collar\",\"services\",\"blue-collar\",\"blue-collar\",\"management\",\"housemaid\",\"technician\",\"blue-collar\",\"services\",\"blue-collar\",\"blue-collar\",\"technician\",\"admin.\",\"management\",\"blue-collar\",\"services\",\"admin.\",\"management\",\"management\",\"blue-collar\",\"blue-collar\",\"blue-collar\",\"blue-collar\",\"blue-collar\",\"technician\",\"blue-collar\",\"technician\",\"blue-collar\",\"technician\",\"technician\",\"admin.\",\"technician\",\"technician\",\"management\",\"management\",\"admin.\",\"admin.\",\"technician\",\"services\",\"technician\",\"blue-collar\",\"housemaid\",\"retired\",\"blue-collar\",\"admin.\",\"services\",\"blue-collar\",\"management\",\"blue-collar\",\"admin.\",\"management\",\"admin.\",\"self-employed\",\"services\",\"management\",\"management\",\"technician\",\"blue-collar\",\"management\",\"technician\",\"blue-collar\",\"management\",\"management\",\"management\",\"management\",\"services\",\"admin.\",\"technician\",\"admin.\",\"blue-collar\",\"blue-collar\",\"services\",\"student\",\"retired\",\"admin.\",\"blue-collar\",\"management\",\"admin.\",\"student\",\"retired\",\"technician\",\"student\",\"unemployed\",\"services\",\"admin.\",\"blue-collar\",\"retired\",\"housemaid\",\"blue-collar\",\"blue-collar\",\"blue-collar\",\"blue-collar\",\"retired\",\"blue-collar\",\"admin.\",\"blue-collar\",\"management\",\"technician\",\"blue-collar\",\"technician\",\"management\",\"services\",\"admin.\",\"student\",\"services\",\"blue-collar\",\"technician\",\"technician\",\"services\",\"technician\",\"services\",\"management\",\"blue-collar\",\"technician\",\"services\",\"technician\",\"technician\",\"technician\",\"entrepreneur\",\"technician\",\"blue-collar\",\"housemaid\",\"management\",\"management\",\"admin.\",\"management\",\"services\",\"admin.\",\"unemployed\",\"retired\",\"technician\",\"management\",\"entrepreneur\",\"technician\",\"admin.\",\"management\",\"housemaid\",\"management\",\"technician\",\"student\",\"management\",\"technician\",\"admin.\",\"blue-collar\",\"admin.\",\"self-employed\",\"unemployed\",\"self-employed\",\"admin.\",\"blue-collar\",\"management\",\"self-employed\",\"student\",\"services\",\"blue-collar\",\"management\",\"admin.\",\"student\",\"technician\",\"technician\",\"management\",\"admin.\",\"blue-collar\",\"blue-collar\",\"management\",\"technician\",\"self-employed\",\"unemployed\",\"blue-collar\",\"technician\",\"blue-collar\",\"self-employed\",\"blue-collar\",\"retired\",\"management\",\"housemaid\",\"services\",\"blue-collar\",\"blue-collar\",\"housemaid\",\"blue-collar\",\"blue-collar\",\"admin.\",\"blue-collar\",\"services\",\"admin.\",\"blue-collar\",\"admin.\",\"technician\",\"technician\",\"student\",\"blue-collar\",\"blue-collar\",\"technician\",\"blue-collar\",\"blue-collar\",\"unemployed\",\"management\",\"blue-collar\",\"technician\",\"management\",\"management\",\"technician\",\"technician\",\"retired\",\"technician\",\"blue-collar\",\"blue-collar\",\"retired\",\"management\",\"management\",\"blue-collar\",\"admin.\",\"admin.\",\"blue-collar\",\"management\",\"admin.\",\"retired\",\"management\",\"admin.\",\"management\",\"admin.\",\"management\",\"self-employed\",\"management\",\"technician\",\"housemaid\",\"blue-collar\",\"admin.\",\"retired\",\"admin.\",\"blue-collar\",\"management\",\"technician\",\"blue-collar\",\"blue-collar\",\"entrepreneur\",\"services\",\"management\",\"entrepreneur\",\"admin.\",\"unemployed\",\"blue-collar\",\"management\",\"admin.\",\"entrepreneur\",\"management\",\"technician\",\"services\",\"unknown\",\"student\",\"retired\",\"admin.\",\"blue-collar\",\"management\",\"management\",\"housemaid\",\"admin.\",\"retired\",\"technician\",\"admin.\",\"technician\",\"technician\",\"blue-collar\",\"student\",\"admin.\",\"management\",\"technician\",\"services\",\"retired\",\"management\",\"technician\",\"management\",\"management\",\"blue-collar\",\"technician\",\"management\",\"technician\",\"blue-collar\",\"self-employed\",\"technician\",\"technician\",\"blue-collar\",\"services\",\"student\",\"technician\",\"management\",\"blue-collar\",\"management\",\"blue-collar\",\"retired\",\"management\",\"technician\",\"admin.\",\"management\",\"management\",\"retired\",\"technician\",\"management\",\"technician\",\"self-employed\",\"blue-collar\",\"entrepreneur\",\"services\",\"admin.\",\"management\",\"entrepreneur\",\"management\",\"admin.\",\"blue-collar\",\"blue-collar\",\"management\",\"blue-collar\",\"management\",\"blue-collar\",\"management\",\"management\",\"retired\",\"admin.\",\"self-employed\",\"management\",\"blue-collar\",\"management\",\"technician\",\"student\",\"technician\",\"technician\",\"management\",\"management\",\"entrepreneur\",\"admin.\",\"blue-collar\",\"admin.\",\"services\",\"retired\",\"management\",\"admin.\",\"blue-collar\",\"unknown\",\"management\",\"blue-collar\",\"blue-collar\",\"blue-collar\",\"blue-collar\",\"housemaid\",\"self-employed\",\"blue-collar\",\"blue-collar\",\"retired\",\"self-employed\",\"management\",\"housemaid\",\"retired\",\"admin.\",\"services\",\"blue-collar\",\"technician\",\"services\",\"blue-collar\",\"technician\",\"unemployed\",\"blue-collar\",\"technician\",\"management\",\"technician\",\"services\",\"self-employed\",\"entrepreneur\",\"technician\",\"technician\",\"management\",\"management\",\"technician\",\"blue-collar\",\"admin.\",\"services\",\"admin.\",\"technician\",\"entrepreneur\",\"management\",\"admin.\",\"admin.\",\"blue-collar\",\"blue-collar\",\"management\",\"entrepreneur\",\"management\",\"services\",\"technician\",\"technician\",\"services\",\"housemaid\",\"admin.\",\"management\",\"technician\",\"blue-collar\",\"blue-collar\",\"management\",\"housemaid\",\"services\",\"housemaid\",\"entrepreneur\",\"services\",\"blue-collar\",\"technician\",\"self-employed\",\"admin.\",\"retired\",\"services\",\"blue-collar\",\"management\",\"unemployed\",\"management\",\"unemployed\",\"blue-collar\",\"management\",\"management\",\"admin.\",\"technician\",\"management\",\"technician\",\"technician\",\"unemployed\",\"management\",\"blue-collar\",\"blue-collar\",\"services\",\"admin.\",\"technician\",\"admin.\",\"self-employed\",\"services\",\"services\",\"self-employed\",\"admin.\",\"retired\",\"blue-collar\",\"services\",\"services\",\"management\",\"services\",\"technician\",\"technician\",\"blue-collar\",\"admin.\",\"blue-collar\",\"technician\",\"management\",\"blue-collar\",\"blue-collar\",\"blue-collar\",\"admin.\",\"services\",\"blue-collar\",\"retired\",\"entrepreneur\",\"retired\",\"technician\",\"management\",\"blue-collar\",\"management\",\"admin.\",\"blue-collar\",\"unemployed\",\"blue-collar\",\"management\",\"unemployed\",\"services\",\"admin.\",\"blue-collar\",\"management\",\"management\",\"unemployed\",\"services\",\"services\",\"blue-collar\",\"management\",\"blue-collar\",\"blue-collar\",\"retired\",\"retired\",\"blue-collar\",\"management\",\"blue-collar\",\"retired\",\"management\",\"management\",\"blue-collar\",\"housemaid\",\"management\",\"technician\",\"blue-collar\",\"admin.\",\"technician\",\"entrepreneur\",\"blue-collar\",\"services\",\"technician\",\"technician\",\"housemaid\",\"self-employed\",\"management\",\"blue-collar\",\"blue-collar\",\"blue-collar\",\"admin.\",\"blue-collar\",\"technician\",\"technician\",\"technician\",\"student\",\"management\",\"blue-collar\",\"admin.\",\"entrepreneur\",\"management\",\"blue-collar\",\"blue-collar\",\"housemaid\",\"technician\",\"management\",\"technician\",\"blue-collar\",\"technician\",\"student\",\"blue-collar\",\"blue-collar\",\"services\",\"blue-collar\",\"management\",\"technician\",\"management\",\"technician\",\"management\",\"services\",\"technician\",\"services\",\"management\",\"entrepreneur\",\"services\",\"management\",\"entrepreneur\",\"management\",\"technician\",\"housemaid\",\"technician\",\"services\",\"blue-collar\",\"blue-collar\",\"technician\",\"management\",\"technician\",\"management\",\"unknown\",\"technician\",\"services\",\"technician\",\"blue-collar\",\"technician\",\"services\",\"admin.\",\"entrepreneur\",\"services\",\"student\",\"services\",\"housemaid\",\"entrepreneur\",\"blue-collar\",\"management\",\"admin.\",\"technician\",\"technician\",\"self-employed\",\"services\",\"services\",\"unemployed\",\"technician\",\"management\",\"services\",\"technician\",\"unemployed\",\"blue-collar\",\"entrepreneur\",\"technician\",\"technician\",\"student\",\"technician\",\"management\",\"services\",\"blue-collar\",\"student\",\"unknown\",\"retired\",\"management\",\"management\",\"technician\",\"housemaid\",\"blue-collar\",\"retired\",\"admin.\",\"management\",\"housemaid\",\"blue-collar\",\"technician\",\"admin.\",\"admin.\",\"blue-collar\",\"blue-collar\",\"student\",\"admin.\",\"services\",\"technician\",\"management\",\"blue-collar\",\"technician\",\"retired\",\"housemaid\",\"entrepreneur\",\"admin.\",\"retired\",\"admin.\",\"services\",\"blue-collar\",\"technician\",\"blue-collar\",\"technician\",\"management\",\"management\",\"admin.\",\"management\",\"management\",\"technician\",\"management\",\"blue-collar\",\"admin.\",\"self-employed\",\"technician\",\"management\",\"management\",\"technician\",\"services\",\"housemaid\",\"services\",\"technician\",\"management\",\"management\",\"admin.\",\"unemployed\",\"blue-collar\",\"management\",\"blue-collar\",\"blue-collar\",\"blue-collar\",\"management\",\"services\",\"technician\",\"student\",\"technician\",\"technician\",\"management\",\"admin.\",\"unemployed\",\"technician\",\"management\",\"admin.\",\"management\",\"self-employed\",\"blue-collar\",\"self-employed\",\"management\",\"admin.\",\"admin.\",\"entrepreneur\",\"management\",\"unemployed\",\"blue-collar\",\"technician\",\"technician\",\"technician\",\"blue-collar\",\"entrepreneur\",\"technician\",\"entrepreneur\",\"entrepreneur\",\"management\",\"admin.\",\"management\",\"technician\",\"technician\",\"admin.\",\"self-employed\",\"retired\",\"technician\",\"self-employed\",\"services\",\"retired\",\"blue-collar\",\"blue-collar\",\"technician\",\"blue-collar\",\"admin.\",\"management\",\"admin.\",\"student\",\"entrepreneur\",\"admin.\",\"management\",\"technician\",\"services\",\"blue-collar\",\"housemaid\",\"blue-collar\",\"blue-collar\",\"blue-collar\",\"blue-collar\",\"technician\",\"technician\",\"housemaid\",\"services\",\"blue-collar\",\"admin.\",\"admin.\",\"retired\",\"retired\",\"entrepreneur\",\"blue-collar\",\"management\",\"blue-collar\",\"retired\",\"management\",\"blue-collar\",\"services\",\"technician\",\"admin.\",\"management\",\"management\",\"services\",\"blue-collar\",\"management\",\"admin.\",\"admin.\",\"management\",\"management\",\"retired\",\"management\",\"technician\",\"management\",\"admin.\",\"admin.\",\"blue-collar\",\"management\",\"technician\",\"management\",\"blue-collar\",\"services\",\"technician\",\"technician\",\"technician\",\"blue-collar\",\"retired\",\"services\",\"management\",\"admin.\",\"management\",\"technician\",\"housemaid\",\"entrepreneur\",\"admin.\",\"services\",\"technician\",\"blue-collar\",\"services\",\"technician\",\"management\",\"services\",\"management\",\"technician\",\"services\",\"services\",\"management\",\"admin.\",\"management\",\"self-employed\",\"management\",\"unemployed\",\"technician\",\"services\",\"technician\",\"blue-collar\",\"blue-collar\",\"technician\",\"management\",\"admin.\",\"student\",\"management\",\"management\",\"technician\",\"blue-collar\",\"management\",\"blue-collar\",\"blue-collar\",\"housemaid\",\"student\",\"management\",\"management\",\"services\",\"self-employed\",\"housemaid\",\"management\",\"unemployed\",\"management\",\"technician\",\"management\",\"services\",\"admin.\",\"unemployed\",\"admin.\",\"admin.\",\"services\",\"technician\",\"technician\",\"services\",\"admin.\",\"technician\",\"retired\",\"blue-collar\",\"blue-collar\",\"technician\",\"management\",\"management\",\"admin.\",\"management\",\"services\",\"management\",\"technician\",\"self-employed\",\"technician\",\"management\",\"admin.\",\"retired\",\"blue-collar\",\"admin.\",\"admin.\",\"blue-collar\",\"services\",\"technician\",\"technician\",\"technician\",\"technician\",\"technician\",\"management\",\"retired\",\"admin.\",\"technician\",\"management\",\"management\",\"technician\",\"blue-collar\",\"management\",\"blue-collar\",\"blue-collar\",\"student\",\"admin.\",\"blue-collar\",\"management\",\"housemaid\",\"technician\",\"technician\",\"services\",\"blue-collar\",\"blue-collar\",\"technician\",\"technician\",\"management\",\"admin.\",\"management\",\"technician\",\"services\",\"services\",\"student\",\"management\",\"blue-collar\",\"blue-collar\",\"retired\",\"technician\",\"management\",\"entrepreneur\",\"unemployed\",\"technician\",\"management\",\"admin.\",\"technician\",\"admin.\",\"blue-collar\",\"blue-collar\",\"retired\",\"services\",\"blue-collar\",\"management\",\"technician\",\"admin.\",\"management\",\"admin.\",\"blue-collar\",\"blue-collar\",\"management\",\"technician\",\"blue-collar\",\"technician\",\"blue-collar\",\"admin.\",\"services\",\"blue-collar\",\"unknown\",\"admin.\",\"technician\",\"blue-collar\",\"blue-collar\",\"blue-collar\",\"blue-collar\",\"technician\",\"blue-collar\",\"retired\",\"student\",\"blue-collar\",\"technician\",\"blue-collar\",\"management\",\"management\",\"technician\",\"services\",\"blue-collar\",\"unemployed\",\"management\",\"entrepreneur\",\"blue-collar\",\"admin.\",\"services\",\"blue-collar\",\"blue-collar\",\"blue-collar\",\"management\",\"housemaid\",\"management\",\"blue-collar\",\"blue-collar\",\"admin.\",\"blue-collar\",\"self-employed\",\"technician\",\"services\",\"admin.\",\"management\",\"blue-collar\",\"blue-collar\",\"unemployed\",\"technician\",\"blue-collar\",\"technician\",\"self-employed\",\"technician\",\"management\",\"management\",\"management\",\"management\",\"self-employed\",\"admin.\",\"blue-collar\",\"management\",\"admin.\",\"services\",\"self-employed\",\"blue-collar\",\"blue-collar\",\"blue-collar\",\"management\",\"blue-collar\",\"management\",\"blue-collar\",\"unemployed\",\"management\",\"admin.\",\"technician\",\"technician\",\"management\",\"self-employed\",\"blue-collar\",\"technician\",\"management\",\"management\",\"blue-collar\",\"entrepreneur\",\"technician\",\"blue-collar\",\"student\",\"management\",\"blue-collar\",\"technician\",\"admin.\",\"management\",\"self-employed\",\"management\",\"entrepreneur\",\"admin.\",\"technician\",\"technician\",\"admin.\",\"admin.\",\"blue-collar\",\"management\",\"admin.\",\"technician\",\"admin.\",\"technician\",\"services\",\"management\",\"blue-collar\",\"self-employed\",\"management\",\"blue-collar\",\"services\",\"blue-collar\",\"admin.\",\"technician\",\"self-employed\",\"retired\",\"services\",\"blue-collar\",\"unemployed\",\"services\",\"admin.\",\"blue-collar\",\"management\",\"blue-collar\",\"services\",\"housemaid\",\"management\",\"admin.\",\"admin.\",\"management\",\"management\",\"blue-collar\",\"management\",\"technician\",\"management\",\"entrepreneur\",\"technician\",\"blue-collar\",\"blue-collar\",\"technician\",\"management\",\"blue-collar\",\"management\",\"technician\",\"housemaid\",\"technician\",\"admin.\",\"services\",\"blue-collar\",\"entrepreneur\",\"management\",\"management\",\"admin.\",\"services\",\"entrepreneur\",\"housemaid\",\"blue-collar\",\"blue-collar\",\"services\",\"blue-collar\",\"management\",\"management\",\"services\",\"blue-collar\",\"blue-collar\",\"self-employed\",\"technician\",\"blue-collar\",\"technician\",\"admin.\",\"self-employed\",\"technician\",\"technician\",\"management\",\"self-employed\",\"technician\",\"admin.\",\"technician\",\"technician\",\"services\",\"management\",\"blue-collar\",\"blue-collar\",\"admin.\",\"unemployed\",\"technician\",\"blue-collar\",\"blue-collar\",\"technician\",\"services\",\"admin.\",\"admin.\",\"services\",\"housemaid\",\"management\",\"blue-collar\",\"blue-collar\",\"blue-collar\",\"technician\",\"blue-collar\",\"services\",\"blue-collar\",\"blue-collar\",\"self-employed\",\"blue-collar\",\"entrepreneur\",\"management\",\"retired\",\"technician\",\"blue-collar\",\"technician\",\"technician\",\"blue-collar\",\"entrepreneur\",\"blue-collar\",\"housemaid\",\"blue-collar\",\"management\",\"unemployed\",\"services\",\"services\",\"services\",\"technician\",\"admin.\",\"technician\",\"services\",\"blue-collar\",\"management\",\"admin.\",\"admin.\",\"entrepreneur\",\"services\",\"management\",\"management\",\"management\",\"retired\",\"technician\",\"services\",\"retired\",\"services\",\"services\",\"technician\",\"blue-collar\",\"blue-collar\",\"management\",\"technician\",\"management\",\"unknown\",\"admin.\",\"housemaid\",\"management\",\"management\",\"services\",\"technician\",\"admin.\",\"admin.\",\"technician\",\"admin.\",\"management\",\"technician\",\"blue-collar\",\"entrepreneur\",\"services\",\"management\",\"management\",\"management\",\"management\",\"self-employed\",\"entrepreneur\",\"blue-collar\",\"blue-collar\",\"technician\",\"management\",\"technician\",\"management\",\"blue-collar\",\"admin.\",\"services\",\"technician\",\"technician\",\"technician\",\"blue-collar\",\"management\",\"management\",\"services\",\"unemployed\",\"admin.\",\"technician\",\"management\",\"services\",\"technician\",\"self-employed\",\"self-employed\",\"retired\",\"retired\",\"blue-collar\",\"technician\",\"technician\",\"technician\",\"management\",\"management\",\"technician\",\"admin.\",\"admin.\",\"management\",\"services\",\"retired\",\"admin.\",\"entrepreneur\",\"services\",\"unemployed\",\"management\",\"admin.\",\"student\",\"services\",\"management\",\"blue-collar\",\"services\",\"student\",\"blue-collar\",\"blue-collar\",\"technician\",\"entrepreneur\",\"management\",\"admin.\",\"management\",\"unemployed\",\"services\",\"technician\",\"technician\",\"admin.\",\"housemaid\",\"technician\",\"services\",\"services\",\"admin.\",\"admin.\",\"management\",\"management\",\"blue-collar\",\"management\",\"services\",\"management\",\"self-employed\",\"services\",\"blue-collar\",\"admin.\",\"technician\",\"self-employed\",\"blue-collar\",\"blue-collar\",\"blue-collar\",\"unknown\",\"admin.\",\"technician\",\"management\",\"technician\",\"management\",\"management\",\"self-employed\",\"entrepreneur\",\"entrepreneur\",\"technician\",\"blue-collar\",\"technician\",\"blue-collar\",\"technician\",\"blue-collar\",\"technician\",\"student\",\"management\",\"blue-collar\",\"housemaid\",\"entrepreneur\",\"services\",\"admin.\",\"management\",\"management\",\"retired\",\"management\",\"unknown\",\"blue-collar\",\"blue-collar\",\"blue-collar\",\"management\",\"management\",\"self-employed\",\"self-employed\",\"blue-collar\",\"services\",\"services\",\"technician\",\"technician\",\"services\",\"management\",\"technician\",\"technician\",\"blue-collar\",\"technician\",\"retired\",\"admin.\",\"entrepreneur\",\"blue-collar\",\"technician\",\"admin.\",\"self-employed\",\"retired\",\"technician\",\"admin.\",\"management\",\"student\",\"blue-collar\",\"services\",\"student\",\"management\",\"services\",\"management\",\"blue-collar\",\"management\",\"blue-collar\",\"technician\",\"admin.\",\"blue-collar\",\"unemployed\",\"management\",\"technician\",\"management\",\"technician\",\"entrepreneur\",\"services\",\"student\",\"self-employed\",\"technician\",\"housemaid\",\"services\",\"services\",\"management\",\"services\",\"management\",\"blue-collar\",\"management\",\"admin.\",\"management\",\"services\",\"blue-collar\",\"management\",\"services\",\"services\",\"blue-collar\",\"housemaid\",\"blue-collar\",\"student\",\"management\",\"management\",\"admin.\",\"management\",\"retired\",\"management\",\"blue-collar\",\"management\",\"admin.\",\"housemaid\",\"admin.\",\"blue-collar\",\"housemaid\",\"self-employed\",\"blue-collar\",\"technician\",\"technician\",\"blue-collar\",\"technician\",\"technician\",\"services\",\"admin.\",\"services\",\"management\",\"technician\",\"retired\",\"services\",\"unemployed\",\"technician\",\"services\",\"entrepreneur\",\"self-employed\",\"retired\",\"management\",\"admin.\",\"blue-collar\",\"management\",\"unemployed\",\"entrepreneur\",\"technician\",\"student\",\"admin.\",\"admin.\",\"technician\",\"entrepreneur\",\"management\",\"management\",\"entrepreneur\",\"technician\",\"entrepreneur\",\"blue-collar\",\"blue-collar\",\"technician\",\"management\",\"blue-collar\",\"admin.\",\"admin.\",\"services\",\"blue-collar\",\"blue-collar\",\"management\",\"management\",\"technician\",\"blue-collar\",\"blue-collar\",\"management\",\"management\",\"services\",\"retired\",\"self-employed\",\"blue-collar\",\"management\",\"services\",\"blue-collar\",\"admin.\",\"technician\",\"entrepreneur\",\"management\",\"blue-collar\",\"unemployed\",\"services\",\"blue-collar\",\"technician\",\"management\",\"technician\",\"unemployed\",\"admin.\",\"blue-collar\",\"management\",\"technician\",\"housemaid\",\"management\",\"technician\",\"blue-collar\",\"services\",\"self-employed\",\"management\",\"management\",\"management\",\"admin.\",\"technician\",\"blue-collar\",\"management\",\"admin.\",\"admin.\",\"management\",\"technician\",\"management\",\"management\",\"blue-collar\",\"entrepreneur\",\"housemaid\",\"services\",\"management\",\"management\",\"blue-collar\",\"management\",\"management\",\"self-employed\",\"admin.\",\"blue-collar\",\"management\",\"services\",\"entrepreneur\",\"technician\",\"entrepreneur\",\"admin.\",\"management\",\"unemployed\",\"housemaid\",\"blue-collar\",\"admin.\",\"housemaid\",\"technician\",\"management\",\"services\",\"blue-collar\",\"blue-collar\",\"management\",\"management\",\"admin.\",\"technician\",\"management\",\"management\",\"technician\",\"technician\",\"blue-collar\",\"unemployed\",\"management\",\"student\",\"housemaid\",\"management\",\"management\",\"unemployed\",\"services\",\"management\",\"technician\",\"management\",\"management\",\"retired\",\"blue-collar\",\"admin.\",\"blue-collar\",\"blue-collar\",\"admin.\",\"blue-collar\",\"services\",\"technician\",\"technician\",\"management\",\"management\",\"management\",\"blue-collar\",\"management\",\"services\",\"technician\",\"services\",\"services\",\"entrepreneur\",\"management\",\"blue-collar\",\"admin.\",\"management\",\"blue-collar\",\"management\",\"blue-collar\",\"self-employed\",\"self-employed\",\"blue-collar\",\"student\",\"self-employed\",\"management\",\"management\",\"blue-collar\",\"management\",\"management\",\"blue-collar\",\"technician\",\"retired\",\"management\",\"services\",\"technician\",\"management\",\"services\",\"technician\",\"self-employed\",\"retired\",\"technician\",\"blue-collar\",\"services\",\"technician\",\"technician\",\"technician\",\"admin.\",\"blue-collar\",\"management\",\"services\",\"technician\",\"technician\",\"management\",\"entrepreneur\",\"blue-collar\",\"management\",\"housemaid\",\"admin.\",\"technician\",\"management\",\"blue-collar\",\"blue-collar\",\"management\",\"self-employed\",\"management\",\"admin.\",\"blue-collar\",\"management\",\"services\",\"retired\",\"blue-collar\",\"blue-collar\",\"retired\",\"admin.\",\"admin.\",\"management\",\"management\",\"management\",\"management\",\"blue-collar\",\"technician\",\"admin.\",\"blue-collar\",\"unemployed\",\"student\",\"housemaid\",\"services\",\"management\",\"admin.\",\"retired\",\"services\",\"unemployed\",\"entrepreneur\",\"services\",\"retired\",\"management\",\"management\",\"blue-collar\",\"technician\",\"technician\",\"services\",\"blue-collar\",\"services\",\"technician\",\"services\",\"blue-collar\",\"retired\",\"unknown\",\"services\",\"unemployed\",\"blue-collar\",\"management\",\"housemaid\",\"admin.\",\"management\",\"management\",\"housemaid\",\"housemaid\",\"admin.\",\"entrepreneur\",\"technician\",\"technician\",\"technician\",\"technician\",\"blue-collar\",\"admin.\",\"retired\",\"self-employed\",\"blue-collar\",\"blue-collar\",\"technician\",\"entrepreneur\",\"technician\",\"admin.\",\"management\",\"retired\",\"technician\",\"housemaid\",\"management\",\"technician\",\"blue-collar\",\"housemaid\",\"blue-collar\",\"management\",\"blue-collar\",\"management\",\"services\",\"technician\",\"services\",\"admin.\",\"technician\",\"management\",\"entrepreneur\",\"blue-collar\",\"blue-collar\",\"blue-collar\",\"admin.\",\"management\",\"admin.\",\"services\",\"blue-collar\",\"technician\",\"student\",\"management\",\"technician\",\"admin.\",\"management\",\"blue-collar\",\"services\",\"admin.\",\"retired\",\"blue-collar\",\"blue-collar\",\"management\",\"management\",\"blue-collar\",\"self-employed\",\"admin.\",\"blue-collar\",\"services\",\"blue-collar\",\"technician\",\"technician\",\"housemaid\",\"entrepreneur\",\"technician\",\"blue-collar\",\"blue-collar\",\"technician\",\"management\",\"entrepreneur\",\"retired\",\"blue-collar\",\"technician\",\"technician\",\"management\",\"blue-collar\",\"admin.\",\"management\",\"entrepreneur\",\"retired\",\"management\",\"technician\",\"admin.\",\"technician\",\"blue-collar\",\"technician\",\"blue-collar\",\"blue-collar\",\"admin.\",\"admin.\",\"self-employed\",\"admin.\",\"retired\",\"entrepreneur\",\"services\",\"services\",\"unknown\",\"blue-collar\",\"blue-collar\",\"technician\",\"admin.\",\"management\",\"blue-collar\",\"services\",\"self-employed\",\"management\",\"student\",\"management\",\"admin.\",\"admin.\",\"management\",\"technician\",\"housemaid\",\"technician\",\"management\",\"admin.\",\"management\",\"services\",\"technician\",\"technician\",\"admin.\",\"technician\",\"blue-collar\",\"blue-collar\",\"services\",\"self-employed\",\"admin.\",\"services\",\"retired\",\"management\",\"management\",\"entrepreneur\",\"management\",\"technician\",\"management\",\"self-employed\",\"management\",\"management\",\"admin.\",\"self-employed\",\"retired\",\"technician\",\"housemaid\",\"blue-collar\",\"blue-collar\",\"management\",\"technician\",\"technician\",\"management\",\"technician\",\"services\",\"blue-collar\",\"blue-collar\",\"blue-collar\",\"technician\",\"management\",\"self-employed\",\"technician\",\"technician\",\"technician\",\"blue-collar\",\"technician\",\"technician\",\"unemployed\",\"technician\",\"management\",\"blue-collar\",\"blue-collar\",\"services\",\"technician\",\"unemployed\",\"technician\",\"blue-collar\",\"management\",\"management\",\"housemaid\",\"management\",\"entrepreneur\",\"blue-collar\",\"admin.\",\"management\",\"management\",\"services\",\"management\",\"blue-collar\",\"blue-collar\",\"services\",\"admin.\",\"technician\",\"management\",\"technician\",\"blue-collar\",\"technician\",\"management\",\"blue-collar\",\"student\",\"services\",\"services\",\"management\",\"management\",\"technician\",\"management\",\"services\",\"admin.\",\"blue-collar\",\"management\",\"admin.\",\"admin.\",\"blue-collar\",\"admin.\",\"entrepreneur\",\"management\",\"management\",\"admin.\",\"housemaid\",\"housemaid\",\"housemaid\",\"admin.\",\"blue-collar\",\"technician\",\"blue-collar\",\"management\",\"housemaid\",\"technician\",\"blue-collar\",\"self-employed\",\"management\",\"services\",\"management\",\"admin.\",\"retired\",\"technician\",\"blue-collar\",\"student\",\"management\",\"unemployed\",\"technician\",\"blue-collar\",\"self-employed\",\"management\",\"management\",\"management\",\"services\",\"management\",\"management\",\"services\",\"management\",\"services\",\"services\",\"technician\",\"housemaid\",\"technician\",\"services\",\"management\",\"services\",\"blue-collar\",\"blue-collar\",\"admin.\",\"services\",\"services\",\"management\",\"services\",\"services\",\"management\",\"blue-collar\",\"management\",\"technician\",\"management\",\"management\",\"blue-collar\",\"blue-collar\",\"services\",\"blue-collar\",\"management\",\"services\",\"blue-collar\",\"entrepreneur\",\"blue-collar\",\"blue-collar\",\"services\",\"housemaid\",\"management\",\"retired\",\"management\",\"blue-collar\",\"technician\",\"technician\",\"management\",\"management\",\"entrepreneur\",\"technician\",\"blue-collar\",\"services\",\"services\",\"unemployed\",\"blue-collar\",\"technician\",\"technician\",\"unknown\",\"services\",\"management\",\"blue-collar\",\"technician\",\"admin.\",\"management\",\"blue-collar\",\"blue-collar\",\"blue-collar\",\"technician\",\"admin.\",\"self-employed\",\"unemployed\",\"management\",\"unemployed\",\"management\",\"entrepreneur\",\"blue-collar\",\"unemployed\",\"retired\",\"entrepreneur\",\"unemployed\",\"admin.\",\"services\",\"services\",\"blue-collar\",\"management\",\"technician\",\"entrepreneur\",\"admin.\",\"management\",\"management\",\"management\",\"self-employed\",\"blue-collar\",\"services\",\"technician\",\"blue-collar\",\"management\",\"technician\",\"technician\",\"blue-collar\",\"technician\",\"technician\",\"unemployed\",\"technician\",\"technician\",\"self-employed\",\"management\",\"management\",\"blue-collar\",\"technician\",\"self-employed\",\"retired\",\"services\",\"management\",\"entrepreneur\",\"admin.\",\"admin.\",\"retired\",\"blue-collar\",\"self-employed\",\"services\",\"admin.\",\"self-employed\",\"services\",\"management\",\"technician\",\"management\",\"management\",\"housemaid\",\"services\",\"management\",\"blue-collar\",\"housemaid\",\"admin.\",\"technician\",\"admin.\",\"technician\",\"management\",\"retired\",\"blue-collar\",\"retired\",\"management\",\"services\",\"admin.\",\"unemployed\",\"management\",\"admin.\",\"technician\",\"admin.\",\"services\",\"admin.\",\"retired\",\"management\",\"blue-collar\",\"admin.\",\"blue-collar\",\"services\",\"management\",\"blue-collar\",\"management\",\"admin.\",\"management\",\"blue-collar\",\"management\",\"management\",\"management\",\"management\",\"technician\",\"blue-collar\",\"admin.\",\"technician\",\"services\",\"blue-collar\",\"blue-collar\",\"admin.\",\"blue-collar\",\"technician\",\"blue-collar\",\"technician\",\"blue-collar\",\"blue-collar\",\"management\",\"admin.\",\"self-employed\",\"management\",\"management\",\"management\",\"technician\",\"blue-collar\",\"retired\",\"management\",\"blue-collar\",\"technician\",\"blue-collar\",\"management\",\"admin.\",\"blue-collar\",\"services\",\"technician\",\"blue-collar\",\"management\",\"management\",\"self-employed\",\"technician\",\"student\",\"blue-collar\",\"entrepreneur\",\"admin.\",\"admin.\",\"blue-collar\",\"blue-collar\",\"blue-collar\",\"unemployed\",\"technician\",\"services\",\"management\",\"admin.\",\"housemaid\",\"services\",\"management\",\"unemployed\",\"technician\",\"technician\",\"blue-collar\",\"technician\",\"blue-collar\",\"blue-collar\",\"management\",\"blue-collar\",\"housemaid\",\"self-employed\",\"technician\",\"entrepreneur\",\"technician\",\"blue-collar\",\"management\",\"retired\",\"blue-collar\",\"blue-collar\",\"admin.\",\"student\",\"services\",\"blue-collar\",\"admin.\",\"management\",\"retired\",\"retired\",\"services\",\"management\",\"blue-collar\",\"blue-collar\",\"management\",\"blue-collar\",\"technician\",\"management\",\"technician\",\"technician\",\"unknown\",\"entrepreneur\",\"technician\",\"blue-collar\",\"retired\",\"blue-collar\",\"technician\",\"technician\",\"services\",\"services\",\"management\",\"admin.\",\"management\",\"management\",\"admin.\",\"management\",\"blue-collar\",\"admin.\",\"management\",\"management\",\"technician\",\"services\",\"services\",\"unemployed\",\"technician\",\"management\",\"blue-collar\",\"technician\",\"services\",\"entrepreneur\",\"services\",\"self-employed\",\"services\",\"admin.\",\"technician\",\"management\",\"technician\",\"technician\",\"student\",\"management\",\"blue-collar\",\"technician\",\"technician\",\"technician\",\"entrepreneur\",\"management\",\"blue-collar\",\"blue-collar\",\"admin.\",\"management\",\"entrepreneur\",\"management\",\"technician\",\"management\",\"self-employed\",\"management\",\"retired\",\"self-employed\",\"management\",\"management\",\"technician\",\"management\",\"blue-collar\",\"technician\",\"housemaid\",\"self-employed\",\"retired\",\"technician\",\"blue-collar\",\"technician\",\"technician\",\"entrepreneur\",\"services\",\"student\",\"retired\",\"retired\",\"retired\",\"blue-collar\",\"admin.\",\"blue-collar\",\"unemployed\",\"unknown\",\"self-employed\",\"admin.\",\"services\",\"blue-collar\",\"blue-collar\",\"technician\",\"services\",\"retired\",\"admin.\",\"admin.\",\"management\",\"management\",\"admin.\",\"management\",\"blue-collar\",\"management\",\"management\",\"services\",\"technician\",\"blue-collar\",\"management\",\"blue-collar\",\"unemployed\",\"blue-collar\",\"technician\",\"management\",\"retired\",\"management\",\"admin.\",\"entrepreneur\",\"technician\",\"housemaid\",\"blue-collar\",\"technician\",\"management\",\"management\",\"admin.\",\"management\",\"management\",\"services\",\"admin.\",\"unemployed\",\"services\",\"admin.\",\"self-employed\",\"blue-collar\",\"management\",\"management\",\"retired\",\"blue-collar\",\"blue-collar\",\"blue-collar\",\"management\",\"services\",\"technician\",\"services\",\"blue-collar\",\"admin.\",\"admin.\",\"admin.\",\"management\",\"admin.\",\"admin.\",\"services\",\"retired\",\"blue-collar\",\"blue-collar\",\"admin.\",\"management\",\"management\",\"technician\",\"services\",\"technician\",\"admin.\",\"technician\",\"retired\",\"retired\",\"management\",\"management\",\"retired\",\"technician\",\"services\",\"blue-collar\",\"blue-collar\",\"blue-collar\",\"blue-collar\",\"unemployed\",\"technician\",\"admin.\",\"housemaid\",\"management\",\"services\",\"housemaid\",\"housemaid\",\"retired\",\"retired\",\"management\",\"management\",\"self-employed\",\"technician\",\"management\",\"technician\",\"blue-collar\",\"technician\",\"blue-collar\",\"blue-collar\",\"technician\",\"blue-collar\",\"management\",\"blue-collar\",\"admin.\",\"technician\",\"services\",\"services\",\"technician\",\"technician\",\"blue-collar\",\"management\",\"management\",\"services\",\"management\",\"admin.\",\"retired\",\"services\",\"management\",\"admin.\",\"technician\",\"retired\",\"management\",\"services\",\"technician\",\"management\",\"retired\",\"admin.\",\"management\",\"blue-collar\",\"technician\",\"admin.\",\"management\",\"blue-collar\",\"blue-collar\",\"technician\",\"admin.\",\"technician\",\"management\",\"unemployed\",\"blue-collar\",\"entrepreneur\",\"management\",\"admin.\",\"blue-collar\",\"retired\",\"services\",\"blue-collar\",\"blue-collar\",\"management\",\"technician\",\"blue-collar\",\"blue-collar\",\"management\",\"blue-collar\",\"admin.\",\"technician\",\"blue-collar\",\"management\",\"blue-collar\",\"technician\",\"admin.\",\"technician\",\"blue-collar\",\"admin.\",\"technician\",\"entrepreneur\",\"technician\",\"blue-collar\",\"entrepreneur\",\"blue-collar\",\"blue-collar\",\"technician\",\"technician\",\"management\",\"technician\",\"retired\",\"services\",\"management\",\"management\",\"self-employed\",\"unemployed\",\"blue-collar\",\"blue-collar\",\"blue-collar\",\"unemployed\",\"technician\",\"entrepreneur\",\"management\",\"services\",\"technician\",\"blue-collar\",\"blue-collar\",\"blue-collar\",\"management\",\"technician\",\"blue-collar\",\"management\",\"services\",\"blue-collar\",\"self-employed\",\"admin.\",\"management\",\"admin.\",\"blue-collar\",\"self-employed\",\"management\",\"retired\",\"technician\",\"technician\",\"management\",\"admin.\",\"management\",\"blue-collar\",\"management\",\"management\",\"admin.\",\"technician\",\"blue-collar\",\"blue-collar\",\"management\",\"retired\",\"blue-collar\",\"blue-collar\",\"admin.\",\"technician\",\"management\",\"management\",\"blue-collar\",\"blue-collar\",\"retired\",\"blue-collar\",\"management\",\"admin.\",\"technician\",\"blue-collar\",\"management\",\"blue-collar\",\"management\",\"technician\",\"management\",\"services\",\"blue-collar\",\"blue-collar\",\"entrepreneur\",\"management\",\"unemployed\",\"unknown\",\"management\",\"blue-collar\",\"technician\",\"admin.\",\"management\",\"blue-collar\",\"unemployed\",\"blue-collar\",\"entrepreneur\",\"management\",\"admin.\",\"services\",\"admin.\",\"admin.\",\"management\",\"technician\",\"management\",\"technician\",\"blue-collar\",\"management\",\"blue-collar\",\"blue-collar\",\"technician\",\"services\",\"entrepreneur\",\"blue-collar\",\"management\",\"retired\",\"self-employed\",\"management\",\"management\",\"blue-collar\",\"admin.\",\"technician\",\"technician\",\"technician\",\"blue-collar\",\"management\",\"management\",\"blue-collar\",\"technician\",\"blue-collar\",\"technician\",\"blue-collar\",\"services\",\"admin.\",\"management\",\"student\",\"management\",\"services\",\"management\",\"blue-collar\",\"blue-collar\",\"blue-collar\",\"housemaid\",\"unknown\",\"technician\",\"blue-collar\",\"technician\",\"technician\",\"retired\",\"management\",\"unknown\",\"retired\",\"management\",\"technician\",\"admin.\",\"self-employed\",\"management\",\"technician\",\"management\",\"blue-collar\",\"management\",\"housemaid\",\"management\",\"retired\",\"housemaid\",\"blue-collar\",\"services\",\"retired\",\"services\",\"management\",\"retired\",\"unemployed\",\"technician\",\"technician\",\"services\",\"management\",\"blue-collar\",\"technician\",\"management\",\"admin.\",\"admin.\",\"housemaid\",\"blue-collar\",\"self-employed\",\"housemaid\",\"blue-collar\",\"admin.\",\"blue-collar\",\"technician\",\"blue-collar\",\"blue-collar\",\"admin.\",\"management\",\"blue-collar\",\"management\",\"services\",\"services\",\"admin.\",\"blue-collar\",\"admin.\",\"entrepreneur\",\"services\",\"services\",\"blue-collar\",\"services\",\"self-employed\",\"technician\",\"admin.\",\"retired\",\"management\",\"self-employed\",\"blue-collar\",\"services\",\"management\",\"management\",\"self-employed\",\"retired\",\"management\",\"technician\",\"blue-collar\",\"management\",\"blue-collar\",\"unemployed\",\"blue-collar\",\"retired\",\"technician\",\"services\",\"management\",\"blue-collar\",\"unemployed\",\"admin.\",\"management\",\"self-employed\",\"entrepreneur\",\"admin.\",\"blue-collar\",\"blue-collar\",\"blue-collar\",\"blue-collar\",\"self-employed\",\"self-employed\",\"admin.\",\"blue-collar\",\"management\",\"management\",\"management\",\"admin.\",\"technician\",\"management\",\"management\",\"technician\",\"management\",\"management\",\"services\",\"retired\",\"blue-collar\",\"technician\",\"blue-collar\",\"technician\",\"management\",\"entrepreneur\",\"management\",\"services\",\"management\",\"management\",\"management\",\"technician\",\"services\",\"unemployed\",\"technician\",\"management\",\"admin.\",\"technician\",\"technician\",\"management\",\"entrepreneur\",\"management\",\"services\",\"technician\",\"admin.\",\"blue-collar\",\"self-employed\",\"self-employed\",\"blue-collar\",\"retired\",\"blue-collar\",\"management\",\"management\",\"admin.\",\"admin.\",\"services\",\"admin.\",\"technician\",\"entrepreneur\",\"admin.\",\"admin.\",\"management\",\"blue-collar\",\"retired\",\"blue-collar\",\"blue-collar\",\"housemaid\",\"services\",\"blue-collar\",\"services\",\"admin.\",\"entrepreneur\",\"management\",\"admin.\",\"admin.\",\"blue-collar\",\"technician\",\"self-employed\",\"blue-collar\",\"management\",\"retired\",\"services\",\"technician\",\"management\",\"services\",\"retired\",\"blue-collar\",\"management\",\"services\",\"management\",\"blue-collar\",\"blue-collar\",\"management\",\"management\",\"technician\",\"services\",\"admin.\",\"unemployed\",\"self-employed\",\"services\",\"blue-collar\",\"management\",\"technician\",\"services\",\"blue-collar\",\"management\",\"unemployed\",\"management\",\"management\",\"retired\",\"services\",\"admin.\",\"management\",\"blue-collar\",\"blue-collar\",\"management\",\"technician\",\"blue-collar\",\"retired\",\"admin.\",\"admin.\",\"blue-collar\",\"blue-collar\",\"technician\",\"blue-collar\",\"management\",\"self-employed\",\"technician\",\"services\",\"self-employed\",\"unknown\",\"services\",\"technician\",\"blue-collar\",\"services\",\"blue-collar\",\"management\",\"self-employed\",\"blue-collar\",\"technician\",\"management\",\"unemployed\",\"retired\",\"technician\",\"management\",\"unemployed\",\"management\",\"admin.\",\"management\",\"blue-collar\",\"admin.\",\"self-employed\",\"blue-collar\",\"technician\",\"management\",\"services\",\"admin.\",\"management\",\"blue-collar\",\"entrepreneur\",\"blue-collar\",\"admin.\",\"blue-collar\",\"management\",\"blue-collar\",\"blue-collar\",\"technician\",\"management\",\"entrepreneur\",\"management\",\"technician\",\"technician\",\"admin.\",\"self-employed\",\"management\",\"technician\",\"technician\",\"blue-collar\",\"management\",\"technician\",\"blue-collar\",\"admin.\",\"blue-collar\",\"admin.\",\"admin.\",\"blue-collar\",\"blue-collar\",\"housemaid\",\"blue-collar\",\"management\",\"blue-collar\",\"blue-collar\",\"technician\",\"management\",\"blue-collar\",\"management\",\"blue-collar\",\"admin.\",\"technician\",\"management\",\"management\",\"blue-collar\",\"management\",\"management\",\"technician\",\"admin.\",\"technician\",\"blue-collar\",\"technician\",\"blue-collar\",\"blue-collar\",\"services\",\"technician\",\"retired\",\"blue-collar\",\"blue-collar\",\"management\",\"student\",\"blue-collar\",\"management\",\"management\",\"blue-collar\",\"blue-collar\",\"admin.\",\"blue-collar\",\"blue-collar\",\"services\",\"blue-collar\",\"technician\",\"technician\",\"retired\",\"retired\",\"management\",\"blue-collar\",\"technician\",\"technician\",\"services\",\"technician\",\"blue-collar\",\"admin.\",\"admin.\",\"services\",\"blue-collar\",\"management\",\"blue-collar\",\"management\",\"blue-collar\",\"admin.\",\"technician\",\"blue-collar\",\"blue-collar\",\"admin.\",\"technician\",\"admin.\",\"services\",\"student\",\"services\",\"admin.\",\"technician\",\"blue-collar\",\"services\",\"technician\",\"management\",\"management\",\"blue-collar\",\"blue-collar\",\"services\",\"services\",\"retired\",\"admin.\",\"blue-collar\",\"blue-collar\",\"management\",\"admin.\",\"blue-collar\",\"technician\",\"student\",\"technician\",\"technician\",\"self-employed\",\"self-employed\",\"technician\",\"services\",\"management\",\"technician\",\"admin.\",\"blue-collar\",\"management\",\"blue-collar\",\"services\",\"unknown\",\"management\",\"management\",\"retired\",\"blue-collar\",\"unknown\",\"technician\",\"technician\",\"retired\",\"management\",\"self-employed\",\"admin.\",\"self-employed\",\"housemaid\",\"unemployed\",\"technician\",\"technician\",\"services\",\"management\",\"technician\",\"admin.\",\"blue-collar\",\"services\",\"blue-collar\",\"services\",\"technician\",\"entrepreneur\",\"unemployed\",\"admin.\",\"services\",\"student\",\"management\",\"technician\",\"blue-collar\",\"admin.\",\"blue-collar\",\"blue-collar\",\"services\",\"admin.\",\"technician\",\"technician\",\"technician\",\"technician\",\"management\",\"blue-collar\",\"technician\",\"self-employed\",\"unknown\",\"blue-collar\",\"admin.\",\"admin.\",\"technician\",\"management\",\"blue-collar\",\"housemaid\",\"technician\",\"services\",\"admin.\",\"blue-collar\",\"blue-collar\",\"services\",\"student\",\"blue-collar\",\"blue-collar\",\"student\",\"technician\",\"management\",\"self-employed\",\"blue-collar\",\"management\",\"management\",\"technician\",\"admin.\",\"blue-collar\",\"blue-collar\",\"management\",\"blue-collar\",\"admin.\",\"technician\",\"management\",\"blue-collar\",\"blue-collar\",\"retired\",\"management\",\"blue-collar\",\"blue-collar\",\"blue-collar\",\"technician\",\"admin.\",\"technician\",\"management\",\"admin.\",\"services\",\"management\",\"technician\",\"technician\",\"blue-collar\",\"blue-collar\",\"technician\",\"admin.\",\"management\",\"blue-collar\",\"blue-collar\",\"admin.\",\"blue-collar\",\"blue-collar\",\"housemaid\",\"management\",\"retired\",\"services\",\"blue-collar\",\"management\",\"management\",\"admin.\",\"retired\",\"technician\",\"technician\",\"retired\",\"blue-collar\",\"technician\",\"retired\",\"technician\",\"services\",\"admin.\",\"retired\",\"technician\",\"self-employed\",\"entrepreneur\",\"management\",\"blue-collar\",\"housemaid\",\"blue-collar\",\"technician\",\"management\",\"unemployed\",\"technician\",\"self-employed\",\"blue-collar\",\"services\",\"blue-collar\",\"technician\",\"services\",\"technician\",\"technician\",\"management\",\"management\",\"management\",\"retired\",\"management\",\"management\",\"technician\",\"blue-collar\",\"technician\",\"blue-collar\",\"admin.\",\"admin.\",\"blue-collar\",\"blue-collar\",\"services\",\"technician\",\"management\",\"admin.\",\"blue-collar\",\"management\",\"entrepreneur\",\"admin.\",\"housemaid\",\"management\",\"services\",\"admin.\",\"housemaid\",\"management\",\"blue-collar\",\"technician\",\"retired\",\"technician\",\"management\",\"technician\",\"admin.\",\"blue-collar\",\"technician\",\"management\",\"management\",\"services\",\"blue-collar\",\"technician\",\"unknown\",\"blue-collar\",\"student\",\"blue-collar\",\"blue-collar\",\"admin.\",\"management\",\"admin.\",\"self-employed\",\"management\",\"services\",\"blue-collar\",\"technician\",\"blue-collar\",\"admin.\",\"management\",\"self-employed\",\"technician\",\"blue-collar\",\"technician\",\"blue-collar\",\"blue-collar\",\"retired\",\"admin.\",\"retired\",\"services\",\"self-employed\",\"technician\",\"management\",\"technician\",\"management\",\"admin.\",\"technician\",\"services\",\"management\",\"management\",\"services\",\"blue-collar\",\"admin.\",\"technician\",\"management\",\"management\",\"technician\",\"student\",\"admin.\",\"technician\",\"unemployed\",\"blue-collar\",\"technician\",\"retired\",\"blue-collar\",\"management\",\"admin.\",\"blue-collar\",\"admin.\",\"management\",\"blue-collar\",\"services\",\"technician\",\"services\",\"management\",\"admin.\",\"management\",\"management\",\"self-employed\",\"management\",\"services\",\"self-employed\",\"management\",\"services\",\"technician\",\"technician\",\"technician\",\"admin.\",\"admin.\",\"student\",\"technician\",\"management\",\"technician\",\"management\",\"technician\",\"blue-collar\",\"blue-collar\",\"management\",\"admin.\",\"student\",\"services\",\"blue-collar\",\"technician\",\"management\",\"management\",\"technician\",\"blue-collar\",\"technician\",\"entrepreneur\",\"services\",\"management\",\"admin.\",\"management\",\"blue-collar\",\"technician\",\"blue-collar\",\"technician\",\"services\",\"admin.\",\"admin.\",\"management\",\"services\",\"technician\",\"services\",\"technician\",\"unemployed\",\"technician\",\"blue-collar\",\"management\",\"blue-collar\",\"technician\",\"retired\",\"admin.\",\"services\",\"technician\",\"admin.\",\"retired\",\"services\",\"admin.\",\"housemaid\",\"blue-collar\",\"blue-collar\",\"management\",\"admin.\",\"blue-collar\",\"unknown\",\"management\",\"admin.\",\"blue-collar\",\"management\",\"blue-collar\",\"self-employed\",\"management\",\"admin.\",\"management\",\"technician\",\"admin.\",\"blue-collar\",\"technician\",\"management\",\"management\",\"blue-collar\",\"management\",\"management\",\"admin.\",\"entrepreneur\",\"management\",\"self-employed\",\"entrepreneur\",\"technician\",\"student\",\"retired\",\"management\",\"management\",\"technician\",\"technician\",\"management\",\"student\",\"blue-collar\",\"blue-collar\",\"services\",\"technician\",\"management\",\"technician\",\"services\",\"management\",\"entrepreneur\",\"entrepreneur\",\"retired\",\"blue-collar\",\"blue-collar\",\"technician\",\"student\",\"retired\",\"management\",\"blue-collar\",\"services\",\"blue-collar\",\"blue-collar\",\"blue-collar\",\"management\",\"management\",\"services\",\"technician\",\"management\",\"technician\",\"blue-collar\",\"blue-collar\",\"services\",\"entrepreneur\",\"blue-collar\",\"retired\",\"services\",\"admin.\",\"self-employed\",\"admin.\",\"self-employed\",\"admin.\",\"blue-collar\",\"blue-collar\",\"technician\",\"admin.\",\"services\",\"blue-collar\",\"technician\",\"services\",\"blue-collar\",\"technician\",\"technician\",\"management\",\"admin.\",\"entrepreneur\",\"technician\",\"services\",\"admin.\",\"technician\",\"services\",\"services\",\"blue-collar\",\"admin.\",\"admin.\",\"blue-collar\",\"management\",\"housemaid\",\"admin.\",\"admin.\",\"management\",\"technician\",\"blue-collar\",\"management\",\"blue-collar\",\"management\",\"management\",\"blue-collar\",\"blue-collar\",\"blue-collar\",\"self-employed\",\"management\",\"blue-collar\",\"retired\",\"technician\",\"blue-collar\",\"services\",\"management\",\"services\",\"admin.\",\"management\",\"services\",\"management\",\"admin.\",\"admin.\",\"management\",\"services\",\"blue-collar\",\"technician\",\"blue-collar\",\"entrepreneur\",\"blue-collar\",\"admin.\",\"admin.\",\"blue-collar\",\"management\",\"management\",\"admin.\",\"technician\",\"technician\",\"management\",\"services\",\"retired\",\"technician\",\"student\",\"blue-collar\",\"management\",\"blue-collar\",\"student\",\"services\",\"services\",\"admin.\",\"management\",\"blue-collar\",\"housemaid\",\"management\",\"blue-collar\",\"technician\",\"technician\",\"blue-collar\",\"blue-collar\",\"technician\",\"admin.\",\"technician\",\"admin.\",\"management\",\"admin.\",\"admin.\",\"admin.\",\"admin.\",\"entrepreneur\",\"retired\",\"management\",\"blue-collar\",\"blue-collar\",\"student\",\"blue-collar\",\"admin.\",\"technician\",\"self-employed\",\"management\",\"blue-collar\",\"entrepreneur\",\"management\",\"blue-collar\",\"blue-collar\",\"technician\",\"blue-collar\",\"technician\",\"blue-collar\",\"blue-collar\",\"management\",\"admin.\",\"unemployed\",\"management\",\"technician\",\"housemaid\",\"housemaid\",\"blue-collar\",\"management\",\"management\",\"entrepreneur\",\"management\",\"technician\",\"technician\",\"blue-collar\",\"technician\",\"blue-collar\",\"admin.\",\"services\",\"blue-collar\",\"retired\",\"services\",\"self-employed\",\"management\",\"services\",\"technician\",\"services\",\"technician\",\"admin.\",\"entrepreneur\",\"management\",\"blue-collar\",\"unemployed\",\"blue-collar\",\"management\",\"services\",\"technician\",\"blue-collar\",\"services\",\"blue-collar\",\"management\",\"blue-collar\",\"self-employed\",\"blue-collar\",\"blue-collar\",\"management\",\"self-employed\",\"management\",\"student\",\"technician\",\"technician\",\"management\",\"technician\",\"technician\",\"blue-collar\",\"admin.\",\"technician\",\"entrepreneur\",\"unemployed\",\"management\",\"blue-collar\",\"technician\",\"management\",\"blue-collar\",\"admin.\",\"blue-collar\",\"admin.\",\"admin.\",\"blue-collar\",\"services\",\"services\",\"admin.\",\"unemployed\",\"services\",\"management\",\"self-employed\",\"management\",\"management\",\"entrepreneur\",\"unemployed\",\"management\",\"retired\",\"admin.\",\"services\",\"management\",\"technician\",\"management\",\"management\",\"technician\",\"blue-collar\",\"technician\",\"technician\",\"blue-collar\",\"retired\",\"technician\",\"management\",\"admin.\",\"admin.\",\"technician\",\"admin.\",\"admin.\",\"technician\",\"services\",\"technician\",\"blue-collar\",\"self-employed\",\"blue-collar\",\"technician\",\"technician\",\"blue-collar\",\"blue-collar\",\"technician\",\"admin.\",\"technician\",\"technician\",\"management\",\"technician\",\"services\",\"blue-collar\",\"blue-collar\",\"management\",\"housemaid\",\"blue-collar\",\"technician\",\"blue-collar\",\"services\",\"admin.\",\"self-employed\",\"technician\",\"blue-collar\",\"admin.\",\"management\",\"management\",\"self-employed\",\"blue-collar\",\"self-employed\",\"management\",\"admin.\",\"entrepreneur\",\"unemployed\",\"blue-collar\",\"management\",\"blue-collar\",\"management\",\"management\",\"services\",\"management\",\"admin.\",\"services\",\"management\",\"services\",\"admin.\",\"blue-collar\",\"technician\",\"management\",\"entrepreneur\",\"management\",\"services\",\"management\",\"management\",\"management\",\"blue-collar\",\"management\",\"management\",\"services\",\"retired\",\"management\",\"blue-collar\",\"entrepreneur\",\"blue-collar\",\"blue-collar\",\"services\",\"services\",\"admin.\",\"retired\",\"blue-collar\",\"blue-collar\",\"blue-collar\",\"blue-collar\",\"technician\",\"blue-collar\",\"blue-collar\",\"self-employed\",\"admin.\",\"management\",\"admin.\",\"blue-collar\",\"management\",\"technician\",\"blue-collar\",\"services\",\"services\",\"blue-collar\",\"services\",\"housemaid\",\"blue-collar\",\"admin.\",\"admin.\",\"management\",\"management\",\"blue-collar\",\"blue-collar\",\"services\",\"management\",\"management\",\"blue-collar\",\"management\",\"services\",\"management\",\"entrepreneur\",\"admin.\",\"technician\",\"management\",\"technician\",\"management\",\"blue-collar\",\"entrepreneur\",\"housemaid\",\"management\",\"blue-collar\",\"admin.\",\"management\",\"admin.\",\"technician\",\"technician\",\"services\",\"blue-collar\",\"entrepreneur\",\"retired\",\"student\",\"management\",\"admin.\",\"entrepreneur\",\"blue-collar\",\"housemaid\",\"technician\",\"blue-collar\",\"technician\",\"unemployed\",\"blue-collar\",\"technician\",\"retired\",\"management\",\"admin.\",\"blue-collar\",\"technician\",\"blue-collar\",\"blue-collar\",\"retired\",\"admin.\",\"technician\",\"blue-collar\",\"technician\",\"self-employed\",\"services\",\"services\",\"blue-collar\",\"blue-collar\",\"housemaid\",\"blue-collar\",\"technician\",\"unemployed\",\"management\",\"blue-collar\",\"admin.\",\"technician\",\"technician\",\"technician\",\"technician\",\"blue-collar\",\"retired\",\"retired\",\"management\",\"blue-collar\",\"management\",\"blue-collar\",\"admin.\",\"retired\",\"entrepreneur\",\"technician\",\"technician\",\"admin.\",\"blue-collar\",\"admin.\",\"entrepreneur\",\"management\",\"admin.\",\"blue-collar\",\"blue-collar\",\"admin.\",\"blue-collar\",\"services\",\"admin.\",\"blue-collar\",\"technician\",\"housemaid\",\"admin.\",\"blue-collar\",\"management\",\"technician\",\"entrepreneur\",\"management\",\"management\",\"management\",\"blue-collar\",\"blue-collar\",\"blue-collar\",\"technician\",\"services\",\"technician\",\"management\",\"management\",\"services\",\"blue-collar\",\"technician\",\"management\",\"technician\",\"technician\",\"blue-collar\",\"admin.\",\"admin.\",\"blue-collar\",\"management\",\"admin.\",\"services\",\"management\",\"management\",\"services\",\"blue-collar\",\"technician\",\"management\",\"management\",\"blue-collar\",\"technician\",\"blue-collar\",\"housemaid\",\"technician\",\"admin.\",\"technician\",\"technician\",\"blue-collar\",\"blue-collar\",\"management\",\"blue-collar\",\"blue-collar\",\"admin.\",\"blue-collar\",\"services\",\"services\",\"unemployed\",\"management\",\"self-employed\",\"services\",\"student\",\"management\",\"management\",\"admin.\",\"technician\",\"management\",\"blue-collar\",\"blue-collar\",\"entrepreneur\",\"management\",\"management\",\"unemployed\",\"blue-collar\",\"blue-collar\",\"technician\",\"entrepreneur\",\"blue-collar\",\"management\",\"services\",\"self-employed\",\"management\",\"management\",\"services\",\"technician\",\"management\",\"management\",\"admin.\",\"retired\",\"blue-collar\",\"services\",\"blue-collar\",\"management\",\"blue-collar\",\"management\",\"management\",\"admin.\",\"unemployed\",\"technician\",\"management\",\"technician\",\"housemaid\",\"retired\",\"admin.\",\"technician\",\"admin.\",\"blue-collar\",\"admin.\",\"services\",\"unemployed\",\"unknown\",\"housemaid\",\"admin.\",\"admin.\",\"admin.\",\"blue-collar\",\"management\",\"services\",\"entrepreneur\",\"admin.\",\"admin.\",\"management\",\"retired\",\"technician\",\"blue-collar\",\"entrepreneur\",\"management\",\"management\",\"retired\",\"management\",\"technician\",\"retired\",\"technician\",\"blue-collar\",\"admin.\",\"technician\",\"blue-collar\",\"technician\",\"management\",\"blue-collar\",\"management\",\"management\",\"blue-collar\",\"services\",\"self-employed\",\"entrepreneur\",\"services\",\"self-employed\",\"entrepreneur\",\"student\",\"admin.\",\"technician\",\"services\",\"admin.\",\"admin.\",\"blue-collar\",\"technician\",\"technician\",\"retired\",\"housemaid\",\"management\",\"blue-collar\",\"management\",\"self-employed\",\"blue-collar\",\"management\",\"technician\",\"management\",\"services\",\"self-employed\",\"blue-collar\",\"student\",\"blue-collar\",\"blue-collar\",\"technician\",\"student\",\"blue-collar\",\"technician\",\"management\",\"unemployed\",\"blue-collar\",\"management\",\"management\",\"admin.\",\"blue-collar\",\"blue-collar\",\"blue-collar\",\"technician\",\"retired\",\"blue-collar\",\"technician\",\"management\",\"technician\",\"management\",\"technician\",\"management\",\"blue-collar\",\"admin.\",\"housemaid\",\"technician\",\"unknown\",\"blue-collar\",\"blue-collar\",\"blue-collar\",\"entrepreneur\",\"management\",\"management\",\"retired\",\"technician\",\"blue-collar\",\"management\",\"entrepreneur\",\"retired\",\"blue-collar\",\"technician\",\"technician\",\"housemaid\",\"admin.\",\"technician\",\"management\",\"management\",\"technician\",\"admin.\",\"management\",\"blue-collar\",\"admin.\",\"student\",\"technician\",\"blue-collar\",\"retired\",\"self-employed\",\"management\",\"management\",\"management\",\"technician\",\"housemaid\",\"technician\",\"blue-collar\",\"self-employed\",\"services\",\"technician\",\"blue-collar\",\"management\",\"student\",\"technician\",\"management\",\"blue-collar\",\"services\",\"blue-collar\",\"services\",\"technician\",\"management\",\"management\",\"admin.\",\"management\",\"admin.\",\"entrepreneur\",\"management\",\"entrepreneur\",\"technician\",\"management\",\"retired\",\"self-employed\",\"services\",\"unemployed\",\"services\",\"self-employed\",\"admin.\",\"blue-collar\",\"services\",\"blue-collar\",\"retired\",\"technician\",\"management\",\"retired\",\"blue-collar\",\"blue-collar\",\"admin.\",\"blue-collar\",\"management\",\"management\",\"blue-collar\",\"management\",\"management\",\"technician\",\"management\",\"services\",\"blue-collar\",\"blue-collar\",\"technician\",\"unemployed\",\"housemaid\",\"retired\",\"blue-collar\",\"blue-collar\",\"management\",\"technician\",\"blue-collar\",\"management\",\"technician\",\"unemployed\",\"blue-collar\",\"blue-collar\",\"services\",\"blue-collar\",\"management\",\"services\",\"admin.\",\"entrepreneur\",\"admin.\",\"management\",\"management\",\"management\",\"blue-collar\",\"technician\",\"entrepreneur\",\"blue-collar\",\"management\",\"blue-collar\",\"technician\",\"services\",\"blue-collar\",\"blue-collar\",\"management\",\"technician\",\"entrepreneur\",\"admin.\",\"management\",\"blue-collar\",\"management\",\"blue-collar\",\"management\",\"retired\",\"admin.\",\"management\",\"entrepreneur\",\"technician\",\"admin.\",\"technician\",\"admin.\",\"blue-collar\",\"admin.\",\"management\",\"services\",\"retired\",\"unknown\",\"blue-collar\",\"management\",\"management\",\"technician\",\"retired\",\"unemployed\",\"self-employed\",\"blue-collar\",\"technician\",\"unemployed\",\"management\",\"self-employed\",\"entrepreneur\",\"management\",\"services\",\"management\",\"management\",\"management\",\"technician\",\"admin.\",\"student\",\"management\",\"technician\",\"services\",\"blue-collar\",\"admin.\",\"blue-collar\",\"management\",\"management\",\"services\",\"admin.\",\"technician\",\"housemaid\",\"management\",\"blue-collar\",\"admin.\",\"technician\",\"retired\",\"technician\",\"management\",\"services\",\"retired\",\"management\",\"management\",\"management\",\"services\",\"services\",\"blue-collar\",\"management\",\"management\",\"management\",\"self-employed\",\"management\",\"blue-collar\",\"admin.\",\"management\",\"unemployed\",\"blue-collar\",\"blue-collar\",\"services\",\"blue-collar\",\"student\",\"management\",\"blue-collar\",\"blue-collar\",\"admin.\",\"management\",\"blue-collar\",\"blue-collar\",\"blue-collar\",\"management\",\"technician\",\"blue-collar\",\"blue-collar\",\"admin.\",\"technician\",\"management\",\"blue-collar\",\"self-employed\",\"blue-collar\",\"entrepreneur\",\"services\",\"blue-collar\",\"management\",\"management\",\"admin.\",\"management\",\"management\",\"management\",\"management\",\"management\",\"blue-collar\",\"management\",\"admin.\",\"admin.\",\"admin.\",\"blue-collar\",\"admin.\",\"services\",\"blue-collar\",\"management\",\"admin.\",\"housemaid\",\"management\",\"technician\",\"technician\",\"technician\",\"blue-collar\",\"admin.\",\"management\",\"technician\",\"services\",\"entrepreneur\",\"technician\",\"services\",\"management\",\"entrepreneur\",\"admin.\",\"technician\",\"management\",\"self-employed\",\"technician\",\"retired\",\"technician\",\"technician\",\"admin.\",\"technician\",\"blue-collar\",\"services\",\"admin.\",\"blue-collar\",\"blue-collar\",\"blue-collar\",\"admin.\",\"blue-collar\",\"housemaid\",\"blue-collar\",\"blue-collar\",\"technician\",\"management\",\"technician\",\"technician\",\"technician\",\"admin.\",\"blue-collar\",\"management\",\"technician\",\"unemployed\",\"management\",\"technician\",\"housemaid\",\"student\",\"services\",\"management\",\"management\",\"housemaid\",\"self-employed\",\"housemaid\",\"blue-collar\",\"management\",\"technician\",\"blue-collar\",\"management\",\"admin.\",\"blue-collar\",\"admin.\",\"technician\",\"management\",\"unemployed\",\"retired\",\"technician\",\"services\",\"technician\",\"blue-collar\",\"admin.\",\"admin.\",\"management\",\"management\",\"blue-collar\",\"management\",\"management\",\"blue-collar\",\"blue-collar\",\"blue-collar\",\"technician\",\"management\",\"blue-collar\",\"housemaid\",\"blue-collar\",\"self-employed\",\"technician\",\"management\",\"blue-collar\",\"entrepreneur\",\"blue-collar\",\"admin.\",\"services\",\"management\",\"blue-collar\",\"blue-collar\",\"unemployed\",\"admin.\",\"unemployed\",\"unemployed\",\"technician\",\"admin.\",\"services\",\"technician\",\"management\",\"services\",\"blue-collar\",\"admin.\",\"admin.\",\"entrepreneur\",\"blue-collar\",\"technician\",\"self-employed\",\"admin.\",\"technician\",\"technician\",\"technician\",\"blue-collar\",\"management\",\"technician\",\"blue-collar\",\"housemaid\",\"entrepreneur\",\"blue-collar\",\"self-employed\",\"housemaid\",\"unemployed\",\"blue-collar\",\"technician\",\"services\",\"admin.\",\"entrepreneur\",\"technician\",\"services\",\"services\",\"technician\",\"blue-collar\",\"blue-collar\",\"technician\",\"blue-collar\",\"management\",\"housemaid\",\"management\",\"services\",\"self-employed\",\"technician\",\"management\",\"blue-collar\",\"technician\",\"housemaid\",\"blue-collar\",\"blue-collar\",\"management\",\"retired\",\"technician\",\"technician\",\"management\",\"admin.\",\"self-employed\",\"management\",\"services\",\"technician\",\"blue-collar\",\"management\",\"management\",\"services\",\"retired\",\"management\",\"retired\",\"services\",\"management\",\"management\",\"management\",\"blue-collar\",\"technician\",\"admin.\",\"technician\",\"management\",\"blue-collar\",\"services\",\"housemaid\",\"services\",\"unemployed\",\"unemployed\",\"blue-collar\",\"student\",\"management\",\"management\",\"management\",\"technician\",\"blue-collar\",\"admin.\",\"management\",\"blue-collar\",\"entrepreneur\",\"technician\",\"admin.\",\"admin.\",\"blue-collar\",\"retired\",\"blue-collar\",\"technician\",\"admin.\",\"blue-collar\",\"blue-collar\",\"entrepreneur\",\"management\",\"unemployed\",\"management\",\"management\",\"management\",\"technician\",\"services\",\"retired\",\"blue-collar\",\"unemployed\",\"management\",\"blue-collar\",\"entrepreneur\",\"unemployed\",\"technician\",\"blue-collar\",\"management\",\"self-employed\",\"services\",\"management\",\"retired\",\"technician\",\"self-employed\",\"services\",\"blue-collar\",\"admin.\",\"unemployed\",\"retired\",\"retired\",\"admin.\",\"unemployed\",\"blue-collar\",\"entrepreneur\",\"management\",\"management\",\"housemaid\",\"admin.\",\"technician\",\"blue-collar\",\"blue-collar\",\"blue-collar\",\"services\",\"technician\",\"technician\",\"technician\"],\"x0\":\" \",\"xaxis\":\"x\",\"y\":[187,102,118,89,102,315,231,149,302,309,240,131,185,169,271,98,161,47,164,164,193,8,454,70,119,212,157,119,130,472,488,139,97,174,95,145,32,121,217,60,46,263,240,977,315,72,73,355,320,60,175,256,323,340,163,221,135,73,221,74,174,782,100,244,233,59,136,230,218,888,217,73,66,640,309,250,305,128,106,64,202,34,106,230,297,129,131,282,260,132,245,61,174,370,262,100,69,440,99,346,492,197,308,126,174,21,167,526,391,19,85,289,55,159,186,576,58,95,1353,88,57,256,127,60,506,70,168,51,207,164,327,538,131,441,263,127,66,203,281,137,302,91,90,97,10,184,118,63,96,41,100,63,31,146,113,175,165,99,416,202,297,301,253,125,321,231,88,107,54,161,23,32,57,228,70,389,35,195,382,173,44,510,185,325,296,58,220,161,210,8,240,64,95,255,4,234,309,80,45,102,98,311,195,217,8,12,29,606,199,107,104,249,161,27,77,183,360,262,105,145,859,128,58,161,31,99,112,202,229,113,222,113,161,43,303,421,606,358,182,90,89,258,265,277,9,415,585,16,73,279,1529,256,325,201,12,96,214,208,63,139,101,129,87,101,36,273,193,221,316,308,102,64,192,34,112,117,160,139,119,62,228,161,130,422,1029,393,143,79,249,535,537,55,132,414,61,101,10,15,208,59,247,274,271,425,93,51,54,101,36,423,266,174,163,18,517,256,257,123,472,38,174,204,95,131,63,67,61,249,47,12,107,63,340,204,96,285,52,55,170,173,155,150,98,195,112,49,426,104,161,56,97,280,198,94,105,73,109,52,211,119,65,155,221,266,187,179,83,246,462,169,358,277,335,73,182,485,178,250,468,77,122,114,66,345,198,214,176,95,32,71,234,67,106,81,259,331,92,90,64,105,124,130,275,62,427,88,161,220,185,85,392,141,112,318,453,144,23,835,166,133,203,187,399,140,7,441,58,147,166,921,176,11,170,145,238,51,120,86,264,106,68,97,106,322,80,193,61,71,276,140,143,89,85,673,189,65,570,94,333,189,365,112,220,322,433,134,357,78,31,107,49,139,71,85,114,8,12,392,151,127,93,200,162,130,413,251,125,247,265,64,128,427,188,315,372,741,125,806,193,69,52,125,227,239,128,233,576,415,127,214,922,184,308,139,80,129,356,54,81,319,277,114,93,130,1241,232,423,122,79,55,22,256,707,176,766,208,107,201,194,206,109,79,472,647,632,45,146,73,399,124,119,145,124,107,117,111,515,205,75,503,275,948,295,79,141,166,29,157,448,70,229,160,238,238,102,74,52,60,186,29,57,107,280,139,72,216,132,132,88,40,188,161,68,47,196,133,139,174,104,121,211,315,256,49,361,398,336,358,101,98,114,101,161,392,285,64,195,290,41,283,113,99,116,239,195,338,97,1386,97,99,76,517,456,635,126,148,12,58,62,120,13,661,200,36,76,1426,92,148,177,47,279,48,174,73,185,373,31,155,318,87,21,152,376,136,61,432,72,197,58,130,93,243,191,509,307,175,359,15,56,161,153,173,56,112,191,145,149,122,122,234,1169,180,343,38,236,25,87,251,113,533,98,317,267,216,457,50,46,133,138,574,224,115,262,255,338,137,99,260,93,169,150,90,127,109,127,559,306,63,36,265,235,120,199,96,122,64,439,177,249,972,63,143,345,559,253,580,144,301,53,189,101,62,26,16,157,225,712,70,103,268,298,134,124,340,254,404,747,140,54,651,57,193,157,61,97,235,135,109,94,251,76,363,106,281,78,56,127,74,161,109,189,648,63,160,514,278,520,217,117,344,365,181,441,226,54,140,45,165,114,274,107,181,205,103,152,307,109,127,131,334,285,77,132,173,90,97,208,461,306,719,376,140,894,269,141,243,163,339,118,355,191,173,264,29,103,34,348,116,269,95,337,71,37,57,114,224,140,36,45,250,100,48,367,203,99,565,275,39,73,273,65,311,308,170,31,138,106,193,162,300,278,174,120,220,99,56,7,319,882,40,228,123,69,102,137,270,119,189,80,106,147,238,86,373,12,16,98,390,197,87,146,516,224,63,371,43,608,126,63,305,272,171,55,209,248,47,844,75,256,78,350,72,29,142,89,87,137,124,11,219,88,385,293,48,316,190,75,94,51,338,230,181,127,83,187,274,86,553,511,85,174,165,197,285,77,107,137,135,465,245,34,82,61,257,543,161,50,69,324,80,270,178,135,23,252,342,851,157,44,198,203,219,349,1101,290,343,177,93,152,623,401,167,222,247,365,29,418,1438,221,107,17,350,376,47,534,105,119,15,325,65,74,133,371,117,323,124,111,76,126,88,229,106,124,143,227,91,484,119,151,205,133,598,271,127,137,158,333,67,301,548,147,111,94,124,301,132,556,47,391,357,138,13,59,333,249,565,109,243,129,196,162,790,61,232,12,69,121,353,471,142,159,211,328,62,119,58,144,7,583,230,176,222,75,9,159,4,301,14,33,210,127,97,107,76,98,265,114,157,768,154,134,61,380,239,242,756,236,221,135,272,668,224,944,920,354,466,114,144,118,90,215,146,379,545,149,52,9,124,350,162,206,307,184,25,19,165,470,410,77,35,232,86,51,249,214,118,312,114,174,62,294,51,125,272,143,1148,411,218,151,126,349,107,151,155,212,63,127,119,102,266,105,197,102,102,329,561,129,134,584,517,171,163,75,101,432,437,114,126,118,295,220,52,21,90,908,114,158,200,130,489,187,43,130,141,73,183,180,125,30,252,43,323,339,196,415,274,325,654,28,121,89,107,305,106,208,162,414,593,46,681,11,55,333,91,96,23,164,351,267,303,112,161,166,237,226,185,126,524,273,194,1092,209,67,87,99,22,94,76,148,73,155,75,360,613,68,166,146,678,50,158,95,175,255,240,101,108,206,666,193,232,130,7,342,176,903,57,897,350,342,121,150,61,174,138,205,111,14,158,297,218,197,231,55,636,115,136,266,505,18,698,139,318,618,243,57,169,238,34,49,161,438,275,150,273,61,149,154,201,206,1013,115,226,85,74,115,112,190,360,419,160,51,504,28,128,125,122,284,118,204,423,152,243,74,38,84,31,60,152,104,70,77,123,67,193,1291,7,215,63,154,360,145,79,131,146,362,96,142,109,322,64,210,199,84,369,194,210,120,78,97,128,29,42,1113,58,171,351,306,254,359,227,130,153,74,231,372,27,335,108,251,124,31,87,158,118,419,118,518,337,399,193,108,49,98,477,139,282,225,108,138,113,180,477,244,63,106,133,254,125,70,8,224,490,104,113,141,215,95,19,100,215,170,85,104,166,475,31,155,54,265,247,730,98,99,8,313,27,96,5,54,115,128,81,162,294,92,188,94,98,292,1019,301,88,92,42,136,373,117,103,203,547,332,110,219,19,206,25,168,190,144,542,16,37,182,261,102,382,138,297,25,1209,232,220,159,153,169,158,44,136,22,86,133,788,171,291,365,301,369,360,193,84,141,7,133,88,98,206,119,112,352,47,8,303,253,231,1434,297,236,171,188,170,412,138,517,296,286,22,167,55,858,327,234,362,200,344,81,66,974,164,106,224,351,55,104,210,94,109,75,145,77,105,187,247,59,211,126,170,369,208,131,100,112,35,425,378,71,181,30,788,265,306,231,76,187,551,202,797,254,197,1151,140,76,166,108,223,170,47,110,13,158,127,149,623,74,75,16,350,182,132,158,305,133,237,96,325,104,166,10,108,168,91,171,336,257,161,254,93,46,313,459,19,8,107,407,248,142,147,73,91,133,278,174,53,154,269,116,184,276,78,197,42,47,529,138,138,6,340,255,586,82,295,82,119,8,404,379,121,120,566,157,230,129,505,46,15,375,120,73,699,111,348,70,43,352,105,161,612,95,129,94,124,352,157,128,115,293,885,26,97,432,261,376,93,234,65,165,190,125,401,268,84,103,127,144,253,185,67,184,56,572,61,126,136,121,378,142,291,265,263,144,125,107,149,43,119,17,363,125,31,197,93,126,100,135,208,222,68,285,238,9,447,701,115,757,270,173,388,140,193,62,302,166,320,64,72,376,87,116,339,72,198,75,335,114,544,145,116,170,241,50,723,141,309,297,214,580,76,111,17,69,104,250,150,205,69,1223,210,179,253,344,81,149,79,176,636,238,131,27,687,355,141,61,1226,153,157,236,285,51,159,61,185,219,118,233,151,916,99,129,126,65,186,456,143,127,87,162,304,191,358,246,216,22,201,151,238,86,503,404,93,388,1288,206,73,265,55,135,124,400,90,414,17,153,151,83,559,148,182,113,878,206,129,60,165,36,237,357,1062,259,697,99,266,207,87,642,231,155,11,30,83,212,608,13,119,135,92,227,180,167,31,239,64,203,42,106,123,329,41,158,173,254,99,111,173,604,192,97,7,16,185,113,575,365,222,65,268,497,286,175,87,148,164,275,178,95,119,173,133,351,81,90,177,191,97,241,551,189,158,269,189,299,35,550,730,810,103,161,141,70,55,25,346,200,85,48,513,127,280,212,61,431,715,1126,134,380,480,227,243,21,168,197,157,384,51,218,11,143,125,392,510,638,94,113,316,159,146,176,186,20,434,177,1003,479,225,337,139,112,229,58,271,269,54,114,151,53,417,346,103,70,54,15,336,244,150,98,528,1106,97,244,75,563,321,212,111,131,216,216,256,74,337,352,621,787,76,135,129,51,472,224,80,51,223,117,77,25,837,69,327,1083,130,111,136,109,149,10,322,171,152,102,53,100,610,323,254,557,157,90,305,165,82,77,218,81,426,177,211,117,184,54,108,519,656,328,210,123,630,95,297,143,73,155,492,489,151,89,152,38,61,193,364,184,151,85,569,65,145,90,173,597,67,43,405,148,61,470,303,163,350,753,228,764,268,106,164,306,52,152,15,395,250,72,82,42,188,140,265,724,147,18,101,166,237,362,18,115,49,30,112,23,412,889,345,237,136,174,176,591,106,3,48,110,187,114,102,20,333,399,82,117,164,74,156,432,72,73,133,244,409,589,56,281,63,96,41,402,282,327,843,119,472,154,237,62,156,256,141,53,12,407,37,161,59,759,7,69,265,283,87,92,336,865,153,235,311,70,22,259,323,78,474,195,158,117,114,74,319,266,667,262,161,26,403,87,367,96,42,178,232,320,82,112,282,200,507,60,215,326,489,543,152,238,190,64,252,131,37,256,398,66,171,392,149,162,11,270,64,273,314,89,90,249,66,300,753,115,143,196,44,211,529,309,160,123,654,100,62,282,208,195,91,48,67,81,90,55,211,78,78,132,174,365,219,326,124,78,150,257,53,111,185,111,359,19,84,447,50,319,177,91,69,59,177,252,219,163,193,73,131,236,139,22,150,91,246,588,164,195,202,399,39,90,73,126,46,207,984,645,93,81,63,84,357,232,114,202,122,81,273,693,64,316,268,131,218,142,398,137,20,474,286,194,59,356,268,347,300,182,592,138,953,124,312,72,210,241,181,34,216,88,60,543,277,79,99,67,152,194,362,181,789,119,198,48,605,136,246,292,53,16,40,314,139,419,89,63,133,757,54,68,157,75,22,210,913,98,145,309,135,293,175,121,19,260,214,147,284,43,135,172,11,125,102,449,29,60,117,101,76,230,61,57,186,342,389,150,609,444,143,261,118,144,117,162,168,75,186,191,119,171,75,139,263,87,191,179,128,317,465,559,215,478,609,22,262,72,138,259,229,214,169,53,186,35,204,127,192,17,152,149,101,123,277,180,314,244,192,283,125,379,808,50,115,192,112,293,265,144,455,272,6,65,293,152,188,665,63,256,212,117,172,172,861,254,93,221,595,225,29,236,436,49,234,364,319,246,241,103,268,188,109,235,114,9,110,52,267,92,276,392,59,32,29,33,156,81,202,163,72,198,65,281,60,151,241,95,257,123,333,221,192,35,248,233,50,55,212,167,181,71,160,302,97,271,179,58,153,57,49,63,606,89,90,236,1217,161,178,236,222,127,120,610,342,134,259,380,114,267,99,68,147,156,146,339,266,408,71,75,167,170,110,318,265,188,82,86,366,1272,65,106,229,45,322,58,759,267,425,342,84,217,65,192,76,158,244,356,122,342,233,130,153,59,59,95,65,78,47,413,341,19,47,324,5,530,152,71,161,132,394,89,196,16,130,100,212,338,457,75,359,510,715,643,300,224,123,109,291,217,628,154,324,340,112,130,152,144,344,231,392,166,235,220,121,245,7,1206,275,64,157,119,144,111,122,59,56,526,100,146,149,22,90,134,77,53,81,218,390,341,361,163,788,204,129,164,189,53,115,64,32,79,167,106,178,499,123,39,233,90,91,85,405,160,59,238,338,760,51,52,156,205,161,207,345,46,248,75,641,18,51,248,176,702,201,174,167,69,183,262,101,226,102,305,20,390,282,203,263,251,26,483,8,921,197,167,64,137,137,371,198,310,247,86,371,55,189,132,312,164,183,369,85,106,113,69,103,111,340,14,674,402,179,514,186,117,193,937,150,84,130,102,16,117,251,638,354,209,136,130,91,171,146,110,104,179,139,181,102,291,162,86,382,679,250,107,218,130,120,120,181,248,570,94,67,406,20,273,159,109,130,167,194,155,108,42,62,307,400,779,43,458,496,150,247,119,48,662,533,268,21,186,350,142,54,75,172,18,86,304,203,182,260,279,128,105,708,63,999,55,209,36,564,649,152,101,207,329,279,118,46,467,79,329,194,108,172,15,151,146,790,757,578,156,15,372,254,203,69,77,304,14,64,61,14,171,19,56,332,264,439,99,35,242,278,143,37,111,163,101,144,516,71,331,122,110,70,68,225,161,333,104,361,121,140,133,364,63,85,301,50,249,126,51,374,368,278,566,185,167,632,328,160,241,471,18,432,265,101,111,551,342,12,401,57,87,153,336,209,65,143,89,203,323,438,14,156,104,18,531,121,195,170,166,2,206,73,134,115,123,328,405,178,293,347,396,339,200,25,658,245,120,92,132,266,639,575,226,126,13,91,145,256,175,77,1231,53,195,158,314,199,65,647,70,129,325,457,148,82,51,196,135,316,340,29,1473,153,71,222,405,549,72,339,94,21,604,95,315,85,25,216,986,178,270,279,513,122,168,49,386,277,114,131,248,113,48,25,405,49,475,144,95,85,38,290,389,92,112,160,88,320,226,155,126,21,81,238,158,472,420,219,259,284,15,78,277,77,46,169,137,318,100,267,84,104,109,136,166,269,331,335,379,122,85,485,167,191,323,162,207,73,165,216,119,433,59,79,159,143,46,166,77,365,198,204,159,50,63,74,157,97,224,469,137,138,382,206,286,134,79,67,79,172,72,54,652,168,600,85,156,217,255,15,333,275,105,77,50,154,115,84,342,180,510,61,238,160,158,40,119,522,308,166,139,387,388,116,346,405,184,173,449,627,152,634,92,243,300,186,150,140,108,100,475,330,55,138,304,228,174,198,114,189,24,489,210,1389,284,52,71,191,64,77,299,205,53,158,44,303,162,51,272,130,175,162,82,126,332,359,10,362,148,44,68,286,305,94,70,169,666,673,114,610,190,125,107,85,119,725,348,401,88,13,12,258,251,251,23,120,152,33,205,232,355,92,244,132,435,339,326,205,249,15,101,264,180,92,52,101,109,133,140,202,100,234,137,181,222,202,416,97,121,29,270,373,105,81,561,48,170,123,100,135,295,851,18,149,215,409,60,52,241,209,114,194,196,593,125,113,123,171,165,301,90,502,64,301,37,97,70,96,201,228,178,126,72,657,195,34,237,116,166,240,461,381,1074,193,76,271,183,154,174,151,96,24,226,246,129,134,305,27,322,248,251,22,85,92,1162,115,196,232,51,253,176,91,61,238,246,141,336,150,221,68,317,572,156,53,153,297,328,80,199,70,320,182,185,150,254,716,131,54,258,143,305,34,150,73,149,55,93,309,134,284,50,267,163,1171,15,16,829,58,180,181,124,310,182,222,87,40,18,116,73,195,117,105,118,71,214,188,192,51,144,159,258,135,302,73,225,116,129,147,321,145,153,30,350,188,107,251,168,59,209,226,266,171,186,483,102,308,200,48,630,121,226,323,395,227,133,232,154,144,251,441,62,112,794,143,171,134,170,236,195,125,134,354,160,433,270,687,182,48,71,210,580,212,166,102,185,67,84,612,59,528,136,120,352,328,1392,268,1086,100,72,121,889,144,446,199,303,85,412,171,185,61,711,110,186,62,67,225,84,203,1075,217,317,156,52,158,430,409,58,6,252,351,310,176,69,477,13,154,139,196,83,156,65,354,38,134,1047,123,162,34,75,197,380,77,157,678,41,530,102,735,153,324,333,342,159,128,209,160,674,91,832,333,109,523,43,561,70,59,833,221,6,199,47,112,231,154,102,343,108,291,250,50,135,622,213,108,177,7,165,212,132,163,175,79,230,1175,794,61,460,77,41,163,1156,93,90,561,74,183,92,443,165,215,15,179,216,27,619,349,762,13,340,76,574,149,74,85,229,609,67,166,166,146,85,87,144,48,156,140,105,90,63,270,634,190,250,104,26,17,330,625,163,138,144,56,285,7,198,114,38,45,327,164,264,86,56,75,83,220,109,464,283,154,74,67,45,150,80,72,399,14,360,307,31,151,8,111,190,329,91,443,16,205,81,393,250,126,804,90,74,240,77,455,64,102,283,804,313,86,113,120,145,77,99,135,322,154,252,133,101,57,13,176,76,262,272,109,214,69,435,20,263,759,786,111,79,173,267,90,265,93,108,171,149,150,74,76,1162,104,55,88,150,329,211,82,247,67,150,161,632,476,82,145,398,160,121,82,548,185,164,111,158,184,738,95,139,345,422,163,76,310,83,240,135,106,132,247,63,284,421,74,185,116,360,85,16,77,109,76,151,201,130,13,96,47,286,83,34,210,288,594,184,199,215,165,214,317,356,182,296,445,32,9,94,87,326,39,66,491,286,161,488,50,112,1425,47,65,1001,263,243,124,113,10,162,588,135,101,283,530,270,25,347,25,366,409,30,200,28,70,85,86,84,139,383,397,213,136,111,581,424,338,134,253,593,42,100,386,81,435,28,1017,454,266,1567,476,246,64,111,960,181,118,234,370,158,331,97,194,151,194,379,119,419,166,471,82,118,371,56,630,202,333,135,276,218,351,374,541,326,144,470,99,105,87,121,145,110,279,329,228,149,935,67,53,340,280,625,257,152,392,75,351,357,472,97,239,1476,235,69,236,201,25,437,426,369,55,97,233,117,162,92,288,96,213,306,463,221,350,329,446,61,243,34,102,653,519,50,115,384,46,14,207,115,116,106,290,228,1096,101,157,109,396,60,186,10,311,43,408,144,216,88,93,165,271,595,531,22,199,563,202,121,12,164,100,215,69,377,201,30,260,83,456,14,99,138,60,90,174,175,33,506,88,124,124,143,632,118,101,7,119,262,219,310,321,151,588,146,131,217,73,7,761,259,257,324,364,7,299,156,192,128,173,90,200,144,691,232,245,875,171,86,265,167,112,221,784,845,154,201,219,209,323,114,159,315,99,112,137,14,169,91,173,207,165,59,343,220,268,119,738,119,259,144,109,244,115,22,101,180,404,206,219,262,29,35,160,460,552,124,493,190,547,441,7,469,264,101,148,115,193,102,77,172,172,58,43,373,123,121,45,312,93,240,73,481,81,245,21,471,107,105,294,289,98,460,84,502,159,155,112,251,345,170,125,297,147,50,620,198,274,515,434,206,52,339,72,193,26,225,419,37,223,1195,170,79,335,246,112,820,124,183,1369,177,74,235,282,182,87,266,20,286,104,75,177,793,253,270,718,89,1020,198,289,179,179,37,83,66,85,14,97,152,11,175,45,360,249,600,163,200,312,214,147,136,125,96,101,277,162,63,272,363,667,80,224,317,341,112,83,123,174,210,185,159,10,460,109,539,124,253,36,78,298,164,337,92,191,81,113,494,178,8,190,114,28,321,236,118,136,100,315,294,219,262,298,636,100,392,100,32,609,60,77,150,531,398,115,1166,198,580,853,161,119,22,21,1100,25,152,13,302,386,280,76,567,106,181,83,249,148,190,1361,131,276,362,187,122,71,329,493,104,213,139,129,109,168,103,463,365,97,85,80,47,16,87,172,338,423,324,62,192,29,289,161,52,202,141,253,219,198,490,204,92,301,352,172,143,56,136,103,77,25,82,27,200,147,286,12,97,230,114,87,252,86,131,179,185,102,329,135,282,90,443,590,67,106,126,56,214,90,267,266,28,19,364,643,271,145,274,176,111,119,138,38,276,193,512,58,221,102,65,383,351,109,398,355,187,88,14,232,289,52,295,247,103,64,75,246,38,79,153,314,326,124,84,346,6,216,884,116,534,556,318,343,245,57,141,178,6,428,370,335,73,275,30,220,120,151,125,143,200,8,193,30,225,19,387,393,348,399,76,117,64,82,22,554,148,296,524,318,394,111,193,134,133,81,267,371,82,242,320,188,223,344,137,104,516,323,209,238,184,152,758,143,773,345,281,163,160,535,369,210,269,408,215,56,83,1082,231,59,138,23,60,103,156,329,58,39,95,330,450,71,155,177,523,79,126,135,512,102,96,67,109,23,112,8,57,74,136,132,123,66,130,70,283,327,397,228,608,216,164,441,33,255,120,227,176,63,648,262,337,44,284,73,263,622,99,951,300,58,184,161,252,173,149,166,67,316,498,100,200,643,88,914,173,164,227,77,82,445,544,242,38,120,110,99,393,79,112,104,75,45,108,528,266,272,100,136,92,168,125,165,273,82,146,178,168,118,158,78,353,148,60,131,152,397,88,283,387,351,111,740,30,733,111,230,61,114,460,130,57,190,296,80,83,43,376,238,90,299,283,174,57,79,70,267,608,88,370,91,100,417,157,222,520,58,185,149,276,84,103,174,76,104,259,216,92,238,183,445,485,85,333,97,157,560,10,430,135,696,34,177,206,531,35,90,79,65,370,84,62,134,114,66,296,94,243,242,75,77,374,99,168,112,455,226,154,94,430,277,80,359,126,59,293,109,285,275,188,367,78,227,180,97,150,99,44,98,139,26,5,90,200,137,150,197,560,488,172,388,204,771,118,163,150,128,439,78,206,289,46,11,313,264,225,340,97,341,781,580,137,62,407,333,237,157,217,220,196,55,239,651,66,72,52,205,609,62,147,465,398,246,416,140,377,330,250,176,130,131,229,29,213,409,104,96,134,378,299,198,641,166,189,330,107,120,241,221,152,59,164,163,47,321,42,272,294,386,51,78,10,219,226,246,67,216,142,122,95,45,429,473,34,339,33,262,91,260,131,173,38,146,112,177,247,88,543,76,221,566,67,259,94,258,398,10,107,585,28,47,124,169,258,435,105,72,152,676,173,33,869,219,171,10,85,294,63,155,149,425,375,72,53,17,39,232,425,103,1156,299,498,50,167,176,693,199,1052,24,438,275,589,304,249,167,79,254,107,119,38,70,136,344,123,122,149,30,63,534,234,410,301,76,138,395,282,48,171,28,273,72,249,104,37,417,464,131,98,684,13,137,244,103,37,59,342,75,106,381,317,237,524,366,85,10,1521,605,119,82,241,92,51,392,379,90,245,81,247,334,10,292,366,88,41,462,368,61,203,166,74,127,275,239,570,136,128,125,218,236,483,173,467,663,436,81,678,123,191,214,92,87,82,294,395,15,146,73,185,179,82,213,453,695,74,378,48,348,172,160,772,191,37,87,248,59,196,277,167,288,304,72,427,113,121,139,169,104,14,56,202,228,252,144,87,181,837,77,315,154,109,151,45,314,184,342,155,232,237,198,490,129,286,223,235,774,188,14,131,549,125,233,374,120,141,352,259,146,148,492,216,60,464,290,23,139,82,73,89,61,214,275,172,204,317,155,1144,72,51,49,18,262,50,380,340,281,150,125,219,64,108,242,969,34,383,207,105,318,284,18,254,23,241,9,363,207,144,100,9,168,93,13,88,157,339,230,504,334,474,359,325,206,200,94,176,39,248,242,46,89,250,209,257,9,111,240,94,57,201,69,591,47,15,90,112,73,163,139,119,542,231,251,222,838,1178,92,97,242,510,204,86,109,265,156,673,54,97,283,142,128,121,133,169,98,316,426,523,253,238,329,287,210,1504,631,135,169,511,456,65,298,155,118,605,827,206,68,769,100,68,228,295,83,287,88,157,83,170,213,386,134,87,42,633,72,221,171,379,437,380,580,115,91,159,84,106,230,86,233,196,308,397,757,181,133,322,77,189,126,401,76,20,424,124,66,182,113,90,343,48,81,89,87,138,239,59,126,146,116,272,461,14,79,101,239,97,434,159,371,29,210,30,225,310,102,62,263,106,112,298,105,268,155,205,248,55,411,83,862,373,98,170,249,114,401,500,53,61,84,114,226,151,61,133,41,85,239,19,128,548,127,136,266,81,197,335,243,245,156,140,780,465,126,88,1090,140,250,20,298,72,918,42,151,160,1152,226,237,126,1244,89,115,52,198,381,244,89,330,453,409,386,248,84,65,149,156,5,87,47,818,131,464,336,85,247,433,651,150,113,66,533,151,152,70,70,186,486,252,161,93,147,256,241,43,747,159,65,328,219,122,746,43,77,102,139,20,11,201,65,179,158,201,8,257,144,549,162,176,160,374,56,299,283,603,230,382,19,126,121,324,342,137,109,295,256,383,91,456,193,348,133,92,87,241,218,135,134,428,77,247,395,637,333,296,76,408,145,47,263,173,594,93,51,165,274,450,196,29,666,500,191,57,131,218,34,31,163,99,242,13,577,41,122,209,582,137,383,170,116,365,394,245,605,122,247,506,86,58,132,269,169,39,65,93,139,209,109,24,71,187,699,96,116,145,142,168,286,353,58,133,386,271,85,109,409,288,7,466,213,260,715,96,82,290,79,445,268,246,717,211,16,257,82,298,101,170,122,49,755,51,613,293,603,229,10,155,201,186,417,154,40,146,184,341,151,186,322,427,185,158,79,313,306,105,220,357,535,260,137,190,19,298,136,256,184,40,138,142,136,118,105,165,132,92,114,242,204,67,81,205,185,855,308,101,330,163,122,59,252,49,556,374,226,832,132,93,319,342,93,278,50,231,135,86,245,101,111,269,291,273,327,387,20,159,190,244,568,37,239,193,89,300,173,118,124,369,368,162,183,114,283,250,298,255,82,394,138,428,454,168,174,269,104,13,182,130,226,124,131,272,186,10,106,154,97,230,197,486,171,110,15,201,76,213,688,662,23,302,591,105,229,243,149,175,102,231,314,292,659,208,113,38,273,257,83,156,9,628],\"y0\":\" \",\"yaxis\":\"y\",\"type\":\"box\",\"quartilemethod\":\"exclusive\"}],                        {\"template\":{\"data\":{\"histogram2dcontour\":[{\"type\":\"histogram2dcontour\",\"colorbar\":{\"outlinewidth\":0,\"ticks\":\"\"},\"colorscale\":[[0.0,\"#0d0887\"],[0.1111111111111111,\"#46039f\"],[0.2222222222222222,\"#7201a8\"],[0.3333333333333333,\"#9c179e\"],[0.4444444444444444,\"#bd3786\"],[0.5555555555555556,\"#d8576b\"],[0.6666666666666666,\"#ed7953\"],[0.7777777777777778,\"#fb9f3a\"],[0.8888888888888888,\"#fdca26\"],[1.0,\"#f0f921\"]]}],\"choropleth\":[{\"type\":\"choropleth\",\"colorbar\":{\"outlinewidth\":0,\"ticks\":\"\"}}],\"histogram2d\":[{\"type\":\"histogram2d\",\"colorbar\":{\"outlinewidth\":0,\"ticks\":\"\"},\"colorscale\":[[0.0,\"#0d0887\"],[0.1111111111111111,\"#46039f\"],[0.2222222222222222,\"#7201a8\"],[0.3333333333333333,\"#9c179e\"],[0.4444444444444444,\"#bd3786\"],[0.5555555555555556,\"#d8576b\"],[0.6666666666666666,\"#ed7953\"],[0.7777777777777778,\"#fb9f3a\"],[0.8888888888888888,\"#fdca26\"],[1.0,\"#f0f921\"]]}],\"heatmap\":[{\"type\":\"heatmap\",\"colorbar\":{\"outlinewidth\":0,\"ticks\":\"\"},\"colorscale\":[[0.0,\"#0d0887\"],[0.1111111111111111,\"#46039f\"],[0.2222222222222222,\"#7201a8\"],[0.3333333333333333,\"#9c179e\"],[0.4444444444444444,\"#bd3786\"],[0.5555555555555556,\"#d8576b\"],[0.6666666666666666,\"#ed7953\"],[0.7777777777777778,\"#fb9f3a\"],[0.8888888888888888,\"#fdca26\"],[1.0,\"#f0f921\"]]}],\"heatmapgl\":[{\"type\":\"heatmapgl\",\"colorbar\":{\"outlinewidth\":0,\"ticks\":\"\"},\"colorscale\":[[0.0,\"#0d0887\"],[0.1111111111111111,\"#46039f\"],[0.2222222222222222,\"#7201a8\"],[0.3333333333333333,\"#9c179e\"],[0.4444444444444444,\"#bd3786\"],[0.5555555555555556,\"#d8576b\"],[0.6666666666666666,\"#ed7953\"],[0.7777777777777778,\"#fb9f3a\"],[0.8888888888888888,\"#fdca26\"],[1.0,\"#f0f921\"]]}],\"contourcarpet\":[{\"type\":\"contourcarpet\",\"colorbar\":{\"outlinewidth\":0,\"ticks\":\"\"}}],\"contour\":[{\"type\":\"contour\",\"colorbar\":{\"outlinewidth\":0,\"ticks\":\"\"},\"colorscale\":[[0.0,\"#0d0887\"],[0.1111111111111111,\"#46039f\"],[0.2222222222222222,\"#7201a8\"],[0.3333333333333333,\"#9c179e\"],[0.4444444444444444,\"#bd3786\"],[0.5555555555555556,\"#d8576b\"],[0.6666666666666666,\"#ed7953\"],[0.7777777777777778,\"#fb9f3a\"],[0.8888888888888888,\"#fdca26\"],[1.0,\"#f0f921\"]]}],\"surface\":[{\"type\":\"surface\",\"colorbar\":{\"outlinewidth\":0,\"ticks\":\"\"},\"colorscale\":[[0.0,\"#0d0887\"],[0.1111111111111111,\"#46039f\"],[0.2222222222222222,\"#7201a8\"],[0.3333333333333333,\"#9c179e\"],[0.4444444444444444,\"#bd3786\"],[0.5555555555555556,\"#d8576b\"],[0.6666666666666666,\"#ed7953\"],[0.7777777777777778,\"#fb9f3a\"],[0.8888888888888888,\"#fdca26\"],[1.0,\"#f0f921\"]]}],\"mesh3d\":[{\"type\":\"mesh3d\",\"colorbar\":{\"outlinewidth\":0,\"ticks\":\"\"}}],\"scatter\":[{\"fillpattern\":{\"fillmode\":\"overlay\",\"size\":10,\"solidity\":0.2},\"type\":\"scatter\"}],\"parcoords\":[{\"type\":\"parcoords\",\"line\":{\"colorbar\":{\"outlinewidth\":0,\"ticks\":\"\"}}}],\"scatterpolargl\":[{\"type\":\"scatterpolargl\",\"marker\":{\"colorbar\":{\"outlinewidth\":0,\"ticks\":\"\"}}}],\"bar\":[{\"error_x\":{\"color\":\"#2a3f5f\"},\"error_y\":{\"color\":\"#2a3f5f\"},\"marker\":{\"line\":{\"color\":\"#E5ECF6\",\"width\":0.5},\"pattern\":{\"fillmode\":\"overlay\",\"size\":10,\"solidity\":0.2}},\"type\":\"bar\"}],\"scattergeo\":[{\"type\":\"scattergeo\",\"marker\":{\"colorbar\":{\"outlinewidth\":0,\"ticks\":\"\"}}}],\"scatterpolar\":[{\"type\":\"scatterpolar\",\"marker\":{\"colorbar\":{\"outlinewidth\":0,\"ticks\":\"\"}}}],\"histogram\":[{\"marker\":{\"pattern\":{\"fillmode\":\"overlay\",\"size\":10,\"solidity\":0.2}},\"type\":\"histogram\"}],\"scattergl\":[{\"type\":\"scattergl\",\"marker\":{\"colorbar\":{\"outlinewidth\":0,\"ticks\":\"\"}}}],\"scatter3d\":[{\"type\":\"scatter3d\",\"line\":{\"colorbar\":{\"outlinewidth\":0,\"ticks\":\"\"}},\"marker\":{\"colorbar\":{\"outlinewidth\":0,\"ticks\":\"\"}}}],\"scattermapbox\":[{\"type\":\"scattermapbox\",\"marker\":{\"colorbar\":{\"outlinewidth\":0,\"ticks\":\"\"}}}],\"scatterternary\":[{\"type\":\"scatterternary\",\"marker\":{\"colorbar\":{\"outlinewidth\":0,\"ticks\":\"\"}}}],\"scattercarpet\":[{\"type\":\"scattercarpet\",\"marker\":{\"colorbar\":{\"outlinewidth\":0,\"ticks\":\"\"}}}],\"carpet\":[{\"aaxis\":{\"endlinecolor\":\"#2a3f5f\",\"gridcolor\":\"white\",\"linecolor\":\"white\",\"minorgridcolor\":\"white\",\"startlinecolor\":\"#2a3f5f\"},\"baxis\":{\"endlinecolor\":\"#2a3f5f\",\"gridcolor\":\"white\",\"linecolor\":\"white\",\"minorgridcolor\":\"white\",\"startlinecolor\":\"#2a3f5f\"},\"type\":\"carpet\"}],\"table\":[{\"cells\":{\"fill\":{\"color\":\"#EBF0F8\"},\"line\":{\"color\":\"white\"}},\"header\":{\"fill\":{\"color\":\"#C8D4E3\"},\"line\":{\"color\":\"white\"}},\"type\":\"table\"}],\"barpolar\":[{\"marker\":{\"line\":{\"color\":\"#E5ECF6\",\"width\":0.5},\"pattern\":{\"fillmode\":\"overlay\",\"size\":10,\"solidity\":0.2}},\"type\":\"barpolar\"}],\"pie\":[{\"automargin\":true,\"type\":\"pie\"}]},\"layout\":{\"autotypenumbers\":\"strict\",\"colorway\":[\"#636efa\",\"#EF553B\",\"#00cc96\",\"#ab63fa\",\"#FFA15A\",\"#19d3f3\",\"#FF6692\",\"#B6E880\",\"#FF97FF\",\"#FECB52\"],\"font\":{\"color\":\"#2a3f5f\"},\"hovermode\":\"closest\",\"hoverlabel\":{\"align\":\"left\"},\"paper_bgcolor\":\"white\",\"plot_bgcolor\":\"#E5ECF6\",\"polar\":{\"bgcolor\":\"#E5ECF6\",\"angularaxis\":{\"gridcolor\":\"white\",\"linecolor\":\"white\",\"ticks\":\"\"},\"radialaxis\":{\"gridcolor\":\"white\",\"linecolor\":\"white\",\"ticks\":\"\"}},\"ternary\":{\"bgcolor\":\"#E5ECF6\",\"aaxis\":{\"gridcolor\":\"white\",\"linecolor\":\"white\",\"ticks\":\"\"},\"baxis\":{\"gridcolor\":\"white\",\"linecolor\":\"white\",\"ticks\":\"\"},\"caxis\":{\"gridcolor\":\"white\",\"linecolor\":\"white\",\"ticks\":\"\"}},\"coloraxis\":{\"colorbar\":{\"outlinewidth\":0,\"ticks\":\"\"}},\"colorscale\":{\"sequential\":[[0.0,\"#0d0887\"],[0.1111111111111111,\"#46039f\"],[0.2222222222222222,\"#7201a8\"],[0.3333333333333333,\"#9c179e\"],[0.4444444444444444,\"#bd3786\"],[0.5555555555555556,\"#d8576b\"],[0.6666666666666666,\"#ed7953\"],[0.7777777777777778,\"#fb9f3a\"],[0.8888888888888888,\"#fdca26\"],[1.0,\"#f0f921\"]],\"sequentialminus\":[[0.0,\"#0d0887\"],[0.1111111111111111,\"#46039f\"],[0.2222222222222222,\"#7201a8\"],[0.3333333333333333,\"#9c179e\"],[0.4444444444444444,\"#bd3786\"],[0.5555555555555556,\"#d8576b\"],[0.6666666666666666,\"#ed7953\"],[0.7777777777777778,\"#fb9f3a\"],[0.8888888888888888,\"#fdca26\"],[1.0,\"#f0f921\"]],\"diverging\":[[0,\"#8e0152\"],[0.1,\"#c51b7d\"],[0.2,\"#de77ae\"],[0.3,\"#f1b6da\"],[0.4,\"#fde0ef\"],[0.5,\"#f7f7f7\"],[0.6,\"#e6f5d0\"],[0.7,\"#b8e186\"],[0.8,\"#7fbc41\"],[0.9,\"#4d9221\"],[1,\"#276419\"]]},\"xaxis\":{\"gridcolor\":\"white\",\"linecolor\":\"white\",\"ticks\":\"\",\"title\":{\"standoff\":15},\"zerolinecolor\":\"white\",\"automargin\":true,\"zerolinewidth\":2},\"yaxis\":{\"gridcolor\":\"white\",\"linecolor\":\"white\",\"ticks\":\"\",\"title\":{\"standoff\":15},\"zerolinecolor\":\"white\",\"automargin\":true,\"zerolinewidth\":2},\"scene\":{\"xaxis\":{\"backgroundcolor\":\"#E5ECF6\",\"gridcolor\":\"white\",\"linecolor\":\"white\",\"showbackground\":true,\"ticks\":\"\",\"zerolinecolor\":\"white\",\"gridwidth\":2},\"yaxis\":{\"backgroundcolor\":\"#E5ECF6\",\"gridcolor\":\"white\",\"linecolor\":\"white\",\"showbackground\":true,\"ticks\":\"\",\"zerolinecolor\":\"white\",\"gridwidth\":2},\"zaxis\":{\"backgroundcolor\":\"#E5ECF6\",\"gridcolor\":\"white\",\"linecolor\":\"white\",\"showbackground\":true,\"ticks\":\"\",\"zerolinecolor\":\"white\",\"gridwidth\":2}},\"shapedefaults\":{\"line\":{\"color\":\"#2a3f5f\"}},\"annotationdefaults\":{\"arrowcolor\":\"#2a3f5f\",\"arrowhead\":0,\"arrowwidth\":1},\"geo\":{\"bgcolor\":\"white\",\"landcolor\":\"#E5ECF6\",\"subunitcolor\":\"white\",\"showland\":true,\"showlakes\":true,\"lakecolor\":\"white\"},\"title\":{\"x\":0.05},\"mapbox\":{\"style\":\"light\"}}},\"xaxis\":{\"anchor\":\"y\",\"domain\":[0.0,1.0],\"title\":{\"text\":\"job\"}},\"yaxis\":{\"anchor\":\"x\",\"domain\":[0.0,1.0],\"title\":{\"text\":\"duration\"}},\"legend\":{\"title\":{\"text\":\"deposit\"},\"tracegroupgap\":0},\"margin\":{\"t\":60},\"boxmode\":\"group\"},                        {\"responsive\": true}                    ).then(function(){\n",
       "                            \n",
       "var gd = document.getElementById('918e158c-769f-4c44-bee7-e26ded95e411');\n",
       "var x = new MutationObserver(function (mutations, observer) {{\n",
       "        var display = window.getComputedStyle(gd).display;\n",
       "        if (!display || display === 'none') {{\n",
       "            console.log([gd, 'removed!']);\n",
       "            Plotly.purge(gd);\n",
       "            observer.disconnect();\n",
       "        }}\n",
       "}});\n",
       "\n",
       "// Listen for the removal of the full notebook cells\n",
       "var notebookContainer = gd.closest('#notebook-container');\n",
       "if (notebookContainer) {{\n",
       "    x.observe(notebookContainer, {childList: true});\n",
       "}}\n",
       "\n",
       "// Listen for the clearing of the current output cell\n",
       "var outputEl = gd.closest('.output');\n",
       "if (outputEl) {{\n",
       "    x.observe(outputEl, {childList: true});\n",
       "}}\n",
       "\n",
       "                        })                };                });            </script>        </div>"
      ]
     },
     "metadata": {},
     "output_type": "display_data"
    }
   ],
   "source": [
    "import plotly.express as px\n",
    "\n",
    "fig = px.box(term_duration, x=\"job\", y=\"duration\",color=\"deposit\")\n",
    "fig.update_traces(quartilemethod=\"exclusive\") # or \"inclusive\", or \"linear\" by default\n",
    "fig.show()"
   ]
  },
  {
   "cell_type": "markdown",
   "id": "6f09b0c1",
   "metadata": {
    "papermill": {
     "duration": 0.021726,
     "end_time": "2022-08-08T01:14:31.830377",
     "exception": false,
     "start_time": "2022-08-08T01:14:31.808651",
     "status": "completed"
    },
    "tags": []
   },
   "source": [
    "* The leads who have not made a deposit have lesser duration on calls\n",
    "* Comparing the average, the blue collar, entrepreneur have high duration in calls and student, retired have less duration in average\n",
    "* Large distribution of leads were from self employed clients and management people."
   ]
  },
  {
   "cell_type": "markdown",
   "id": "b8fcc6e6",
   "metadata": {
    "papermill": {
     "duration": 0.021537,
     "end_time": "2022-08-08T01:14:31.873577",
     "exception": false,
     "start_time": "2022-08-08T01:14:31.852040",
     "status": "completed"
    },
    "tags": []
   },
   "source": [
    "# <font color=\"#00bfff\"> 4. Model fitting and selection\n",
    "<a id=\"4\"></a> \n",
    "***"
   ]
  },
  {
   "cell_type": "markdown",
   "id": "819f06aa",
   "metadata": {
    "papermill": {
     "duration": 0.021778,
     "end_time": "2022-08-08T01:14:31.917048",
     "exception": false,
     "start_time": "2022-08-08T01:14:31.895270",
     "status": "completed"
    },
    "tags": []
   },
   "source": [
    "## Stratified Sampling: "
   ]
  },
  {
   "cell_type": "code",
   "execution_count": 18,
   "id": "29462237",
   "metadata": {
    "execution": {
     "iopub.execute_input": "2022-08-08T01:14:31.963261Z",
     "iopub.status.busy": "2022-08-08T01:14:31.962174Z",
     "iopub.status.idle": "2022-08-08T01:14:32.051213Z",
     "shell.execute_reply": "2022-08-08T01:14:32.050072Z"
    },
    "papermill": {
     "duration": 0.114781,
     "end_time": "2022-08-08T01:14:32.053702",
     "exception": false,
     "start_time": "2022-08-08T01:14:31.938921",
     "status": "completed"
    },
    "tags": []
   },
   "outputs": [
    {
     "data": {
      "text/plain": [
       "no     0.173894\n",
       "yes    0.026160\n",
       "Name: loan, dtype: float64"
      ]
     },
     "execution_count": 18,
     "metadata": {},
     "output_type": "execute_result"
    }
   ],
   "source": [
    "from sklearn.model_selection import StratifiedShuffleSplit\n",
    "# Here we split the data into training and test sets and implement a stratified shuffle split.\n",
    "stratified = StratifiedShuffleSplit(n_splits=1, test_size=0.2, random_state=42)\n",
    "\n",
    "for train_set, test_set in stratified.split(df, df[\"loan\"]):\n",
    "    stratified_train = df.loc[train_set]\n",
    "    stratified_test = df.loc[test_set]\n",
    "    \n",
    "stratified_train[\"loan\"].value_counts()/len(df)\n",
    "stratified_test[\"loan\"].value_counts()/len(df)"
   ]
  },
  {
   "cell_type": "code",
   "execution_count": 19,
   "id": "0ca61f64",
   "metadata": {
    "execution": {
     "iopub.execute_input": "2022-08-08T01:14:32.099422Z",
     "iopub.status.busy": "2022-08-08T01:14:32.098670Z",
     "iopub.status.idle": "2022-08-08T01:14:32.106993Z",
     "shell.execute_reply": "2022-08-08T01:14:32.106012Z"
    },
    "papermill": {
     "duration": 0.033997,
     "end_time": "2022-08-08T01:14:32.109493",
     "exception": false,
     "start_time": "2022-08-08T01:14:32.075496",
     "status": "completed"
    },
    "tags": []
   },
   "outputs": [
    {
     "data": {
      "text/plain": [
       "0    4697\n",
       "1    4232\n",
       "Name: deposit, dtype: int64"
      ]
     },
     "execution_count": 19,
     "metadata": {},
     "output_type": "execute_result"
    }
   ],
   "source": [
    "# Separate the labels and the features.\n",
    "train_data = stratified_train # Make a copy of the stratified training set.\n",
    "test_data = stratified_test\n",
    "train_data.shape\n",
    "test_data.shape\n",
    "train_data['deposit'].value_counts()"
   ]
  },
  {
   "cell_type": "code",
   "execution_count": 20,
   "id": "bc90b6cd",
   "metadata": {
    "execution": {
     "iopub.execute_input": "2022-08-08T01:14:32.157361Z",
     "iopub.status.busy": "2022-08-08T01:14:32.156585Z",
     "iopub.status.idle": "2022-08-08T01:14:32.178915Z",
     "shell.execute_reply": "2022-08-08T01:14:32.177945Z"
    },
    "papermill": {
     "duration": 0.049956,
     "end_time": "2022-08-08T01:14:32.181448",
     "exception": false,
     "start_time": "2022-08-08T01:14:32.131492",
     "status": "completed"
    },
    "tags": []
   },
   "outputs": [],
   "source": [
    "from sklearn.base import BaseEstimator, TransformerMixin\n",
    "from sklearn.utils import check_array\n",
    "from sklearn.preprocessing import LabelEncoder\n",
    "from scipy import sparse\n",
    "\n",
    "class CategoricalEncoder(BaseEstimator, TransformerMixin):\n",
    "\n",
    "    def __init__(self, encoding='onehot', categories='auto', dtype=np.float64,\n",
    "                 handle_unknown='error'):\n",
    "        self.encoding = encoding\n",
    "        self.categories = categories\n",
    "        self.dtype = dtype\n",
    "        self.handle_unknown = handle_unknown\n",
    "\n",
    "    def fit(self, X, y=None):\n",
    "       \n",
    "        if self.encoding not in ['onehot', 'onehot-dense', 'ordinal']:\n",
    "            template = (\"encoding should be either 'onehot', 'onehot-dense' \"\n",
    "                        \"or 'ordinal', got %s\")\n",
    "            raise ValueError(template % self.handle_unknown)\n",
    "\n",
    "        if self.handle_unknown not in ['error', 'ignore']:\n",
    "            template = (\"handle_unknown should be either 'error' or \"\n",
    "                        \"'ignore', got %s\")\n",
    "            raise ValueError(template % self.handle_unknown)\n",
    "\n",
    "        if self.encoding == 'ordinal' and self.handle_unknown == 'ignore':\n",
    "            raise ValueError(\"handle_unknown='ignore' is not supported for\"\n",
    "                             \" encoding='ordinal'\")\n",
    "\n",
    "        X = check_array(X, dtype=np.object, accept_sparse='csc', copy=True)\n",
    "        n_samples, n_features = X.shape\n",
    "\n",
    "        self._label_encoders_ = [LabelEncoder() for _ in range(n_features)]\n",
    "\n",
    "        for i in range(n_features):\n",
    "            le = self._label_encoders_[i]\n",
    "            Xi = X[:, i]\n",
    "            if self.categories == 'auto':\n",
    "                le.fit(Xi)\n",
    "            else:\n",
    "                valid_mask = np.in1d(Xi, self.categories[i])\n",
    "                if not np.all(valid_mask):\n",
    "                    if self.handle_unknown == 'error':\n",
    "                        diff = np.unique(Xi[~valid_mask])\n",
    "                        msg = (\"Found unknown categories {0} in column {1}\"\n",
    "                               \" during fit\".format(diff, i))\n",
    "                        raise ValueError(msg)\n",
    "                le.classes_ = np.array(np.sort(self.categories[i]))\n",
    "\n",
    "        self.categories_ = [le.classes_ for le in self._label_encoders_]\n",
    "\n",
    "        return self\n",
    "\n",
    "    def transform(self, X):\n",
    "        \n",
    "        X = check_array(X, accept_sparse='csc', dtype=np.object, copy=True)\n",
    "        n_samples, n_features = X.shape\n",
    "        X_int = np.zeros_like(X, dtype=np.int)\n",
    "        X_mask = np.ones_like(X, dtype=np.bool)\n",
    "\n",
    "        for i in range(n_features):\n",
    "            valid_mask = np.in1d(X[:, i], self.categories_[i])\n",
    "\n",
    "            if not np.all(valid_mask):\n",
    "                if self.handle_unknown == 'error':\n",
    "                    diff = np.unique(X[~valid_mask, i])\n",
    "                    msg = (\"Found unknown categories {0} in column {1}\"\n",
    "                           \" during transform\".format(diff, i))\n",
    "                    raise ValueError(msg)\n",
    "                else:\n",
    "                    # Set the problematic rows to an acceptable value and\n",
    "                    # continue `The rows are marked `X_mask` and will be\n",
    "                    # removed later.\n",
    "                    X_mask[:, i] = valid_mask\n",
    "                    X[:, i][~valid_mask] = self.categories_[i][0]\n",
    "            X_int[:, i] = self._label_encoders_[i].transform(X[:, i])\n",
    "\n",
    "        if self.encoding == 'ordinal':\n",
    "            return X_int.astype(self.dtype, copy=False)\n",
    "\n",
    "        mask = X_mask.ravel()\n",
    "        n_values = [cats.shape[0] for cats in self.categories_]\n",
    "        n_values = np.array([0] + n_values)\n",
    "        indices = np.cumsum(n_values)\n",
    "\n",
    "        column_indices = (X_int + indices[:-1]).ravel()[mask]\n",
    "        row_indices = np.repeat(np.arange(n_samples, dtype=np.int32),\n",
    "                                n_features)[mask]\n",
    "        data = np.ones(n_samples * n_features)[mask]\n",
    "\n",
    "        out = sparse.csc_matrix((data, (row_indices, column_indices)),\n",
    "                                shape=(n_samples, indices[-1]),\n",
    "                                dtype=self.dtype).tocsr()\n",
    "        if self.encoding == 'onehot-dense':\n",
    "            return out.toarray()\n",
    "        else:\n",
    "            return out"
   ]
  },
  {
   "cell_type": "code",
   "execution_count": 21,
   "id": "16f77a0a",
   "metadata": {
    "execution": {
     "iopub.execute_input": "2022-08-08T01:14:32.227119Z",
     "iopub.status.busy": "2022-08-08T01:14:32.226738Z",
     "iopub.status.idle": "2022-08-08T01:14:32.232520Z",
     "shell.execute_reply": "2022-08-08T01:14:32.231584Z"
    },
    "papermill": {
     "duration": 0.031311,
     "end_time": "2022-08-08T01:14:32.234658",
     "exception": false,
     "start_time": "2022-08-08T01:14:32.203347",
     "status": "completed"
    },
    "tags": []
   },
   "outputs": [],
   "source": [
    "from sklearn.base import BaseEstimator, TransformerMixin\n",
    "\n",
    "# A class to select numerical or categorical columns \n",
    "# since Scikit-Learn doesn't handle DataFrames yet\n",
    "class DataFrameSelector(BaseEstimator, TransformerMixin):\n",
    "    def __init__(self, attribute_names):\n",
    "        self.attribute_names = attribute_names\n",
    "    def fit(self, X, y=None):\n",
    "        return self\n",
    "    def transform(self, X):\n",
    "        return X[self.attribute_names]"
   ]
  },
  {
   "cell_type": "code",
   "execution_count": 22,
   "id": "0643c8e0",
   "metadata": {
    "execution": {
     "iopub.execute_input": "2022-08-08T01:14:32.281018Z",
     "iopub.status.busy": "2022-08-08T01:14:32.279771Z",
     "iopub.status.idle": "2022-08-08T01:14:32.290834Z",
     "shell.execute_reply": "2022-08-08T01:14:32.289657Z"
    },
    "papermill": {
     "duration": 0.036699,
     "end_time": "2022-08-08T01:14:32.293373",
     "exception": false,
     "start_time": "2022-08-08T01:14:32.256674",
     "status": "completed"
    },
    "tags": []
   },
   "outputs": [],
   "source": [
    "from sklearn.pipeline import Pipeline\n",
    "from sklearn.preprocessing import StandardScaler\n",
    "\n",
    "# Making pipelines\n",
    "numerical_pipeline = Pipeline([\n",
    "    (\"select_numeric\", DataFrameSelector([\"age\", \"balance\", \"day\", \"campaign\", \"pdays\", \"previous\",\"duration\"])),\n",
    "    (\"std_scaler\", StandardScaler()),\n",
    "])\n",
    "\n",
    "categorical_pipeline = Pipeline([\n",
    "    (\"select_cat\", DataFrameSelector([\"job\", \"education\", \"marital\", \"default\", \"housing\", \"loan\", \"contact\", \"month\",\n",
    "                                     \"poutcome\"])),\n",
    "    (\"cat_encoder\", CategoricalEncoder(encoding='onehot-dense'))\n",
    "])\n",
    "\n",
    "from sklearn.pipeline import FeatureUnion\n",
    "preprocess_pipeline = FeatureUnion(transformer_list=[\n",
    "        (\"numerical_pipeline\", numerical_pipeline),\n",
    "        (\"categorical_pipeline\", categorical_pipeline),\n",
    "    ])"
   ]
  },
  {
   "cell_type": "code",
   "execution_count": 23,
   "id": "a1f3824e",
   "metadata": {
    "execution": {
     "iopub.execute_input": "2022-08-08T01:14:32.341422Z",
     "iopub.status.busy": "2022-08-08T01:14:32.340756Z",
     "iopub.status.idle": "2022-08-08T01:14:32.417379Z",
     "shell.execute_reply": "2022-08-08T01:14:32.415575Z"
    },
    "papermill": {
     "duration": 0.106525,
     "end_time": "2022-08-08T01:14:32.422428",
     "exception": false,
     "start_time": "2022-08-08T01:14:32.315903",
     "status": "completed"
    },
    "tags": []
   },
   "outputs": [
    {
     "name": "stderr",
     "output_type": "stream",
     "text": [
      "/opt/conda/lib/python3.7/site-packages/ipykernel_launcher.py:31: DeprecationWarning:\n",
      "\n",
      "`np.object` is a deprecated alias for the builtin `object`. To silence this warning, use `object` by itself. Doing this will not modify any behavior and is safe. \n",
      "Deprecated in NumPy 1.20; for more details and guidance: https://numpy.org/devdocs/release/1.20.0-notes.html#deprecations\n",
      "\n",
      "/opt/conda/lib/python3.7/site-packages/ipykernel_launcher.py:57: DeprecationWarning:\n",
      "\n",
      "`np.object` is a deprecated alias for the builtin `object`. To silence this warning, use `object` by itself. Doing this will not modify any behavior and is safe. \n",
      "Deprecated in NumPy 1.20; for more details and guidance: https://numpy.org/devdocs/release/1.20.0-notes.html#deprecations\n",
      "\n",
      "/opt/conda/lib/python3.7/site-packages/ipykernel_launcher.py:59: DeprecationWarning:\n",
      "\n",
      "`np.int` is a deprecated alias for the builtin `int`. To silence this warning, use `int` by itself. Doing this will not modify any behavior and is safe. When replacing `np.int`, you may wish to use e.g. `np.int64` or `np.int32` to specify the precision. If you wish to review your current use, check the release note link for additional information.\n",
      "Deprecated in NumPy 1.20; for more details and guidance: https://numpy.org/devdocs/release/1.20.0-notes.html#deprecations\n",
      "\n",
      "/opt/conda/lib/python3.7/site-packages/ipykernel_launcher.py:60: DeprecationWarning:\n",
      "\n",
      "`np.bool` is a deprecated alias for the builtin `bool`. To silence this warning, use `bool` by itself. Doing this will not modify any behavior and is safe. If you specifically wanted the numpy scalar type, use `np.bool_` here.\n",
      "Deprecated in NumPy 1.20; for more details and guidance: https://numpy.org/devdocs/release/1.20.0-notes.html#deprecations\n",
      "\n"
     ]
    },
    {
     "data": {
      "text/plain": [
       "array([[ 1.14643868,  1.68761105,  1.69442818, ...,  0.        ,\n",
       "         0.        ,  1.        ],\n",
       "       [-0.86102339, -0.35066205, -0.5560058 , ...,  0.        ,\n",
       "         0.        ,  1.        ],\n",
       "       [-0.94466765, -0.20504785,  0.39154535, ...,  0.        ,\n",
       "         0.        ,  1.        ],\n",
       "       ...,\n",
       "       [-0.86102339, -0.26889658, -1.02978138, ...,  0.        ,\n",
       "         0.        ,  1.        ],\n",
       "       [ 0.2263519 , -0.32166951,  0.50998924, ...,  0.        ,\n",
       "         0.        ,  1.        ],\n",
       "       [-0.61009063, -0.34740446,  1.69442818, ...,  1.        ,\n",
       "         0.        ,  0.        ]])"
      ]
     },
     "execution_count": 23,
     "metadata": {},
     "output_type": "execute_result"
    }
   ],
   "source": [
    "X_train = preprocess_pipeline.fit_transform(train_data)\n",
    "X_train"
   ]
  },
  {
   "cell_type": "code",
   "execution_count": 24,
   "id": "68a78ebf",
   "metadata": {
    "execution": {
     "iopub.execute_input": "2022-08-08T01:14:32.472249Z",
     "iopub.status.busy": "2022-08-08T01:14:32.471544Z",
     "iopub.status.idle": "2022-08-08T01:14:32.479175Z",
     "shell.execute_reply": "2022-08-08T01:14:32.478130Z"
    },
    "papermill": {
     "duration": 0.034194,
     "end_time": "2022-08-08T01:14:32.481417",
     "exception": false,
     "start_time": "2022-08-08T01:14:32.447223",
     "status": "completed"
    },
    "tags": []
   },
   "outputs": [
    {
     "data": {
      "text/plain": [
       "(8929,)"
      ]
     },
     "execution_count": 24,
     "metadata": {},
     "output_type": "execute_result"
    }
   ],
   "source": [
    "y_train = train_data['deposit']\n",
    "y_test = test_data['deposit']\n",
    "y_train.shape"
   ]
  },
  {
   "cell_type": "code",
   "execution_count": 25,
   "id": "00faba89",
   "metadata": {
    "execution": {
     "iopub.execute_input": "2022-08-08T01:14:32.530372Z",
     "iopub.status.busy": "2022-08-08T01:14:32.529686Z",
     "iopub.status.idle": "2022-08-08T01:14:32.539413Z",
     "shell.execute_reply": "2022-08-08T01:14:32.538208Z"
    },
    "papermill": {
     "duration": 0.036839,
     "end_time": "2022-08-08T01:14:32.541825",
     "exception": false,
     "start_time": "2022-08-08T01:14:32.504986",
     "status": "completed"
    },
    "tags": []
   },
   "outputs": [
    {
     "data": {
      "text/plain": [
       "array([False, False,  True, ...,  True,  True, False])"
      ]
     },
     "execution_count": 25,
     "metadata": {},
     "output_type": "execute_result"
    }
   ],
   "source": [
    "from sklearn.preprocessing import LabelEncoder\n",
    "\n",
    "encode = LabelEncoder()\n",
    "y_train = encode.fit_transform(y_train)\n",
    "y_test = encode.fit_transform(y_test)\n",
    "y_train_yes = (y_train == 1)\n",
    "y_train\n",
    "y_train_yes"
   ]
  },
  {
   "cell_type": "code",
   "execution_count": 26,
   "id": "1b7d074a",
   "metadata": {
    "execution": {
     "iopub.execute_input": "2022-08-08T01:14:32.589423Z",
     "iopub.status.busy": "2022-08-08T01:14:32.588946Z",
     "iopub.status.idle": "2022-08-08T01:14:32.593850Z",
     "shell.execute_reply": "2022-08-08T01:14:32.592599Z"
    },
    "papermill": {
     "duration": 0.031513,
     "end_time": "2022-08-08T01:14:32.596220",
     "exception": false,
     "start_time": "2022-08-08T01:14:32.564707",
     "status": "completed"
    },
    "tags": []
   },
   "outputs": [],
   "source": [
    "some_instance = X_train[1250]"
   ]
  },
  {
   "cell_type": "code",
   "execution_count": 27,
   "id": "98865b61",
   "metadata": {
    "execution": {
     "iopub.execute_input": "2022-08-08T01:14:32.643940Z",
     "iopub.status.busy": "2022-08-08T01:14:32.643268Z",
     "iopub.status.idle": "2022-08-08T01:14:32.924484Z",
     "shell.execute_reply": "2022-08-08T01:14:32.922857Z"
    },
    "papermill": {
     "duration": 0.308217,
     "end_time": "2022-08-08T01:14:32.927454",
     "exception": false,
     "start_time": "2022-08-08T01:14:32.619237",
     "status": "completed"
    },
    "tags": []
   },
   "outputs": [],
   "source": [
    "# Time for Classification Models\n",
    "import time\n",
    "\n",
    "\n",
    "from sklearn.decomposition import PCA\n",
    "from sklearn.preprocessing import StandardScaler, LabelEncoder\n",
    " \n",
    "from sklearn.linear_model import LogisticRegression\n",
    "from sklearn.svm import SVC\n",
    "from sklearn.neighbors import KNeighborsClassifier\n",
    "from sklearn import tree\n",
    "from sklearn.neural_network import MLPClassifier\n",
    "from sklearn.neighbors import KNeighborsClassifier\n",
    "from sklearn.ensemble import GradientBoostingClassifier\n",
    "from sklearn.gaussian_process.kernels import RBF\n",
    "from sklearn.ensemble import RandomForestClassifier\n",
    "from sklearn.naive_bayes import GaussianNB\n",
    "\n",
    "\n",
    "dict_classifiers = {\n",
    "    \"Logistic Regression\": LogisticRegression(),\n",
    "    \"Nearest Neighbors\": KNeighborsClassifier(),\n",
    "    \"Linear SVM\": SVC(),\n",
    "    \"Gradient Boosting Classifier\": GradientBoostingClassifier(),\n",
    "    \"Decision Tree\": tree.DecisionTreeClassifier(),\n",
    "    \"Random Forest\": RandomForestClassifier(n_estimators=18),\n",
    "    \"Neural Net\": MLPClassifier(alpha=1),\n",
    "    \"Naive Bayes\": GaussianNB()\n",
    "}"
   ]
  },
  {
   "cell_type": "code",
   "execution_count": 28,
   "id": "85784440",
   "metadata": {
    "execution": {
     "iopub.execute_input": "2022-08-08T01:14:32.976610Z",
     "iopub.status.busy": "2022-08-08T01:14:32.975103Z",
     "iopub.status.idle": "2022-08-08T01:14:32.984344Z",
     "shell.execute_reply": "2022-08-08T01:14:32.983299Z"
    },
    "papermill": {
     "duration": 0.036181,
     "end_time": "2022-08-08T01:14:32.986652",
     "exception": false,
     "start_time": "2022-08-08T01:14:32.950471",
     "status": "completed"
    },
    "tags": []
   },
   "outputs": [],
   "source": [
    "#  Thanks to Ahspinar for the function. \n",
    "no_classifiers = len(dict_classifiers.keys())\n",
    "\n",
    "def batch_classify(X_train, Y_train, verbose = True):\n",
    "    df_results = pd.DataFrame(data=np.zeros(shape=(no_classifiers,3)), columns = ['classifier', 'train_score', 'training_time'])\n",
    "    count = 0\n",
    "    for key, classifier in dict_classifiers.items():\n",
    "        t_start = time.clock()\n",
    "        classifier.fit(X_train, Y_train)\n",
    "        t_end = time.clock()\n",
    "        t_diff = t_end - t_start\n",
    "        train_score = classifier.score(X_train, Y_train)\n",
    "        df_results.loc[count,'classifier'] = key\n",
    "        df_results.loc[count,'train_score'] = train_score\n",
    "        df_results.loc[count,'training_time'] = t_diff\n",
    "        if verbose:\n",
    "            print(\"trained {c} in {f:.2f} s\".format(c=key, f=t_diff))\n",
    "        count+=1\n",
    "    return df_results"
   ]
  },
  {
   "cell_type": "code",
   "execution_count": 29,
   "id": "3d88e586",
   "metadata": {
    "execution": {
     "iopub.execute_input": "2022-08-08T01:14:33.034289Z",
     "iopub.status.busy": "2022-08-08T01:14:33.033090Z",
     "iopub.status.idle": "2022-08-08T01:14:53.884022Z",
     "shell.execute_reply": "2022-08-08T01:14:53.882196Z"
    },
    "papermill": {
     "duration": 20.880093,
     "end_time": "2022-08-08T01:14:53.889358",
     "exception": false,
     "start_time": "2022-08-08T01:14:33.009265",
     "status": "completed"
    },
    "tags": []
   },
   "outputs": [
    {
     "name": "stderr",
     "output_type": "stream",
     "text": [
      "/opt/conda/lib/python3.7/site-packages/ipykernel_launcher.py:8: DeprecationWarning:\n",
      "\n",
      "time.clock has been deprecated in Python 3.3 and will be removed from Python 3.8: use time.perf_counter or time.process_time instead\n",
      "\n",
      "/opt/conda/lib/python3.7/site-packages/sklearn/linear_model/_logistic.py:818: ConvergenceWarning:\n",
      "\n",
      "lbfgs failed to converge (status=1):\n",
      "STOP: TOTAL NO. of ITERATIONS REACHED LIMIT.\n",
      "\n",
      "Increase the number of iterations (max_iter) or scale the data as shown in:\n",
      "    https://scikit-learn.org/stable/modules/preprocessing.html\n",
      "Please also refer to the documentation for alternative solver options:\n",
      "    https://scikit-learn.org/stable/modules/linear_model.html#logistic-regression\n",
      "\n",
      "/opt/conda/lib/python3.7/site-packages/ipykernel_launcher.py:10: DeprecationWarning:\n",
      "\n",
      "time.clock has been deprecated in Python 3.3 and will be removed from Python 3.8: use time.perf_counter or time.process_time instead\n",
      "\n",
      "/opt/conda/lib/python3.7/site-packages/ipykernel_launcher.py:8: DeprecationWarning:\n",
      "\n",
      "time.clock has been deprecated in Python 3.3 and will be removed from Python 3.8: use time.perf_counter or time.process_time instead\n",
      "\n",
      "/opt/conda/lib/python3.7/site-packages/ipykernel_launcher.py:10: DeprecationWarning:\n",
      "\n",
      "time.clock has been deprecated in Python 3.3 and will be removed from Python 3.8: use time.perf_counter or time.process_time instead\n",
      "\n"
     ]
    },
    {
     "name": "stdout",
     "output_type": "stream",
     "text": [
      "trained Logistic Regression in 0.96 s\n",
      "trained Nearest Neighbors in 0.01 s\n"
     ]
    },
    {
     "name": "stderr",
     "output_type": "stream",
     "text": [
      "/opt/conda/lib/python3.7/site-packages/ipykernel_launcher.py:8: DeprecationWarning:\n",
      "\n",
      "time.clock has been deprecated in Python 3.3 and will be removed from Python 3.8: use time.perf_counter or time.process_time instead\n",
      "\n",
      "/opt/conda/lib/python3.7/site-packages/ipykernel_launcher.py:10: DeprecationWarning:\n",
      "\n",
      "time.clock has been deprecated in Python 3.3 and will be removed from Python 3.8: use time.perf_counter or time.process_time instead\n",
      "\n"
     ]
    },
    {
     "name": "stdout",
     "output_type": "stream",
     "text": [
      "trained Linear SVM in 3.24 s\n"
     ]
    },
    {
     "name": "stderr",
     "output_type": "stream",
     "text": [
      "/opt/conda/lib/python3.7/site-packages/ipykernel_launcher.py:8: DeprecationWarning:\n",
      "\n",
      "time.clock has been deprecated in Python 3.3 and will be removed from Python 3.8: use time.perf_counter or time.process_time instead\n",
      "\n",
      "/opt/conda/lib/python3.7/site-packages/ipykernel_launcher.py:10: DeprecationWarning:\n",
      "\n",
      "time.clock has been deprecated in Python 3.3 and will be removed from Python 3.8: use time.perf_counter or time.process_time instead\n",
      "\n",
      "/opt/conda/lib/python3.7/site-packages/ipykernel_launcher.py:8: DeprecationWarning:\n",
      "\n",
      "time.clock has been deprecated in Python 3.3 and will be removed from Python 3.8: use time.perf_counter or time.process_time instead\n",
      "\n",
      "/opt/conda/lib/python3.7/site-packages/ipykernel_launcher.py:10: DeprecationWarning:\n",
      "\n",
      "time.clock has been deprecated in Python 3.3 and will be removed from Python 3.8: use time.perf_counter or time.process_time instead\n",
      "\n",
      "/opt/conda/lib/python3.7/site-packages/ipykernel_launcher.py:8: DeprecationWarning:\n",
      "\n",
      "time.clock has been deprecated in Python 3.3 and will be removed from Python 3.8: use time.perf_counter or time.process_time instead\n",
      "\n"
     ]
    },
    {
     "name": "stdout",
     "output_type": "stream",
     "text": [
      "trained Gradient Boosting Classifier in 1.89 s\n",
      "trained Decision Tree in 0.10 s\n"
     ]
    },
    {
     "name": "stderr",
     "output_type": "stream",
     "text": [
      "/opt/conda/lib/python3.7/site-packages/ipykernel_launcher.py:10: DeprecationWarning:\n",
      "\n",
      "time.clock has been deprecated in Python 3.3 and will be removed from Python 3.8: use time.perf_counter or time.process_time instead\n",
      "\n",
      "/opt/conda/lib/python3.7/site-packages/ipykernel_launcher.py:8: DeprecationWarning:\n",
      "\n",
      "time.clock has been deprecated in Python 3.3 and will be removed from Python 3.8: use time.perf_counter or time.process_time instead\n",
      "\n"
     ]
    },
    {
     "name": "stdout",
     "output_type": "stream",
     "text": [
      "trained Random Forest in 0.26 s\n",
      "trained Neural Net in 36.71 s\n",
      "trained Naive Bayes in 0.06 s\n",
      "                     classifier  train_score  training_time\n",
      "4                 Decision Tree     1.000000       0.095774\n",
      "5                 Random Forest     0.997088       0.255264\n",
      "2                    Linear SVM     0.881958       3.239097\n",
      "1             Nearest Neighbors     0.863255       0.009630\n",
      "3  Gradient Boosting Classifier     0.861463       1.886544\n",
      "6                    Neural Net     0.856983      36.705568\n",
      "0           Logistic Regression     0.830776       0.957500\n",
      "7                   Naive Bayes     0.721693       0.064725\n"
     ]
    },
    {
     "name": "stderr",
     "output_type": "stream",
     "text": [
      "/opt/conda/lib/python3.7/site-packages/ipykernel_launcher.py:10: DeprecationWarning:\n",
      "\n",
      "time.clock has been deprecated in Python 3.3 and will be removed from Python 3.8: use time.perf_counter or time.process_time instead\n",
      "\n",
      "/opt/conda/lib/python3.7/site-packages/ipykernel_launcher.py:8: DeprecationWarning:\n",
      "\n",
      "time.clock has been deprecated in Python 3.3 and will be removed from Python 3.8: use time.perf_counter or time.process_time instead\n",
      "\n",
      "/opt/conda/lib/python3.7/site-packages/ipykernel_launcher.py:10: DeprecationWarning:\n",
      "\n",
      "time.clock has been deprecated in Python 3.3 and will be removed from Python 3.8: use time.perf_counter or time.process_time instead\n",
      "\n"
     ]
    }
   ],
   "source": [
    "df_results = batch_classify(X_train, y_train)\n",
    "print(df_results.sort_values(by='train_score', ascending=False))"
   ]
  },
  {
   "cell_type": "code",
   "execution_count": 30,
   "id": "52d13387",
   "metadata": {
    "execution": {
     "iopub.execute_input": "2022-08-08T01:14:53.978747Z",
     "iopub.status.busy": "2022-08-08T01:14:53.978232Z",
     "iopub.status.idle": "2022-08-08T01:15:26.058406Z",
     "shell.execute_reply": "2022-08-08T01:15:26.056686Z"
    },
    "papermill": {
     "duration": 32.112165,
     "end_time": "2022-08-08T01:15:26.063201",
     "exception": false,
     "start_time": "2022-08-08T01:14:53.951036",
     "status": "completed"
    },
    "tags": []
   },
   "outputs": [
    {
     "name": "stderr",
     "output_type": "stream",
     "text": [
      "/opt/conda/lib/python3.7/site-packages/sklearn/linear_model/_logistic.py:818: ConvergenceWarning:\n",
      "\n",
      "lbfgs failed to converge (status=1):\n",
      "STOP: TOTAL NO. of ITERATIONS REACHED LIMIT.\n",
      "\n",
      "Increase the number of iterations (max_iter) or scale the data as shown in:\n",
      "    https://scikit-learn.org/stable/modules/preprocessing.html\n",
      "Please also refer to the documentation for alternative solver options:\n",
      "    https://scikit-learn.org/stable/modules/linear_model.html#logistic-regression\n",
      "\n",
      "/opt/conda/lib/python3.7/site-packages/sklearn/linear_model/_logistic.py:818: ConvergenceWarning:\n",
      "\n",
      "lbfgs failed to converge (status=1):\n",
      "STOP: TOTAL NO. of ITERATIONS REACHED LIMIT.\n",
      "\n",
      "Increase the number of iterations (max_iter) or scale the data as shown in:\n",
      "    https://scikit-learn.org/stable/modules/preprocessing.html\n",
      "Please also refer to the documentation for alternative solver options:\n",
      "    https://scikit-learn.org/stable/modules/linear_model.html#logistic-regression\n",
      "\n"
     ]
    }
   ],
   "source": [
    "# Use Cross-validation.\n",
    "from sklearn.model_selection import cross_val_score\n",
    "\n",
    "# Logistic Regression\n",
    "log_reg = LogisticRegression()\n",
    "log_scores = cross_val_score(log_reg, X_train, y_train, cv=3)\n",
    "log_reg_mean = log_scores.mean()\n",
    "\n",
    "# SVC\n",
    "svc_clf = SVC()\n",
    "svc_scores = cross_val_score(svc_clf, X_train, y_train, cv=3)\n",
    "svc_mean = svc_scores.mean()\n",
    "\n",
    "# KNearestNeighbors\n",
    "knn_clf = KNeighborsClassifier()\n",
    "knn_scores = cross_val_score(knn_clf, X_train, y_train, cv=3)\n",
    "knn_mean = knn_scores.mean()\n",
    "\n",
    "# Decision Tree\n",
    "tree_clf = tree.DecisionTreeClassifier()\n",
    "tree_scores = cross_val_score(tree_clf, X_train, y_train, cv=3)\n",
    "tree_mean = tree_scores.mean()\n",
    "\n",
    "# Gradient Boosting Classifier\n",
    "grad_clf = GradientBoostingClassifier()\n",
    "grad_scores = cross_val_score(grad_clf, X_train, y_train, cv=3)\n",
    "grad_mean = grad_scores.mean()\n",
    "\n",
    "# Random Forest Classifier\n",
    "rand_clf = RandomForestClassifier(n_estimators=18)\n",
    "rand_scores = cross_val_score(rand_clf, X_train, y_train, cv=3)\n",
    "rand_mean = rand_scores.mean()\n",
    "\n",
    "# NeuralNet Classifier\n",
    "neural_clf = MLPClassifier(alpha=1)\n",
    "neural_scores = cross_val_score(neural_clf, X_train, y_train, cv=3)\n",
    "neural_mean = neural_scores.mean()\n",
    "\n",
    "# Naives Bayes\n",
    "nav_clf = GaussianNB()\n",
    "nav_scores = cross_val_score(nav_clf, X_train, y_train, cv=3)\n",
    "nav_mean = neural_scores.mean()\n",
    "\n",
    "# Create a Dataframe with the results.\n",
    "d = {'Classifiers': ['Logistic Reg.', 'SVC', 'KNN', 'Dec Tree', 'Grad B CLF', 'Rand FC', 'Neural Classifier', 'Naives Bayes'], \n",
    "    'Crossval Mean Scores': [log_reg_mean, svc_mean, knn_mean, tree_mean, grad_mean, rand_mean, neural_mean, nav_mean]}\n",
    "\n",
    "result_df = pd.DataFrame(data=d)"
   ]
  },
  {
   "cell_type": "code",
   "execution_count": 31,
   "id": "f0185a52",
   "metadata": {
    "execution": {
     "iopub.execute_input": "2022-08-08T01:15:26.147543Z",
     "iopub.status.busy": "2022-08-08T01:15:26.147123Z",
     "iopub.status.idle": "2022-08-08T01:15:26.159498Z",
     "shell.execute_reply": "2022-08-08T01:15:26.158254Z"
    },
    "papermill": {
     "duration": 0.040209,
     "end_time": "2022-08-08T01:15:26.161957",
     "exception": false,
     "start_time": "2022-08-08T01:15:26.121748",
     "status": "completed"
    },
    "tags": []
   },
   "outputs": [
    {
     "data": {
      "text/html": [
       "<div>\n",
       "<style scoped>\n",
       "    .dataframe tbody tr th:only-of-type {\n",
       "        vertical-align: middle;\n",
       "    }\n",
       "\n",
       "    .dataframe tbody tr th {\n",
       "        vertical-align: top;\n",
       "    }\n",
       "\n",
       "    .dataframe thead th {\n",
       "        text-align: right;\n",
       "    }\n",
       "</style>\n",
       "<table border=\"1\" class=\"dataframe\">\n",
       "  <thead>\n",
       "    <tr style=\"text-align: right;\">\n",
       "      <th></th>\n",
       "      <th>Classifiers</th>\n",
       "      <th>Crossval Mean Scores</th>\n",
       "    </tr>\n",
       "  </thead>\n",
       "  <tbody>\n",
       "    <tr>\n",
       "      <th>1</th>\n",
       "      <td>SVC</td>\n",
       "      <td>0.851831</td>\n",
       "    </tr>\n",
       "    <tr>\n",
       "      <th>6</th>\n",
       "      <td>Neural Classifier</td>\n",
       "      <td>0.846791</td>\n",
       "    </tr>\n",
       "    <tr>\n",
       "      <th>7</th>\n",
       "      <td>Naives Bayes</td>\n",
       "      <td>0.846791</td>\n",
       "    </tr>\n",
       "    <tr>\n",
       "      <th>4</th>\n",
       "      <td>Grad B CLF</td>\n",
       "      <td>0.844328</td>\n",
       "    </tr>\n",
       "    <tr>\n",
       "      <th>5</th>\n",
       "      <td>Rand FC</td>\n",
       "      <td>0.841528</td>\n",
       "    </tr>\n",
       "    <tr>\n",
       "      <th>0</th>\n",
       "      <td>Logistic Reg.</td>\n",
       "      <td>0.828536</td>\n",
       "    </tr>\n",
       "    <tr>\n",
       "      <th>2</th>\n",
       "      <td>KNN</td>\n",
       "      <td>0.804569</td>\n",
       "    </tr>\n",
       "    <tr>\n",
       "      <th>3</th>\n",
       "      <td>Dec Tree</td>\n",
       "      <td>0.785978</td>\n",
       "    </tr>\n",
       "  </tbody>\n",
       "</table>\n",
       "</div>"
      ],
      "text/plain": [
       "         Classifiers  Crossval Mean Scores\n",
       "1                SVC              0.851831\n",
       "6  Neural Classifier              0.846791\n",
       "7       Naives Bayes              0.846791\n",
       "4         Grad B CLF              0.844328\n",
       "5            Rand FC              0.841528\n",
       "0      Logistic Reg.              0.828536\n",
       "2                KNN              0.804569\n",
       "3           Dec Tree              0.785978"
      ]
     },
     "execution_count": 31,
     "metadata": {},
     "output_type": "execute_result"
    }
   ],
   "source": [
    "# All our models perform well but I will go with GradientBoosting.\n",
    "result_df = result_df.sort_values(by=['Crossval Mean Scores'], ascending=False)\n",
    "result_df"
   ]
  },
  {
   "cell_type": "code",
   "execution_count": 32,
   "id": "5abcf1d2",
   "metadata": {
    "execution": {
     "iopub.execute_input": "2022-08-08T01:15:26.212212Z",
     "iopub.status.busy": "2022-08-08T01:15:26.211755Z",
     "iopub.status.idle": "2022-08-08T01:15:29.941267Z",
     "shell.execute_reply": "2022-08-08T01:15:29.940068Z"
    },
    "papermill": {
     "duration": 3.758023,
     "end_time": "2022-08-08T01:15:29.944091",
     "exception": false,
     "start_time": "2022-08-08T01:15:26.186068",
     "status": "completed"
    },
    "tags": []
   },
   "outputs": [],
   "source": [
    "# Cross validate our Gradient Boosting Classifier\n",
    "from sklearn.model_selection import cross_val_predict\n",
    "\n",
    "y_train_pred = cross_val_predict(grad_clf, X_train, y_train, cv=3)"
   ]
  },
  {
   "cell_type": "code",
   "execution_count": 33,
   "id": "55d50048",
   "metadata": {
    "execution": {
     "iopub.execute_input": "2022-08-08T01:15:29.994692Z",
     "iopub.status.busy": "2022-08-08T01:15:29.994225Z",
     "iopub.status.idle": "2022-08-08T01:15:31.853296Z",
     "shell.execute_reply": "2022-08-08T01:15:31.851718Z"
    },
    "papermill": {
     "duration": 1.888141,
     "end_time": "2022-08-08T01:15:31.856885",
     "exception": false,
     "start_time": "2022-08-08T01:15:29.968744",
     "status": "completed"
    },
    "tags": []
   },
   "outputs": [
    {
     "name": "stdout",
     "output_type": "stream",
     "text": [
      "Gradient Boost Classifier accuracy is 0.84\n"
     ]
    }
   ],
   "source": [
    "from sklearn.metrics import accuracy_score\n",
    "grad_clf.fit(X_train, y_train)\n",
    "print (\"Gradient Boost Classifier accuracy is %2.2f\" % accuracy_score(y_train, y_train_pred))"
   ]
  },
  {
   "cell_type": "code",
   "execution_count": 34,
   "id": "b3386adb",
   "metadata": {
    "execution": {
     "iopub.execute_input": "2022-08-08T01:15:31.906617Z",
     "iopub.status.busy": "2022-08-08T01:15:31.906192Z",
     "iopub.status.idle": "2022-08-08T01:15:31.922846Z",
     "shell.execute_reply": "2022-08-08T01:15:31.921705Z"
    },
    "papermill": {
     "duration": 0.045366,
     "end_time": "2022-08-08T01:15:31.926534",
     "exception": false,
     "start_time": "2022-08-08T01:15:31.881168",
     "status": "completed"
    },
    "tags": []
   },
   "outputs": [
    {
     "name": "stdout",
     "output_type": "stream",
     "text": [
      "Precision Score:  0.8232886058676371\n",
      "Recall Score:  0.8553875236294896\n"
     ]
    }
   ],
   "source": [
    "# Let's find the scores  for precision and recall.\n",
    "from sklearn.metrics import precision_score, recall_score\n",
    "# The model is 77% sure that the potential client will suscribe to a term deposit. \n",
    "# The model is only retaining 60% of clients that agree to suscribe a term deposit.\n",
    "print('Precision Score: ', precision_score(y_train, y_train_pred))\n",
    "# The classifier only detects 60% of potential clients that will suscribe to a term deposit.\n",
    "print('Recall Score: ', recall_score(y_train, y_train_pred))"
   ]
  },
  {
   "cell_type": "code",
   "execution_count": 35,
   "id": "e439ba27",
   "metadata": {
    "execution": {
     "iopub.execute_input": "2022-08-08T01:15:31.978703Z",
     "iopub.status.busy": "2022-08-08T01:15:31.978283Z",
     "iopub.status.idle": "2022-08-08T01:15:31.990876Z",
     "shell.execute_reply": "2022-08-08T01:15:31.989678Z"
    },
    "papermill": {
     "duration": 0.040948,
     "end_time": "2022-08-08T01:15:31.993299",
     "exception": false,
     "start_time": "2022-08-08T01:15:31.952351",
     "status": "completed"
    },
    "tags": []
   },
   "outputs": [
    {
     "data": {
      "text/plain": [
       "0.8390311739483138"
      ]
     },
     "execution_count": 35,
     "metadata": {},
     "output_type": "execute_result"
    }
   ],
   "source": [
    "from sklearn.metrics import f1_score\n",
    "\n",
    "f1_score(y_train, y_train_pred)"
   ]
  },
  {
   "cell_type": "code",
   "execution_count": 36,
   "id": "5cb9b397",
   "metadata": {
    "execution": {
     "iopub.execute_input": "2022-08-08T01:15:32.044011Z",
     "iopub.status.busy": "2022-08-08T01:15:32.043541Z",
     "iopub.status.idle": "2022-08-08T01:15:32.052485Z",
     "shell.execute_reply": "2022-08-08T01:15:32.051024Z"
    },
    "papermill": {
     "duration": 0.037657,
     "end_time": "2022-08-08T01:15:32.055050",
     "exception": false,
     "start_time": "2022-08-08T01:15:32.017393",
     "status": "completed"
    },
    "tags": []
   },
   "outputs": [
    {
     "data": {
      "text/plain": [
       "array([-3.65645629])"
      ]
     },
     "execution_count": 36,
     "metadata": {},
     "output_type": "execute_result"
    }
   ],
   "source": [
    "y_scores = grad_clf.decision_function([some_instance])\n",
    "y_scores"
   ]
  },
  {
   "cell_type": "code",
   "execution_count": 37,
   "id": "fa54b11b",
   "metadata": {
    "execution": {
     "iopub.execute_input": "2022-08-08T01:15:32.106816Z",
     "iopub.status.busy": "2022-08-08T01:15:32.106428Z",
     "iopub.status.idle": "2022-08-08T01:15:32.111889Z",
     "shell.execute_reply": "2022-08-08T01:15:32.110587Z"
    },
    "papermill": {
     "duration": 0.034774,
     "end_time": "2022-08-08T01:15:32.114445",
     "exception": false,
     "start_time": "2022-08-08T01:15:32.079671",
     "status": "completed"
    },
    "tags": []
   },
   "outputs": [],
   "source": [
    "# Increasing the threshold decreases the recall.\n",
    "threshold = 0\n",
    "y_some_digit_pred = (y_scores > threshold)"
   ]
  },
  {
   "cell_type": "code",
   "execution_count": 38,
   "id": "5f44f4ec",
   "metadata": {
    "execution": {
     "iopub.execute_input": "2022-08-08T01:15:32.166859Z",
     "iopub.status.busy": "2022-08-08T01:15:32.166467Z",
     "iopub.status.idle": "2022-08-08T01:15:56.606128Z",
     "shell.execute_reply": "2022-08-08T01:15:56.604393Z"
    },
    "papermill": {
     "duration": 24.470895,
     "end_time": "2022-08-08T01:15:56.610774",
     "exception": false,
     "start_time": "2022-08-08T01:15:32.139879",
     "status": "completed"
    },
    "tags": []
   },
   "outputs": [],
   "source": [
    "y_scores = cross_val_predict(grad_clf, X_train, y_train, cv=3, method=\"decision_function\")\n",
    "neural_y_scores = cross_val_predict(neural_clf, X_train, y_train, cv=3, method=\"predict_proba\")\n",
    "naives_y_scores = cross_val_predict(nav_clf, X_train, y_train, cv=3, method=\"predict_proba\")"
   ]
  },
  {
   "cell_type": "code",
   "execution_count": 39,
   "id": "b4889768",
   "metadata": {
    "execution": {
     "iopub.execute_input": "2022-08-08T01:15:56.693183Z",
     "iopub.status.busy": "2022-08-08T01:15:56.692783Z",
     "iopub.status.idle": "2022-08-08T01:15:56.698522Z",
     "shell.execute_reply": "2022-08-08T01:15:56.697583Z"
    },
    "papermill": {
     "duration": 0.033774,
     "end_time": "2022-08-08T01:15:56.700848",
     "exception": false,
     "start_time": "2022-08-08T01:15:56.667074",
     "status": "completed"
    },
    "tags": []
   },
   "outputs": [],
   "source": [
    "# hack to work around issue #9589 introduced in Scikit-Learn 0.19.0\n",
    "if y_scores.ndim == 2:\n",
    "    y_scores = y_scores[:, 1]\n",
    "\n",
    "if neural_y_scores.ndim == 2:\n",
    "    neural_y_scores = neural_y_scores[:, 1]\n",
    "    \n",
    "if naives_y_scores.ndim == 2:\n",
    "    naives_y_scores = naives_y_scores[:, 1]"
   ]
  },
  {
   "cell_type": "code",
   "execution_count": 40,
   "id": "0dd41ad1",
   "metadata": {
    "execution": {
     "iopub.execute_input": "2022-08-08T01:15:56.752479Z",
     "iopub.status.busy": "2022-08-08T01:15:56.751758Z",
     "iopub.status.idle": "2022-08-08T01:15:56.757846Z",
     "shell.execute_reply": "2022-08-08T01:15:56.757004Z"
    },
    "papermill": {
     "duration": 0.034764,
     "end_time": "2022-08-08T01:15:56.759986",
     "exception": false,
     "start_time": "2022-08-08T01:15:56.725222",
     "status": "completed"
    },
    "tags": []
   },
   "outputs": [
    {
     "data": {
      "text/plain": [
       "(8929,)"
      ]
     },
     "execution_count": 40,
     "metadata": {},
     "output_type": "execute_result"
    }
   ],
   "source": [
    "y_scores.shape"
   ]
  },
  {
   "cell_type": "code",
   "execution_count": 41,
   "id": "5df7d6ac",
   "metadata": {
    "execution": {
     "iopub.execute_input": "2022-08-08T01:15:56.810696Z",
     "iopub.status.busy": "2022-08-08T01:15:56.809921Z",
     "iopub.status.idle": "2022-08-08T01:15:56.817370Z",
     "shell.execute_reply": "2022-08-08T01:15:56.816398Z"
    },
    "papermill": {
     "duration": 0.035668,
     "end_time": "2022-08-08T01:15:56.819719",
     "exception": false,
     "start_time": "2022-08-08T01:15:56.784051",
     "status": "completed"
    },
    "tags": []
   },
   "outputs": [],
   "source": [
    "# How can we decide which threshold to use? We want to return the scores instead of predictions with this code.\n",
    "from sklearn.metrics import precision_recall_curve\n",
    "\n",
    "precisions, recalls, threshold = precision_recall_curve(y_train, y_scores)"
   ]
  },
  {
   "cell_type": "code",
   "execution_count": 42,
   "id": "b1da4dd4",
   "metadata": {
    "execution": {
     "iopub.execute_input": "2022-08-08T01:15:56.872045Z",
     "iopub.status.busy": "2022-08-08T01:15:56.870961Z",
     "iopub.status.idle": "2022-08-08T01:15:57.220194Z",
     "shell.execute_reply": "2022-08-08T01:15:57.218961Z"
    },
    "papermill": {
     "duration": 0.378524,
     "end_time": "2022-08-08T01:15:57.222740",
     "exception": false,
     "start_time": "2022-08-08T01:15:56.844216",
     "status": "completed"
    },
    "tags": []
   },
   "outputs": [
    {
     "data": {
      "image/png": "[encoded data removed]",
      "text/plain": [
       "<Figure size 864x576 with 1 Axes>"
      ]
     },
     "metadata": {
      "needs_background": "light"
     },
     "output_type": "display_data"
    }
   ],
   "source": [
    "def precision_recall_curve(precisions, recalls, thresholds):\n",
    "    fig, ax = plt.subplots(figsize=(12,8))\n",
    "    plt.plot(thresholds, precisions[:-1], \"r--\", label=\"Precisions\")\n",
    "    plt.plot(thresholds, recalls[:-1], \"#424242\", label=\"Recalls\")\n",
    "    plt.title(\"Precision and Recall \\n Tradeoff\", fontsize=18)\n",
    "    plt.ylabel(\"Level of Precision and Recall\", fontsize=16)\n",
    "    plt.xlabel(\"Thresholds\", fontsize=16)\n",
    "    plt.legend(loc=\"best\", fontsize=14)\n",
    "    plt.xlim([-2, 4.7])\n",
    "    plt.ylim([0, 1])\n",
    "    plt.axvline(x=0.13, linewidth=3, color=\"#0B3861\")\n",
    "    plt.annotate('Best Precision and \\n Recall Balance \\n is at 0.13 \\n threshold ', xy=(0.13, 0.83), xytext=(55, -40),\n",
    "             textcoords=\"offset points\",\n",
    "            arrowprops=dict(facecolor='black', shrink=0.05),\n",
    "                fontsize=12, \n",
    "                color='k')\n",
    "    \n",
    "precision_recall_curve(precisions, recalls, threshold)\n",
    "plt.show()"
   ]
  },
  {
   "cell_type": "markdown",
   "id": "1b2c1500",
   "metadata": {
    "papermill": {
     "duration": 0.025081,
     "end_time": "2022-08-08T01:15:57.272844",
     "exception": false,
     "start_time": "2022-08-08T01:15:57.247763",
     "status": "completed"
    },
    "tags": []
   },
   "source": [
    "# ROC Curve"
   ]
  },
  {
   "cell_type": "code",
   "execution_count": 43,
   "id": "0cacc08b",
   "metadata": {
    "execution": {
     "iopub.execute_input": "2022-08-08T01:15:57.328072Z",
     "iopub.status.busy": "2022-08-08T01:15:57.327605Z",
     "iopub.status.idle": "2022-08-08T01:15:57.341246Z",
     "shell.execute_reply": "2022-08-08T01:15:57.339697Z"
    },
    "papermill": {
     "duration": 0.045105,
     "end_time": "2022-08-08T01:15:57.344000",
     "exception": false,
     "start_time": "2022-08-08T01:15:57.298895",
     "status": "completed"
    },
    "tags": []
   },
   "outputs": [],
   "source": [
    "from sklearn.metrics import roc_curve\n",
    "# Gradient Boosting Classifier\n",
    "# Neural Classifier\n",
    "# Naives Bayes Classifier\n",
    "grd_fpr, grd_tpr, thresold = roc_curve(y_train, y_scores)\n",
    "neu_fpr, neu_tpr, neu_threshold = roc_curve(y_train, neural_y_scores)\n",
    "nav_fpr, nav_tpr, nav_threshold = roc_curve(y_train, naives_y_scores)"
   ]
  },
  {
   "cell_type": "code",
   "execution_count": 44,
   "id": "f57ccf3e",
   "metadata": {
    "execution": {
     "iopub.execute_input": "2022-08-08T01:15:57.399364Z",
     "iopub.status.busy": "2022-08-08T01:15:57.398918Z",
     "iopub.status.idle": "2022-08-08T01:15:57.706414Z",
     "shell.execute_reply": "2022-08-08T01:15:57.705033Z"
    },
    "papermill": {
     "duration": 0.337967,
     "end_time": "2022-08-08T01:15:57.709107",
     "exception": false,
     "start_time": "2022-08-08T01:15:57.371140",
     "status": "completed"
    },
    "tags": []
   },
   "outputs": [
    {
     "data": {
      "image/png": "[encoded data removed]",
      "text/plain": [
       "<Figure size 720x432 with 1 Axes>"
      ]
     },
     "metadata": {
      "needs_background": "light"
     },
     "output_type": "display_data"
    }
   ],
   "source": [
    "def graph_roc_curve(false_positive_rate, true_positive_rate, label=None):\n",
    "    plt.figure(figsize=(10,6))\n",
    "    plt.title('ROC Curve \\n Gradient Boosting Classifier', fontsize=18)\n",
    "    plt.plot(false_positive_rate, true_positive_rate, label=label)\n",
    "    plt.plot([0, 1], [0, 1], '#0C8EE0')\n",
    "    plt.axis([0, 1, 0, 1])\n",
    "    plt.xlabel('False Positive Rate', fontsize=16)\n",
    "    plt.ylabel('True Positive Rate', fontsize=16)\n",
    "    plt.annotate('ROC Score of 91.73% \\n (Not the best score)', xy=(0.25, 0.9), xytext=(0.4, 0.85),\n",
    "            arrowprops=dict(facecolor='#F75118', shrink=0.05),\n",
    "            )\n",
    "    plt.annotate('Minimum ROC Score of 50% \\n (This is the minimum score to get)', xy=(0.5, 0.5), xytext=(0.6, 0.3),\n",
    "                arrowprops=dict(facecolor='#F75118', shrink=0.05),\n",
    "                )\n",
    "    \n",
    "    \n",
    "graph_roc_curve(grd_fpr, grd_tpr, threshold)\n",
    "plt.show()"
   ]
  },
  {
   "cell_type": "code",
   "execution_count": 45,
   "id": "f9972e8c",
   "metadata": {
    "execution": {
     "iopub.execute_input": "2022-08-08T01:15:57.763871Z",
     "iopub.status.busy": "2022-08-08T01:15:57.763439Z",
     "iopub.status.idle": "2022-08-08T01:15:57.783429Z",
     "shell.execute_reply": "2022-08-08T01:15:57.782171Z"
    },
    "papermill": {
     "duration": 0.050864,
     "end_time": "2022-08-08T01:15:57.786065",
     "exception": false,
     "start_time": "2022-08-08T01:15:57.735201",
     "status": "completed"
    },
    "tags": []
   },
   "outputs": [
    {
     "name": "stdout",
     "output_type": "stream",
     "text": [
      "Gradient Boost Classifier Score:  0.9173746625867858\n",
      "Neural Classifier Score:  0.9162909358143174\n",
      "Naives Bayes Classifier:  0.803352414343226\n"
     ]
    }
   ],
   "source": [
    "from sklearn.metrics import roc_auc_score\n",
    "\n",
    "print('Gradient Boost Classifier Score: ', roc_auc_score(y_train, y_scores))\n",
    "print('Neural Classifier Score: ', roc_auc_score(y_train, neural_y_scores))\n",
    "print('Naives Bayes Classifier: ', roc_auc_score(y_train, naives_y_scores))"
   ]
  },
  {
   "cell_type": "code",
   "execution_count": 46,
   "id": "0b81eae9",
   "metadata": {
    "execution": {
     "iopub.execute_input": "2022-08-08T01:15:57.841257Z",
     "iopub.status.busy": "2022-08-08T01:15:57.840564Z",
     "iopub.status.idle": "2022-08-08T01:15:58.146175Z",
     "shell.execute_reply": "2022-08-08T01:15:58.145234Z"
    },
    "papermill": {
     "duration": 0.336168,
     "end_time": "2022-08-08T01:15:58.148844",
     "exception": false,
     "start_time": "2022-08-08T01:15:57.812676",
     "status": "completed"
    },
    "tags": []
   },
   "outputs": [
    {
     "data": {
      "image/png": "[encoded data removed]",
      "text/plain": [
       "<Figure size 576x432 with 1 Axes>"
      ]
     },
     "metadata": {
      "needs_background": "light"
     },
     "output_type": "display_data"
    }
   ],
   "source": [
    "def graph_roc_curve_multiple(grd_fpr, grd_tpr, neu_fpr, neu_tpr, nav_fpr, nav_tpr):\n",
    "    plt.figure(figsize=(8,6))\n",
    "    plt.title('ROC Curve \\n Top 3 Classifiers', fontsize=18)\n",
    "    plt.plot(grd_fpr, grd_tpr, label='Gradient Boosting Classifier (Score = 91.72%)')\n",
    "    plt.plot(neu_fpr, neu_tpr, label='Neural Classifier (Score = 91.54%)')\n",
    "    plt.plot(nav_fpr, nav_tpr, label='Naives Bayes Classifier (Score = 80.33%)')\n",
    "    plt.plot([0, 1], [0, 1], 'k--')\n",
    "    plt.axis([0, 1, 0, 1])\n",
    "    plt.xlabel('False Positive Rate', fontsize=16)\n",
    "    plt.ylabel('True Positive Rate', fontsize=16)\n",
    "    plt.annotate('Minimum ROC Score of 50% \\n (This is the minimum score to get)', xy=(0.5, 0.5), xytext=(0.6, 0.3),\n",
    "                arrowprops=dict(facecolor='#6E726D', shrink=0.05),\n",
    "                )\n",
    "    plt.legend()\n",
    "    \n",
    "graph_roc_curve_multiple(grd_fpr, grd_tpr, neu_fpr, neu_tpr, nav_fpr, nav_tpr)\n",
    "plt.show()"
   ]
  },
  {
   "cell_type": "code",
   "execution_count": 47,
   "id": "d7dd12e9",
   "metadata": {
    "execution": {
     "iopub.execute_input": "2022-08-08T01:15:58.207083Z",
     "iopub.status.busy": "2022-08-08T01:15:58.206660Z",
     "iopub.status.idle": "2022-08-08T01:15:58.214281Z",
     "shell.execute_reply": "2022-08-08T01:15:58.213483Z"
    },
    "papermill": {
     "duration": 0.040499,
     "end_time": "2022-08-08T01:15:58.216362",
     "exception": false,
     "start_time": "2022-08-08T01:15:58.175863",
     "status": "completed"
    },
    "tags": []
   },
   "outputs": [
    {
     "data": {
      "text/plain": [
       "array([[0.97482622, 0.02517378]])"
      ]
     },
     "execution_count": 47,
     "metadata": {},
     "output_type": "execute_result"
    }
   ],
   "source": [
    "grad_clf.predict_proba([some_instance])"
   ]
  },
  {
   "cell_type": "code",
   "execution_count": 48,
   "id": "3a55af5d",
   "metadata": {
    "execution": {
     "iopub.execute_input": "2022-08-08T01:15:58.273267Z",
     "iopub.status.busy": "2022-08-08T01:15:58.272177Z",
     "iopub.status.idle": "2022-08-08T01:15:58.280504Z",
     "shell.execute_reply": "2022-08-08T01:15:58.279387Z"
    },
    "papermill": {
     "duration": 0.039606,
     "end_time": "2022-08-08T01:15:58.282859",
     "exception": false,
     "start_time": "2022-08-08T01:15:58.243253",
     "status": "completed"
    },
    "tags": []
   },
   "outputs": [
    {
     "data": {
      "text/plain": [
       "array([0])"
      ]
     },
     "execution_count": 48,
     "metadata": {},
     "output_type": "execute_result"
    }
   ],
   "source": [
    "# Let's see what does our classifier predict.\n",
    "grad_clf.predict([some_instance]) "
   ]
  },
  {
   "cell_type": "code",
   "execution_count": 49,
   "id": "d36ad53c",
   "metadata": {
    "execution": {
     "iopub.execute_input": "2022-08-08T01:15:58.344858Z",
     "iopub.status.busy": "2022-08-08T01:15:58.344451Z",
     "iopub.status.idle": "2022-08-08T01:15:58.351640Z",
     "shell.execute_reply": "2022-08-08T01:15:58.350281Z"
    },
    "papermill": {
     "duration": 0.039133,
     "end_time": "2022-08-08T01:15:58.354206",
     "exception": false,
     "start_time": "2022-08-08T01:15:58.315073",
     "status": "completed"
    },
    "tags": []
   },
   "outputs": [
    {
     "data": {
      "text/plain": [
       "0"
      ]
     },
     "execution_count": 49,
     "metadata": {},
     "output_type": "execute_result"
    }
   ],
   "source": [
    "y_train[1250]"
   ]
  },
  {
   "cell_type": "markdown",
   "id": "ad3a875f",
   "metadata": {
    "papermill": {
     "duration": 0.026861,
     "end_time": "2022-08-08T01:15:58.408449",
     "exception": false,
     "start_time": "2022-08-08T01:15:58.381588",
     "status": "completed"
    },
    "tags": []
   },
   "source": [
    "# Which Features Influence the Result of a Term Deposit Suscription?\n",
    "## DecisionTreeClassifier:\n",
    "<a id=\"decision\"></a>\n",
    "The top three most important features for our classifier are **Duration (how long it took the conversation between the sales representative and the potential client), contact (number of contacts to the potential client within the same marketing campaign), month (the month of the year)."
   ]
  },
  {
   "cell_type": "code",
   "execution_count": 50,
   "id": "5924c9fd",
   "metadata": {
    "execution": {
     "iopub.execute_input": "2022-08-08T01:15:58.466179Z",
     "iopub.status.busy": "2022-08-08T01:15:58.465749Z",
     "iopub.status.idle": "2022-08-08T01:15:58.859192Z",
     "shell.execute_reply": "2022-08-08T01:15:58.857907Z"
    },
    "papermill": {
     "duration": 0.425951,
     "end_time": "2022-08-08T01:15:58.862123",
     "exception": false,
     "start_time": "2022-08-08T01:15:58.436172",
     "status": "completed"
    },
    "tags": []
   },
   "outputs": [
    {
     "name": "stdout",
     "output_type": "stream",
     "text": [
      "Feature ranking:\n",
      "1. feature 11 (0.591310)\n",
      "2. feature 8 (0.129966)\n",
      "3. feature 6 (0.067020)\n",
      "4. feature 13 (0.049923)\n",
      "5. feature 15 (0.038138)\n",
      "6. feature 14 (0.037830)\n",
      "7. feature 10 (0.026646)\n",
      "8. feature 5 (0.025842)\n",
      "9. feature 0 (0.017757)\n",
      "10. feature 12 (0.007889)\n",
      "11. feature 3 (0.005280)\n",
      "12. feature 9 (0.002200)\n",
      "13. feature 2 (0.000147)\n",
      "14. feature 1 (0.000050)\n",
      "15. feature 7 (0.000000)\n",
      "16. feature 4 (0.000000)\n"
     ]
    },
    {
     "data": {
      "image/png": "[encoded data removed]",
      "text/plain": [
       "<Figure size 864x432 with 1 Axes>"
      ]
     },
     "metadata": {},
     "output_type": "display_data"
    }
   ],
   "source": [
    "import numpy as np\n",
    "import matplotlib.pyplot as plt\n",
    "from sklearn import tree\n",
    "from sklearn.model_selection import train_test_split\n",
    "from sklearn.tree import DecisionTreeClassifier\n",
    "plt.style.use('seaborn-white')\n",
    "\n",
    "# Convert the columns into categorical variables\n",
    "term_deposits['job'] = term_deposits['job'].astype('category').cat.codes\n",
    "term_deposits['marital'] = term_deposits['marital'].astype('category').cat.codes\n",
    "term_deposits['education'] = term_deposits['education'].astype('category').cat.codes\n",
    "term_deposits['contact'] = term_deposits['contact'].astype('category').cat.codes\n",
    "term_deposits['poutcome'] = term_deposits['poutcome'].astype('category').cat.codes\n",
    "term_deposits['month'] = term_deposits['month'].astype('category').cat.codes\n",
    "term_deposits['default'] = term_deposits['default'].astype('category').cat.codes\n",
    "term_deposits['loan'] = term_deposits['loan'].astype('category').cat.codes\n",
    "term_deposits['housing'] = term_deposits['housing'].astype('category').cat.codes\n",
    "\n",
    "# Let's create new splittings like before but now we modified the data so we need to do it one more time.\n",
    "# Create train and test splits\n",
    "target_name = 'deposit'\n",
    "X = term_deposits.drop('deposit', axis=1)\n",
    "\n",
    "\n",
    "label=term_deposits[target_name]\n",
    "\n",
    "X_train, X_test, y_train, y_test = train_test_split(X,label,test_size=0.2, random_state=42, stratify=label)\n",
    "\n",
    "# Build a classification task using 3 informative features\n",
    "tree = tree.DecisionTreeClassifier(\n",
    "    class_weight='balanced',\n",
    "    min_weight_fraction_leaf = 0.01\n",
    "    \n",
    ")\n",
    "\n",
    "\n",
    "\n",
    "tree = tree.fit(X_train, y_train)\n",
    "importances = tree.feature_importances_\n",
    "feature_names = term_deposits.drop('deposit', axis=1).columns\n",
    "indices = np.argsort(importances)[::-1]\n",
    "\n",
    "# Print the feature ranking\n",
    "print(\"Feature ranking:\")\n",
    "\n",
    "for f in range(X_train.shape[1]):\n",
    "    print(\"%d. feature %d (%f)\" % (f + 1, indices[f], importances[indices[f]]))\n",
    "\n",
    "# Plot the feature importances of the forest\n",
    "def feature_importance_graph(indices, importances, feature_names):\n",
    "    plt.figure(figsize=(12,6))\n",
    "    plt.title(\"Determining Feature importances \\n with DecisionTreeClassifier\", fontsize=18)\n",
    "    plt.barh(range(len(indices)), importances[indices], color='#31B173',  align=\"center\")\n",
    "    plt.yticks(range(len(indices)), feature_names[indices], rotation='horizontal',fontsize=14)\n",
    "    plt.ylim([-1, len(indices)])\n",
    "    plt.axhline(y=1.85, xmin=0.21, xmax=0.952, color='k', linewidth=3, linestyle='--')\n",
    "    plt.text(0.30, 2.8, '46% Difference between \\n duration and contacts', color='k', fontsize=15)\n",
    "    \n",
    "feature_importance_graph(indices, importances, feature_names)\n",
    "plt.show()"
   ]
  },
  {
   "cell_type": "markdown",
   "id": "c61ea89e",
   "metadata": {
    "papermill": {
     "duration": 0.028261,
     "end_time": "2022-08-08T01:15:58.920470",
     "exception": false,
     "start_time": "2022-08-08T01:15:58.892209",
     "status": "completed"
    },
    "tags": []
   },
   "source": [
    "\n"
   ]
  },
  {
   "cell_type": "markdown",
   "id": "87a3de11",
   "metadata": {
    "papermill": {
     "duration": 0.027698,
     "end_time": "2022-08-08T01:15:58.976183",
     "exception": false,
     "start_time": "2022-08-08T01:15:58.948485",
     "status": "completed"
    },
    "tags": []
   },
   "source": [
    "A voting classifier is a machine learning estimator that trains various base models or estimators and predicts on the basis of aggregating the findings of each base estimator. The aggregating criteria can be combined decision of voting for each estimator output. The voting criteria can be of two types:\n",
    "\n",
    "* Hard Voting: Voting is calculated on the predicted output class.\n",
    "* Soft Voting: Voting is calculated on the predicted probability of the output class."
   ]
  },
  {
   "cell_type": "code",
   "execution_count": 51,
   "id": "c833fe67",
   "metadata": {
    "execution": {
     "iopub.execute_input": "2022-08-08T01:15:59.033793Z",
     "iopub.status.busy": "2022-08-08T01:15:59.033388Z",
     "iopub.status.idle": "2022-08-08T01:16:03.621215Z",
     "shell.execute_reply": "2022-08-08T01:16:03.619586Z"
    },
    "papermill": {
     "duration": 4.622316,
     "end_time": "2022-08-08T01:16:03.626197",
     "exception": false,
     "start_time": "2022-08-08T01:15:59.003881",
     "status": "completed"
    },
    "tags": []
   },
   "outputs": [
    {
     "data": {
      "text/plain": [
       "VotingClassifier(estimators=[('gbc', GradientBoostingClassifier()),\n",
       "                             ('nav', GaussianNB()),\n",
       "                             ('neural', MLPClassifier(alpha=1))],\n",
       "                 voting='soft')"
      ]
     },
     "execution_count": 51,
     "metadata": {},
     "output_type": "execute_result"
    }
   ],
   "source": [
    "# Our three classifiers are grad_clf, nav_clf and neural_clf\n",
    "from sklearn.ensemble import VotingClassifier\n",
    "\n",
    "voting_clf = VotingClassifier(\n",
    "    estimators=[('gbc', grad_clf), ('nav', nav_clf), ('neural', neural_clf)],\n",
    "    voting='soft'\n",
    ")\n",
    "\n",
    "voting_clf.fit(X_train, y_train)"
   ]
  },
  {
   "cell_type": "code",
   "execution_count": 52,
   "id": "88262f51",
   "metadata": {
    "execution": {
     "iopub.execute_input": "2022-08-08T01:16:03.743816Z",
     "iopub.status.busy": "2022-08-08T01:16:03.743371Z",
     "iopub.status.idle": "2022-08-08T01:16:11.130648Z",
     "shell.execute_reply": "2022-08-08T01:16:11.126362Z"
    },
    "papermill": {
     "duration": 7.436841,
     "end_time": "2022-08-08T01:16:11.135389",
     "exception": false,
     "start_time": "2022-08-08T01:16:03.698548",
     "status": "completed"
    },
    "tags": []
   },
   "outputs": [
    {
     "name": "stdout",
     "output_type": "stream",
     "text": [
      "GradientBoostingClassifier 0.8463949843260188\n",
      "GaussianNB 0.7514554411106136\n",
      "MLPClassifier 0.7536945812807881\n",
      "VotingClassifier 0.8087774294670846\n"
     ]
    }
   ],
   "source": [
    "from sklearn.metrics import accuracy_score\n",
    "\n",
    "for clf in (grad_clf, nav_clf, neural_clf, voting_clf):\n",
    "    clf.fit(X_train, y_train)\n",
    "    predict = clf.predict(X_test)\n",
    "    print(clf.__class__.__name__, accuracy_score(y_test, predict))"
   ]
  },
  {
   "cell_type": "markdown",
   "id": "4b954c30",
   "metadata": {
    "papermill": {
     "duration": 0.044408,
     "end_time": "2022-08-08T01:16:11.250354",
     "exception": false,
     "start_time": "2022-08-08T01:16:11.205946",
     "status": "completed"
    },
    "tags": []
   },
   "source": [
    "# <font color=\"#00bfff\"> 5. Conclusion\n",
    "<a id=\"5\"></a> \n",
    "***"
   ]
  },
  {
   "cell_type": "markdown",
   "id": "86f738f3",
   "metadata": {
    "papermill": {
     "duration": 0.029362,
     "end_time": "2022-08-08T01:16:11.308121",
     "exception": false,
     "start_time": "2022-08-08T01:16:11.278759",
     "status": "completed"
    },
    "tags": []
   },
   "source": [
    "**Gradient Boosting** classifier is the best model (84% accuracy) to predict whether or not a potential client will suscribe to a term deposit or not. \n",
    "\n",
    "\n",
    "* Focus on specific categories. The model shows that students and senior citizens respond better to proposal.So I would suggest focusing on these two groups and create different financial programs and marketing messages in advertising for each.\n",
    "* I would recommend creating a marketing campaign for people who didn't have any credits before (explaining how it works and what are the benefits).Recommendations for the Sales Department (Call Center)\n",
    "* Always contact clients by cellphone when possible\n",
    "* Target individuals with a higher duration,longer phone conversations perform better, so try to keep a conversation going as much as you can\n"
   ]
  }
 ],
 "metadata": {
  "kernelspec": {
   "display_name": "Python 3",
   "language": "python",
   "name": "python3"
  },
  "language_info": {
   "codemirror_mode": {
    "name": "ipython",
    "version": 3
   },
   "file_extension": ".py",
   "mimetype": "text/x-python",
   "name": "python",
   "nbconvert_exporter": "python",
   "pygments_lexer": "ipython3",
   "version": "3.7.12"
  },
  "papermill": {
   "default_parameters": {},
   "duration": 120.237978,
   "end_time": "2022-08-08T01:16:12.260993",
   "environment_variables": {},
   "exception": null,
   "input_path": "__notebook__.ipynb",
   "output_path": "__notebook__.ipynb",
   "parameters": {},
   "start_time": "2022-08-08T01:14:12.023015",
   "version": "2.3.4"
  }
 },
 "nbformat": 4,
 "nbformat_minor": 5
}
